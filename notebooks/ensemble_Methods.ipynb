{
 "cells": [
  {
   "cell_type": "markdown",
   "id": "36e23818",
   "metadata": {},
   "source": [
    "# About the notebook\n",
    "This script contains the results ofthree different ensemble methods (leave-one-out cross-validation, 10-fold cross-validation and bootstrapping) to get more robust predictions in my high dimensional dataset. "
   ]
  },
  {
   "cell_type": "code",
   "execution_count": 2,
   "id": "1bb4839c",
   "metadata": {},
   "outputs": [],
   "source": [
    "import pandas as pd\n",
    "import numpy as np\n",
    "import matplotlib.pyplot as plt\n",
    "import seaborn as sns\n",
    "from scipy import stats\n",
    "from scipy.signal import savgol_filter\n",
    "\n",
    "from sklearn.model_selection import train_test_split\n",
    "from sklearn.model_selection import RandomizedSearchCV\n",
    "from sklearn.model_selection import GridSearchCV\n",
    "from sklearn.metrics import roc_curve,auc,accuracy_score,precision_recall_curve\n",
    "from sklearn.linear_model import LogisticRegression,LogisticRegressionCV\n",
    "from sklearn.ensemble import RandomForestClassifier\n",
    "from sklearn.ensemble import GradientBoostingClassifier\n",
    "from sklearn.preprocessing import StandardScaler\n",
    "from sklearn.model_selection import StratifiedKFold\n",
    "from sklearn.decomposition import PCA\n",
    "from sklearn.model_selection import KFold\n",
    "from sklearn.model_selection import LeaveOneOut"
   ]
  },
  {
   "cell_type": "markdown",
   "id": "6c04445e",
   "metadata": {},
   "source": [
    "# Read in the data"
   ]
  },
  {
   "cell_type": "code",
   "execution_count": 3,
   "id": "c00cc020",
   "metadata": {},
   "outputs": [],
   "source": [
    "# params\n",
    "cancer_type = \"breast_cancer\"\n",
    "GC = \"corrected\"\n",
    "score = \"MIDPOINT\"\n",
    "amplitude = \"FFT\""
   ]
  },
  {
   "cell_type": "code",
   "execution_count": 4,
   "id": "3f4ff814",
   "metadata": {},
   "outputs": [],
   "source": [
    "# cancer features\n",
    "file = \"/data/gpfs-1/groups/ag_kircher/cfDNA-analysis/lea/cfDNA_classification_analyses/features/DELFI_\"+cancer_type+\"_\"+GC+\"_\"+score+\"_\"+amplitude+\"_features.csv\"\n",
    "c_features = pd.read_csv(file, sep=\"\\t\", index_col=0)\n",
    "\n",
    "file = \"/data/gpfs-1/groups/ag_kircher/cfDNA-analysis/lea/cfDNA_classification_analyses/features/DELFI_breast_cancer_metadata.tsv\"\n",
    "c_meta = pd.read_csv(file, sep='\\t', index_col='sample_name')\n",
    "\n",
    "c_features = c_features.reset_index(drop=False)\n",
    "c_features[['sample','p','score']] = c_features['index'].str.split('_',2, expand=True)\n",
    "c_features = c_features.set_index('sample')\n",
    "cancer = pd.concat([c_features, c_meta], axis=1)"
   ]
  },
  {
   "cell_type": "code",
   "execution_count": 5,
   "id": "81353bdd",
   "metadata": {},
   "outputs": [],
   "source": [
    "# healthy features\n",
    "file = \"/data/gpfs-1/groups/ag_kircher/cfDNA-analysis/lea/cfDNA_classification_analyses/features/DELFI_healthy_\"+GC+\"_\"+score+\"_\"+amplitude+\"_features.csv\"\n",
    "h_features = pd.read_csv(file, sep=\"\\t\", index_col=0)\n",
    "\n",
    "file = \"/data/gpfs-1/groups/ag_kircher/cfDNA-analysis/lea/cfDNA_classification_analyses/features/DELFI_healthy_metadata.tsv\"\n",
    "h_meta = pd.read_csv(file, sep='\\t', index_col='sample_name')\n",
    "\n",
    "h_features = h_features.reset_index(drop=False)\n",
    "h_features[['sample','p','score']] = h_features['index'].str.split('_',2, expand=True)\n",
    "h_features = h_features.set_index('sample')\n",
    "healthy = pd.concat([h_features, h_meta], axis=1)"
   ]
  },
  {
   "cell_type": "code",
   "execution_count": 6,
   "id": "2e99ff2d",
   "metadata": {},
   "outputs": [
    {
     "data": {
      "text/html": [
       "<div>\n",
       "<style scoped>\n",
       "    .dataframe tbody tr th:only-of-type {\n",
       "        vertical-align: middle;\n",
       "    }\n",
       "\n",
       "    .dataframe tbody tr th {\n",
       "        vertical-align: top;\n",
       "    }\n",
       "\n",
       "    .dataframe thead th {\n",
       "        text-align: right;\n",
       "    }\n",
       "</style>\n",
       "<table border=\"1\" class=\"dataframe\">\n",
       "  <thead>\n",
       "    <tr style=\"text-align: right;\">\n",
       "      <th></th>\n",
       "      <th>index</th>\n",
       "      <th>phenotype</th>\n",
       "      <th>central_coverage_NFKB2</th>\n",
       "      <th>mean_coverage_NFKB2</th>\n",
       "      <th>amplitude190_NFKB2</th>\n",
       "      <th>nucleosome_spacing_fft_NFKB2</th>\n",
       "      <th>central_coverage_TP73</th>\n",
       "      <th>mean_coverage_TP73</th>\n",
       "      <th>amplitude190_TP73</th>\n",
       "      <th>nucleosome_spacing_fft_TP73</th>\n",
       "      <th>...</th>\n",
       "      <th>Gender</th>\n",
       "      <th>Stage</th>\n",
       "      <th>Age</th>\n",
       "      <th>Status</th>\n",
       "      <th>% GC</th>\n",
       "      <th>Length</th>\n",
       "      <th>Median</th>\n",
       "      <th>≥ 1X</th>\n",
       "      <th>≥ 5X</th>\n",
       "      <th>fraction</th>\n",
       "    </tr>\n",
       "  </thead>\n",
       "  <tbody>\n",
       "    <tr>\n",
       "      <th>EGAF00002727253</th>\n",
       "      <td>EGAF00002727253_c_MIDPOINT</td>\n",
       "      <td>1.0</td>\n",
       "      <td>0.921859</td>\n",
       "      <td>0.999899</td>\n",
       "      <td>5.964870</td>\n",
       "      <td>148.0</td>\n",
       "      <td>0.993629</td>\n",
       "      <td>0.999585</td>\n",
       "      <td>15.140059</td>\n",
       "      <td>192.0</td>\n",
       "      <td>...</td>\n",
       "      <td>F</td>\n",
       "      <td>I</td>\n",
       "      <td>54.0</td>\n",
       "      <td>breast_cancer</td>\n",
       "      <td>41%</td>\n",
       "      <td>140 bp</td>\n",
       "      <td>2.0X</td>\n",
       "      <td>88.0%</td>\n",
       "      <td>1.0%</td>\n",
       "      <td>0.06429</td>\n",
       "    </tr>\n",
       "    <tr>\n",
       "      <th>EGAF00002727240</th>\n",
       "      <td>EGAF00002727240_c_MIDPOINT</td>\n",
       "      <td>1.0</td>\n",
       "      <td>0.966934</td>\n",
       "      <td>1.000200</td>\n",
       "      <td>19.353707</td>\n",
       "      <td>192.0</td>\n",
       "      <td>1.033113</td>\n",
       "      <td>1.000039</td>\n",
       "      <td>9.433198</td>\n",
       "      <td>240.0</td>\n",
       "      <td>...</td>\n",
       "      <td>F</td>\n",
       "      <td>II</td>\n",
       "      <td>61.0</td>\n",
       "      <td>breast_cancer</td>\n",
       "      <td>42%</td>\n",
       "      <td>143 bp</td>\n",
       "      <td>2.0X</td>\n",
       "      <td>88.0%</td>\n",
       "      <td>3.0%</td>\n",
       "      <td>0.36440</td>\n",
       "    </tr>\n",
       "    <tr>\n",
       "      <th>EGAF00002727280</th>\n",
       "      <td>EGAF00002727280_c_MIDPOINT</td>\n",
       "      <td>1.0</td>\n",
       "      <td>1.161236</td>\n",
       "      <td>0.999987</td>\n",
       "      <td>11.505221</td>\n",
       "      <td>213.0</td>\n",
       "      <td>1.115174</td>\n",
       "      <td>0.999805</td>\n",
       "      <td>17.278634</td>\n",
       "      <td>192.0</td>\n",
       "      <td>...</td>\n",
       "      <td>F</td>\n",
       "      <td>II</td>\n",
       "      <td>37.0</td>\n",
       "      <td>breast_cancer</td>\n",
       "      <td>42%</td>\n",
       "      <td>134 bp</td>\n",
       "      <td>2.0X</td>\n",
       "      <td>86.0%</td>\n",
       "      <td>1.0%</td>\n",
       "      <td>0.09767</td>\n",
       "    </tr>\n",
       "    <tr>\n",
       "      <th>EGAF00002727290</th>\n",
       "      <td>EGAF00002727290_c_MIDPOINT</td>\n",
       "      <td>1.0</td>\n",
       "      <td>1.027811</td>\n",
       "      <td>0.999776</td>\n",
       "      <td>20.178665</td>\n",
       "      <td>192.0</td>\n",
       "      <td>1.038958</td>\n",
       "      <td>1.000246</td>\n",
       "      <td>3.898227</td>\n",
       "      <td>160.0</td>\n",
       "      <td>...</td>\n",
       "      <td>F</td>\n",
       "      <td>II</td>\n",
       "      <td>48.0</td>\n",
       "      <td>breast_cancer</td>\n",
       "      <td>41%</td>\n",
       "      <td>139 bp</td>\n",
       "      <td>2.0X</td>\n",
       "      <td>89.0%</td>\n",
       "      <td>2.0%</td>\n",
       "      <td>0.06922</td>\n",
       "    </tr>\n",
       "    <tr>\n",
       "      <th>EGAF00002727254</th>\n",
       "      <td>EGAF00002727254_c_MIDPOINT</td>\n",
       "      <td>1.0</td>\n",
       "      <td>1.118326</td>\n",
       "      <td>1.000246</td>\n",
       "      <td>10.611337</td>\n",
       "      <td>213.0</td>\n",
       "      <td>1.166457</td>\n",
       "      <td>0.999947</td>\n",
       "      <td>1.834101</td>\n",
       "      <td>213.0</td>\n",
       "      <td>...</td>\n",
       "      <td>F</td>\n",
       "      <td>II</td>\n",
       "      <td>47.0</td>\n",
       "      <td>breast_cancer</td>\n",
       "      <td>41%</td>\n",
       "      <td>134 bp</td>\n",
       "      <td>1.0X</td>\n",
       "      <td>86.0%</td>\n",
       "      <td>1.0%</td>\n",
       "      <td>0.11470</td>\n",
       "    </tr>\n",
       "  </tbody>\n",
       "</table>\n",
       "<p>5 rows × 1523 columns</p>\n",
       "</div>"
      ],
      "text/plain": [
       "                                      index  phenotype  \\\n",
       "EGAF00002727253  EGAF00002727253_c_MIDPOINT        1.0   \n",
       "EGAF00002727240  EGAF00002727240_c_MIDPOINT        1.0   \n",
       "EGAF00002727280  EGAF00002727280_c_MIDPOINT        1.0   \n",
       "EGAF00002727290  EGAF00002727290_c_MIDPOINT        1.0   \n",
       "EGAF00002727254  EGAF00002727254_c_MIDPOINT        1.0   \n",
       "\n",
       "                 central_coverage_NFKB2  mean_coverage_NFKB2  \\\n",
       "EGAF00002727253                0.921859             0.999899   \n",
       "EGAF00002727240                0.966934             1.000200   \n",
       "EGAF00002727280                1.161236             0.999987   \n",
       "EGAF00002727290                1.027811             0.999776   \n",
       "EGAF00002727254                1.118326             1.000246   \n",
       "\n",
       "                 amplitude190_NFKB2  nucleosome_spacing_fft_NFKB2  \\\n",
       "EGAF00002727253            5.964870                         148.0   \n",
       "EGAF00002727240           19.353707                         192.0   \n",
       "EGAF00002727280           11.505221                         213.0   \n",
       "EGAF00002727290           20.178665                         192.0   \n",
       "EGAF00002727254           10.611337                         213.0   \n",
       "\n",
       "                 central_coverage_TP73  mean_coverage_TP73  amplitude190_TP73  \\\n",
       "EGAF00002727253               0.993629            0.999585          15.140059   \n",
       "EGAF00002727240               1.033113            1.000039           9.433198   \n",
       "EGAF00002727280               1.115174            0.999805          17.278634   \n",
       "EGAF00002727290               1.038958            1.000246           3.898227   \n",
       "EGAF00002727254               1.166457            0.999947           1.834101   \n",
       "\n",
       "                 nucleosome_spacing_fft_TP73  ...  Gender  Stage   Age  \\\n",
       "EGAF00002727253                        192.0  ...       F      I  54.0   \n",
       "EGAF00002727240                        240.0  ...       F     II  61.0   \n",
       "EGAF00002727280                        192.0  ...       F     II  37.0   \n",
       "EGAF00002727290                        160.0  ...       F     II  48.0   \n",
       "EGAF00002727254                        213.0  ...       F     II  47.0   \n",
       "\n",
       "                        Status  % GC  Length  Median   ≥ 1X  ≥ 5X  fraction  \n",
       "EGAF00002727253  breast_cancer   41%  140 bp    2.0X  88.0%  1.0%   0.06429  \n",
       "EGAF00002727240  breast_cancer   42%  143 bp    2.0X  88.0%  3.0%   0.36440  \n",
       "EGAF00002727280  breast_cancer   42%  134 bp    2.0X  86.0%  1.0%   0.09767  \n",
       "EGAF00002727290  breast_cancer   41%  139 bp    2.0X  89.0%  2.0%   0.06922  \n",
       "EGAF00002727254  breast_cancer   41%  134 bp    1.0X  86.0%  1.0%   0.11470  \n",
       "\n",
       "[5 rows x 1523 columns]"
      ]
     },
     "execution_count": 6,
     "metadata": {},
     "output_type": "execute_result"
    }
   ],
   "source": [
    "# concat breast cancer and healthy\n",
    "data = pd.concat([cancer, healthy], axis=0) #pd.concat([data1, data2], axis=0)\n",
    "features = data.columns[(data.columns.str.startswith('central_cov')) | (data.columns.str.startswith('mean_cov')) | (data.columns.str.startswith('amplitude')) | (data.columns.str.startswith('nucleosome_spacing'))]\n",
    "data.head()"
   ]
  },
  {
   "cell_type": "code",
   "execution_count": 7,
   "id": "8ba681f1",
   "metadata": {},
   "outputs": [
    {
     "data": {
      "text/html": [
       "<div>\n",
       "<style scoped>\n",
       "    .dataframe tbody tr th:only-of-type {\n",
       "        vertical-align: middle;\n",
       "    }\n",
       "\n",
       "    .dataframe tbody tr th {\n",
       "        vertical-align: top;\n",
       "    }\n",
       "\n",
       "    .dataframe thead th {\n",
       "        text-align: right;\n",
       "    }\n",
       "</style>\n",
       "<table border=\"1\" class=\"dataframe\">\n",
       "  <thead>\n",
       "    <tr style=\"text-align: right;\">\n",
       "      <th></th>\n",
       "      <th>index</th>\n",
       "      <th>phenotype</th>\n",
       "      <th>central_coverage_NFKB2</th>\n",
       "      <th>mean_coverage_NFKB2</th>\n",
       "      <th>amplitude190_NFKB2</th>\n",
       "      <th>nucleosome_spacing_fft_NFKB2</th>\n",
       "      <th>central_coverage_TP73</th>\n",
       "      <th>mean_coverage_TP73</th>\n",
       "      <th>amplitude190_TP73</th>\n",
       "      <th>nucleosome_spacing_fft_TP73</th>\n",
       "      <th>...</th>\n",
       "      <th>Gender</th>\n",
       "      <th>Stage</th>\n",
       "      <th>Age</th>\n",
       "      <th>Status</th>\n",
       "      <th>% GC</th>\n",
       "      <th>Length</th>\n",
       "      <th>Median</th>\n",
       "      <th>≥ 1X</th>\n",
       "      <th>≥ 5X</th>\n",
       "      <th>fraction</th>\n",
       "    </tr>\n",
       "  </thead>\n",
       "  <tbody>\n",
       "    <tr>\n",
       "      <th>EGAF00002727253</th>\n",
       "      <td>EGAF00002727253_c_MIDPOINT</td>\n",
       "      <td>1.0</td>\n",
       "      <td>-1.587964</td>\n",
       "      <td>-0.402804</td>\n",
       "      <td>-1.431977</td>\n",
       "      <td>-2.181180</td>\n",
       "      <td>-1.235524</td>\n",
       "      <td>-2.211313</td>\n",
       "      <td>0.879156</td>\n",
       "      <td>-0.406840</td>\n",
       "      <td>...</td>\n",
       "      <td>F</td>\n",
       "      <td>I</td>\n",
       "      <td>54.0</td>\n",
       "      <td>breast_cancer</td>\n",
       "      <td>41%</td>\n",
       "      <td>140 bp</td>\n",
       "      <td>2.0X</td>\n",
       "      <td>88.0%</td>\n",
       "      <td>1.0%</td>\n",
       "      <td>0.06429</td>\n",
       "    </tr>\n",
       "    <tr>\n",
       "      <th>EGAF00002727240</th>\n",
       "      <td>EGAF00002727240_c_MIDPOINT</td>\n",
       "      <td>1.0</td>\n",
       "      <td>-0.575681</td>\n",
       "      <td>1.081786</td>\n",
       "      <td>0.380465</td>\n",
       "      <td>-0.469377</td>\n",
       "      <td>-0.233665</td>\n",
       "      <td>0.148223</td>\n",
       "      <td>-0.184884</td>\n",
       "      <td>1.386579</td>\n",
       "      <td>...</td>\n",
       "      <td>F</td>\n",
       "      <td>II</td>\n",
       "      <td>61.0</td>\n",
       "      <td>breast_cancer</td>\n",
       "      <td>42%</td>\n",
       "      <td>143 bp</td>\n",
       "      <td>2.0X</td>\n",
       "      <td>88.0%</td>\n",
       "      <td>3.0%</td>\n",
       "      <td>0.36440</td>\n",
       "    </tr>\n",
       "    <tr>\n",
       "      <th>EGAF00002727280</th>\n",
       "      <td>EGAF00002727280_c_MIDPOINT</td>\n",
       "      <td>1.0</td>\n",
       "      <td>3.787805</td>\n",
       "      <td>0.031149</td>\n",
       "      <td>-0.681981</td>\n",
       "      <td>0.347620</td>\n",
       "      <td>1.848499</td>\n",
       "      <td>-1.066968</td>\n",
       "      <td>1.277891</td>\n",
       "      <td>-0.406840</td>\n",
       "      <td>...</td>\n",
       "      <td>F</td>\n",
       "      <td>II</td>\n",
       "      <td>37.0</td>\n",
       "      <td>breast_cancer</td>\n",
       "      <td>42%</td>\n",
       "      <td>134 bp</td>\n",
       "      <td>2.0X</td>\n",
       "      <td>86.0%</td>\n",
       "      <td>1.0%</td>\n",
       "      <td>0.09767</td>\n",
       "    </tr>\n",
       "    <tr>\n",
       "      <th>EGAF00002727290</th>\n",
       "      <td>EGAF00002727290_c_MIDPOINT</td>\n",
       "      <td>1.0</td>\n",
       "      <td>0.791448</td>\n",
       "      <td>-1.014266</td>\n",
       "      <td>0.492140</td>\n",
       "      <td>-0.469377</td>\n",
       "      <td>-0.085350</td>\n",
       "      <td>1.227604</td>\n",
       "      <td>-1.216876</td>\n",
       "      <td>-1.602453</td>\n",
       "      <td>...</td>\n",
       "      <td>F</td>\n",
       "      <td>II</td>\n",
       "      <td>48.0</td>\n",
       "      <td>breast_cancer</td>\n",
       "      <td>41%</td>\n",
       "      <td>139 bp</td>\n",
       "      <td>2.0X</td>\n",
       "      <td>89.0%</td>\n",
       "      <td>2.0%</td>\n",
       "      <td>0.06922</td>\n",
       "    </tr>\n",
       "    <tr>\n",
       "      <th>EGAF00002727254</th>\n",
       "      <td>EGAF00002727254_c_MIDPOINT</td>\n",
       "      <td>1.0</td>\n",
       "      <td>2.824170</td>\n",
       "      <td>1.308605</td>\n",
       "      <td>-0.802986</td>\n",
       "      <td>0.347620</td>\n",
       "      <td>3.149750</td>\n",
       "      <td>-0.327229</td>\n",
       "      <td>-1.601730</td>\n",
       "      <td>0.377780</td>\n",
       "      <td>...</td>\n",
       "      <td>F</td>\n",
       "      <td>II</td>\n",
       "      <td>47.0</td>\n",
       "      <td>breast_cancer</td>\n",
       "      <td>41%</td>\n",
       "      <td>134 bp</td>\n",
       "      <td>1.0X</td>\n",
       "      <td>86.0%</td>\n",
       "      <td>1.0%</td>\n",
       "      <td>0.11470</td>\n",
       "    </tr>\n",
       "  </tbody>\n",
       "</table>\n",
       "<p>5 rows × 1523 columns</p>\n",
       "</div>"
      ],
      "text/plain": [
       "                                      index  phenotype  \\\n",
       "EGAF00002727253  EGAF00002727253_c_MIDPOINT        1.0   \n",
       "EGAF00002727240  EGAF00002727240_c_MIDPOINT        1.0   \n",
       "EGAF00002727280  EGAF00002727280_c_MIDPOINT        1.0   \n",
       "EGAF00002727290  EGAF00002727290_c_MIDPOINT        1.0   \n",
       "EGAF00002727254  EGAF00002727254_c_MIDPOINT        1.0   \n",
       "\n",
       "                 central_coverage_NFKB2  mean_coverage_NFKB2  \\\n",
       "EGAF00002727253               -1.587964            -0.402804   \n",
       "EGAF00002727240               -0.575681             1.081786   \n",
       "EGAF00002727280                3.787805             0.031149   \n",
       "EGAF00002727290                0.791448            -1.014266   \n",
       "EGAF00002727254                2.824170             1.308605   \n",
       "\n",
       "                 amplitude190_NFKB2  nucleosome_spacing_fft_NFKB2  \\\n",
       "EGAF00002727253           -1.431977                     -2.181180   \n",
       "EGAF00002727240            0.380465                     -0.469377   \n",
       "EGAF00002727280           -0.681981                      0.347620   \n",
       "EGAF00002727290            0.492140                     -0.469377   \n",
       "EGAF00002727254           -0.802986                      0.347620   \n",
       "\n",
       "                 central_coverage_TP73  mean_coverage_TP73  amplitude190_TP73  \\\n",
       "EGAF00002727253              -1.235524           -2.211313           0.879156   \n",
       "EGAF00002727240              -0.233665            0.148223          -0.184884   \n",
       "EGAF00002727280               1.848499           -1.066968           1.277891   \n",
       "EGAF00002727290              -0.085350            1.227604          -1.216876   \n",
       "EGAF00002727254               3.149750           -0.327229          -1.601730   \n",
       "\n",
       "                 nucleosome_spacing_fft_TP73  ...  Gender  Stage   Age  \\\n",
       "EGAF00002727253                    -0.406840  ...       F      I  54.0   \n",
       "EGAF00002727240                     1.386579  ...       F     II  61.0   \n",
       "EGAF00002727280                    -0.406840  ...       F     II  37.0   \n",
       "EGAF00002727290                    -1.602453  ...       F     II  48.0   \n",
       "EGAF00002727254                     0.377780  ...       F     II  47.0   \n",
       "\n",
       "                        Status  % GC  Length  Median   ≥ 1X  ≥ 5X  fraction  \n",
       "EGAF00002727253  breast_cancer   41%  140 bp    2.0X  88.0%  1.0%   0.06429  \n",
       "EGAF00002727240  breast_cancer   42%  143 bp    2.0X  88.0%  3.0%   0.36440  \n",
       "EGAF00002727280  breast_cancer   42%  134 bp    2.0X  86.0%  1.0%   0.09767  \n",
       "EGAF00002727290  breast_cancer   41%  139 bp    2.0X  89.0%  2.0%   0.06922  \n",
       "EGAF00002727254  breast_cancer   41%  134 bp    1.0X  86.0%  1.0%   0.11470  \n",
       "\n",
       "[5 rows x 1523 columns]"
      ]
     },
     "execution_count": 7,
     "metadata": {},
     "output_type": "execute_result"
    }
   ],
   "source": [
    "#scale data\n",
    "scaled_data = pd.concat([cancer, healthy], axis=0) \n",
    "scaler = StandardScaler()\n",
    "scaler.fit(scaled_data[features])\n",
    "scaled_data[features] = scaler.transform(scaled_data[features])\n",
    "\n",
    "scaled_data.head()"
   ]
  },
  {
   "cell_type": "markdown",
   "id": "1fcd42d4",
   "metadata": {},
   "source": [
    "# Functions"
   ]
  },
  {
   "cell_type": "code",
   "execution_count": 8,
   "id": "7fff2ff7",
   "metadata": {},
   "outputs": [],
   "source": [
    "def mean_confidence_interval(data, confidence=0.95):\n",
    "    a = 1.0 * np.array(data)\n",
    "    n = len(a)\n",
    "    m, se = np.mean(a), stats.sem(a) #standard error of the mean\n",
    "    h = se * stats.t.ppf((1 + confidence) / 2., n-1)\n",
    "    return m, m-h, m+h"
   ]
  },
  {
   "cell_type": "code",
   "execution_count": 9,
   "id": "a835de7b",
   "metadata": {},
   "outputs": [],
   "source": [
    "def plot_roc_curve(tpr,fpr,AUC):\n",
    "    plt.title('Receiver Operating Characteristic')\n",
    "    plt.plot(fpr, tpr, 'k', label = 'AUC = %0.2f' % AUC)\n",
    "    plt.legend(loc = 'lower right')\n",
    "    plt.plot([0, 1], [0, 1],'b--')\n",
    "    #plt.xlim([0, 1])\n",
    "    #plt.ylim([0, 1])\n",
    "    plt.ylabel('True Positive Rate')\n",
    "    plt.xlabel('False Positive Rate')\n",
    "    plt.show()"
   ]
  },
  {
   "cell_type": "markdown",
   "id": "03afb646",
   "metadata": {},
   "source": [
    "## Leave-one-out cross-validation functions"
   ]
  },
  {
   "cell_type": "code",
   "execution_count": 10,
   "id": "5578b612",
   "metadata": {},
   "outputs": [],
   "source": [
    "def LR_loo(data,pca_flag,default_flag,all_features):\n",
    "\n",
    "    X = data[all_features]\n",
    "    y = data.loc[:,\"phenotype\"]\n",
    "\n",
    "    loo = LeaveOneOut()\n",
    "    y_true, y_pred, y_prob = list(), list(), list()\n",
    "    \n",
    "    all_performance = pd.DataFrame()\n",
    "    feature_importances = pd.DataFrame(index=all_features)\n",
    "\n",
    "    for i, (train_index, test_index) in enumerate(loo.split(X)):\n",
    "\n",
    "        X_train = X.iloc[train_index, :]\n",
    "        X_test = X.iloc[test_index, :]\n",
    "        y_train = y[train_index]\n",
    "        y_test = y[test_index]\n",
    "        \n",
    "        fraction_variance = .8\n",
    "        if pca_flag:\n",
    "        #perform PCA on the training set\n",
    "            n_components = min(len(all_features), len(X_train))\n",
    "            pca = PCA(n_components=n_components, svd_solver='randomized', random_state = 100)\n",
    "            PCs = pca.fit_transform(X_train[all_features])\n",
    "            principal_components = pd.DataFrame(data = PCs, columns = ['PC_'+str(m) for m in np.arange(n_components)], index = X_train.index)\n",
    "\n",
    "            #find the principle components that make up 80% of the varience\n",
    "            for j in range(len(pca.explained_variance_ratio_)):\n",
    "                current_sum = pca.explained_variance_ratio_[:j].sum()\n",
    "                if current_sum>=fraction_variance:\n",
    "                    break\n",
    "            pca_features = ['PC_'+str(m) for m in np.arange(0,j)]\n",
    "\n",
    "            #apply to the test data\n",
    "            test_PCs = pca.transform(X_test[all_features])\n",
    "            test_principal_components = pd.DataFrame(data = test_PCs , columns = ['PC_'+str(m) for m in np.arange(n_components)], index = X_test.index)\n",
    "\n",
    "            X_train = principal_components[pca_features]\n",
    "            X_test = test_principal_components[pca_features]\n",
    "        \n",
    "        if default_flag:\n",
    "            model = LogisticRegression()\n",
    "        else:\n",
    "            model = LogisticRegression(C=0.1, class_weight=None, max_iter=500, penalty='l1', solver='liblinear')\n",
    "        model.fit(X_train, y_train)\n",
    "\n",
    "        pred = model.predict(X_test)\n",
    "        prob = model.predict_proba(X_test)\n",
    "        feature_importances['imp_'+str(i)] = pd.DataFrame(data=model.coef_[0], index=all_features)\n",
    "\n",
    "        y_true.append(y_test[0])\n",
    "        y_pred.append(pred[0])\n",
    "        y_prob.append(prob[:,1])\n",
    "\n",
    "    acc = accuracy_score(y_true, y_pred)\n",
    "    fpr,tpr,_ = roc_curve(y_true, y_prob)\n",
    "    AUC = auc(fpr,tpr)\n",
    "    \n",
    "    current_dict = {}\n",
    "    current_dict['fpr'] = fpr\n",
    "    current_dict['tpr'] = tpr\n",
    "    current_dict['accuracy'] = acc\n",
    "    current_dict['auc'] = AUC\n",
    "    all_performance = pd.Series(current_dict)\n",
    "\n",
    "    return(all_performance,feature_importances)"
   ]
  },
  {
   "cell_type": "code",
   "execution_count": 11,
   "id": "b3610e63",
   "metadata": {},
   "outputs": [],
   "source": [
    "def RF_loo(data,pca_flag,default_flag,all_features):\n",
    "\n",
    "    X = data[features]\n",
    "    y = data.loc[:,\"phenotype\"]\n",
    "\n",
    "    loo = LeaveOneOut()\n",
    "    y_true, y_pred, y_prob = list(), list(), list()\n",
    "    \n",
    "    all_performance = pd.DataFrame()\n",
    "    feature_importances = pd.DataFrame(index=all_features)\n",
    "\n",
    "    for i, (train_index, test_index) in enumerate(loo.split(X)):\n",
    "\n",
    "        X_train = X.iloc[train_index, :]\n",
    "        X_test = X.iloc[test_index, :]\n",
    "        y_train = y[train_index]\n",
    "        y_test = y[test_index]\n",
    "        \n",
    "        fraction_variance = .8\n",
    "        if pca_flag:\n",
    "        #perform PCA on the training set\n",
    "            n_components = min(len(all_features), len(X_train))\n",
    "            pca = PCA(n_components=n_components, svd_solver='randomized', random_state = 100)\n",
    "            PCs = pca.fit_transform(X_train[all_features])\n",
    "            principal_components = pd.DataFrame(data = PCs, columns = ['PC_'+str(m) for m in np.arange(n_components)], index = X_train.index)\n",
    "\n",
    "            #find the principle components that make up 80% of the varience\n",
    "            for j in range(len(pca.explained_variance_ratio_)):\n",
    "                current_sum = pca.explained_variance_ratio_[:j].sum()\n",
    "                if current_sum>=fraction_variance:\n",
    "                    break\n",
    "            pca_features = ['PC_'+str(m) for m in np.arange(0,j)]\n",
    "\n",
    "            #apply to the test data\n",
    "            test_PCs = pca.transform(X_test[all_features])\n",
    "            test_principal_components = pd.DataFrame(data = test_PCs , columns = ['PC_'+str(m) for m in np.arange(n_components)], index = X_test.index)\n",
    "\n",
    "            X_train = principal_components[pca_features]\n",
    "            X_test = test_principal_components[pca_features]\n",
    "        \n",
    "        if default_flag:\n",
    "            model = RandomForestClassifier()\n",
    "        else:\n",
    "            model = RandomForestClassifier(n_estimators=500, min_samples_split=3, min_samples_leaf=2, \n",
    "                                       max_features='sqrt', max_depth=8, criterion='gini', bootstrap=True)\n",
    "        model.fit(X_train, y_train)\n",
    "\n",
    "        pred = model.predict(X_test)\n",
    "        prob = model.predict_proba(X_test)\n",
    "        feature_importances['imp_'+str(i)] = pd.DataFrame(data=model.feature_importances_, index=all_features)\n",
    "\n",
    "        y_true.append(y_test[0])\n",
    "        y_pred.append(pred[0])\n",
    "        y_prob.append(prob[:,1])\n",
    "\n",
    "    acc = accuracy_score(y_true, y_pred)\n",
    "    fpr,tpr,_ = roc_curve(y_true, y_prob)\n",
    "    AUC = auc(fpr,tpr)\n",
    "    \n",
    "    current_dict = {}\n",
    "    current_dict['fpr'] = fpr\n",
    "    current_dict['tpr'] = tpr\n",
    "    current_dict['accuracy'] = acc\n",
    "    current_dict['auc'] = AUC\n",
    "    all_performance = pd.Series(current_dict)\n",
    "    \n",
    "    return(all_performance,feature_importances)"
   ]
  },
  {
   "cell_type": "code",
   "execution_count": 12,
   "id": "cad8de1e",
   "metadata": {},
   "outputs": [],
   "source": [
    "def GBC_loo(data,pca_flag,default_flag,all_features):\n",
    "\n",
    "    X = data[features]\n",
    "    y = data.loc[:,\"phenotype\"]\n",
    "\n",
    "    loo = LeaveOneOut()\n",
    "    y_true, y_pred, y_prob = list(), list(), list()\n",
    "    \n",
    "    all_performance = pd.DataFrame()\n",
    "    feature_importances = pd.DataFrame(index=all_features)\n",
    "\n",
    "    for i, (train_index, test_index) in enumerate(loo.split(X)):\n",
    "\n",
    "        X_train = X.iloc[train_index, :]\n",
    "        X_test = X.iloc[test_index, :]\n",
    "        y_train = y[train_index]\n",
    "        y_test = y[test_index]\n",
    "        \n",
    "        fraction_variance = .8\n",
    "        if pca_flag:\n",
    "        #perform PCA on the training set\n",
    "            n_components = min(len(all_features), len(X_train))\n",
    "            pca = PCA(n_components=n_components, svd_solver='randomized', random_state = 100)\n",
    "            PCs = pca.fit_transform(X_train[all_features])\n",
    "            principal_components = pd.DataFrame(data = PCs, columns = ['PC_'+str(m) for m in np.arange(n_components)], index = X_train.index)\n",
    "\n",
    "            #find the principle components that make up 80% of the varience\n",
    "            for j in range(len(pca.explained_variance_ratio_)):\n",
    "                current_sum = pca.explained_variance_ratio_[:j].sum()\n",
    "                if current_sum>=fraction_variance:\n",
    "                    break\n",
    "            #print('total components',len(pca.explained_variance_ratio_),'number of components:',j)\n",
    "            pca_features = ['PC_'+str(m) for m in np.arange(0,j)]\n",
    "\n",
    "            #apply to the test data\n",
    "            test_PCs = pca.transform(X_test[all_features])\n",
    "            test_principal_components = pd.DataFrame(data = test_PCs , columns = ['PC_'+str(m) for m in np.arange(n_components)], index = X_test.index)\n",
    "\n",
    "            X_train = principal_components[pca_features]\n",
    "            X_test = test_principal_components[pca_features]\n",
    "        \n",
    "        if default_flag:\n",
    "            model = GradientBoostingClassifier()\n",
    "        else:\n",
    "            model = GradientBoostingClassifier(n_estimators=500, min_samples_split=3, min_samples_leaf=2, \n",
    "                                           max_features='sqrt', max_depth=3, criterion='friedman_mse', \n",
    "                                           subsample=1, learning_rate=0.1)\n",
    "        model.fit(X_train, y_train)\n",
    "\n",
    "        pred = model.predict(X_test)\n",
    "        prob = model.predict_proba(X_test)\n",
    "        feature_importances['imp_'+str(i)] = pd.DataFrame(data=model.feature_importances_, index=all_features)\n",
    "\n",
    "        y_true.append(y_test[0])\n",
    "        y_pred.append(pred[0])\n",
    "        y_prob.append(prob[:,1])\n",
    "\n",
    "    acc = accuracy_score(y_true, y_pred)\n",
    "    fpr,tpr,_ = roc_curve(y_true, y_prob)\n",
    "    AUC = auc(fpr,tpr)\n",
    "    \n",
    "    current_dict = {}\n",
    "    current_dict['fpr'] = fpr\n",
    "    current_dict['tpr'] = tpr\n",
    "    current_dict['accuracy'] = acc\n",
    "    current_dict['auc'] = AUC\n",
    "    all_performance = pd.Series(current_dict)\n",
    "    \n",
    "    return(all_performance,feature_importances)"
   ]
  },
  {
   "cell_type": "markdown",
   "id": "6da472a1",
   "metadata": {},
   "source": [
    "## Bootstrapping functions"
   ]
  },
  {
   "cell_type": "code",
   "execution_count": 13,
   "id": "cef7de47",
   "metadata": {},
   "outputs": [],
   "source": [
    "def RF_bootstrap(input_data,pca_flag,iterations,default_flag,all_features):\n",
    "\n",
    "    all_performance = pd.DataFrame()\n",
    "    feature_importances = pd.DataFrame(index=all_features)\n",
    "    \n",
    "    for i in range(iterations):\n",
    "        train = input_data.sample(len(input_data), replace = True)\n",
    "        test = input_data[~(input_data.index.isin(train.index))]\n",
    "\n",
    "        X_train = train[all_features]\n",
    "        y_train = train.loc[:,\"phenotype\"]\n",
    "        X_test = test[all_features]\n",
    "        y_test = test.loc[:,\"phenotype\"]\n",
    "\n",
    "        fraction_variance = .8\n",
    "        if pca_flag:\n",
    "        #perform PCA on the training set\n",
    "            n_components = min(len(all_features), len(X_train))\n",
    "            pca = PCA(n_components=n_components, svd_solver='randomized', random_state = 100)\n",
    "            PCs = pca.fit_transform(X_train[all_features])\n",
    "            principal_components = pd.DataFrame(data = PCs, columns = ['PC_'+str(m) for m in np.arange(n_components)], index = X_train.index)\n",
    "\n",
    "            #find the principle components that make up 80% of the varience\n",
    "            for j in range(len(pca.explained_variance_ratio_)):\n",
    "                current_sum = pca.explained_variance_ratio_[:j].sum()\n",
    "                if current_sum>=fraction_variance:\n",
    "                    break\n",
    "            #print('total components',len(pca.explained_variance_ratio_),'number of components:',j)\n",
    "            pca_features = ['PC_'+str(m) for m in np.arange(0,j)]\n",
    "\n",
    "            #apply to the test data\n",
    "            test_PCs = pca.transform(X_test[all_features])\n",
    "            test_principal_components = pd.DataFrame(data = test_PCs , columns = ['PC_'+str(m) for m in np.arange(n_components)], index = X_test.index)\n",
    "\n",
    "            X_train = principal_components[pca_features]\n",
    "            X_test = test_principal_components[pca_features]\n",
    "        \n",
    "        if default_flag:\n",
    "            model = RandomForestClassifier()\n",
    "        else:\n",
    "            model = RandomForestClassifier(n_estimators=500, min_samples_split=3, min_samples_leaf=2, \n",
    "                                       max_features='sqrt', max_depth=8, criterion='gini', bootstrap=True)\n",
    "        model.fit(X_train, y_train)\n",
    "\n",
    "        pred = model.predict(X_test)\n",
    "        prob = model.predict_proba(X_test)\n",
    "        \n",
    "        feature_importances['imp_'+str(i)] = pd.DataFrame(data=model.feature_importances_, index=all_features)\n",
    "        \n",
    "        current_dict = {}\n",
    "        acc = accuracy_score(y_test, pred)\n",
    "        fpr,tpr,_ = roc_curve(y_test, prob[:,1])\n",
    "        AUC = auc(fpr,tpr)\n",
    "        current_dict['fpr'] = fpr\n",
    "        current_dict['tpr'] = tpr\n",
    "        current_dict['accuracy'] = acc\n",
    "        current_dict['auc'] = AUC\n",
    "        all_performance = all_performance.append(pd.Series(current_dict), ignore_index=True)\n",
    "\n",
    "    return(all_performance,feature_importances)"
   ]
  },
  {
   "cell_type": "code",
   "execution_count": 14,
   "id": "d71d287f",
   "metadata": {},
   "outputs": [],
   "source": [
    "def LR_bootstrap(input_data,pca_flag,iterations,default_flag,all_features):\n",
    "    \n",
    "    all_performance = pd.DataFrame()\n",
    "    feature_importances = pd.DataFrame(index=all_features)\n",
    "    \n",
    "    for i in range(iterations):\n",
    "        train = input_data.sample(len(input_data), replace = True)\n",
    "        test = input_data[~(input_data.index.isin(train.index))]\n",
    "\n",
    "        X_train = train[all_features]\n",
    "        y_train = train.loc[:,\"phenotype\"]\n",
    "        X_test = test[all_features]\n",
    "        y_test = test.loc[:,\"phenotype\"]\n",
    "\n",
    "        fraction_variance = .8\n",
    "        if pca_flag:\n",
    "        #perform PCA on the training set\n",
    "            n_components = min(len(all_features), len(X_train))\n",
    "            pca = PCA(n_components=n_components, svd_solver='randomized', random_state = 100)\n",
    "            PCs = pca.fit_transform(X_train[all_features])\n",
    "            principal_components = pd.DataFrame(data = PCs, columns = ['PC_'+str(m) for m in np.arange(n_components)], index = X_train.index)\n",
    "\n",
    "            #find the principle components that make up 80% of the varience\n",
    "            for j in range(len(pca.explained_variance_ratio_)):\n",
    "                current_sum = pca.explained_variance_ratio_[:j].sum()\n",
    "                if current_sum>=fraction_variance:\n",
    "                    break\n",
    "            #print('total components',len(pca.explained_variance_ratio_),'number of components:',j)\n",
    "            pca_features = ['PC_'+str(m) for m in np.arange(0,j)]\n",
    "\n",
    "            #apply to the test data\n",
    "            test_PCs = pca.transform(X_test[all_features])\n",
    "            test_principal_components = pd.DataFrame(data = test_PCs , columns = ['PC_'+str(m) for m in np.arange(n_components)], index = X_test.index)\n",
    "\n",
    "            X_train = principal_components[pca_features]\n",
    "            X_test = test_principal_components[pca_features]\n",
    "        \n",
    "        if default_flag:\n",
    "            model = LogisticRegression()\n",
    "        else:\n",
    "            model = LogisticRegression(C=0.1, class_weight=None, max_iter=500, penalty='l1', solver='liblinear')\n",
    "        model.fit(X_train, y_train)\n",
    "\n",
    "        pred = model.predict(X_test)\n",
    "        prob = model.predict_proba(X_test)\n",
    "        \n",
    "        feature_importances['imp_'+str(i)] = pd.DataFrame(data=model.coef_[0], index=all_features)\n",
    "        \n",
    "        current_dict = {}\n",
    "        acc = accuracy_score(y_test, pred)\n",
    "        fpr,tpr,_ = roc_curve(y_test, prob[:,1])\n",
    "        AUC = auc(fpr,tpr)\n",
    "        current_dict['fpr'] = fpr\n",
    "        current_dict['tpr'] = tpr\n",
    "        current_dict['accuracy'] = acc\n",
    "        current_dict['auc'] = AUC\n",
    "        all_performance = all_performance.append(pd.Series(current_dict), ignore_index=True)\n",
    "    return(all_performance,feature_importances)"
   ]
  },
  {
   "cell_type": "code",
   "execution_count": 15,
   "id": "d295cd5f",
   "metadata": {},
   "outputs": [],
   "source": [
    "def GBC_bootstrap(input_data,pca_flag,iterations,default_flag,all_features):\n",
    "\n",
    "    all_performance = pd.DataFrame()\n",
    "    for i in range(iterations):\n",
    "        train = input_data.sample(len(input_data), replace = True)\n",
    "        test = input_data[~(input_data.index.isin(train.index))]\n",
    "\n",
    "        X_train = train[all_features]\n",
    "        y_train = train.loc[:,\"phenotype\"]\n",
    "        X_test = test[all_features]\n",
    "        y_test = test.loc[:,\"phenotype\"]\n",
    "\n",
    "        fraction_variance = .8\n",
    "        \n",
    "        if pca_flag:\n",
    "        #perform PCA on the training set\n",
    "            n_components = min(len(all_features), len(X_train))\n",
    "            pca = PCA(n_components=n_components, svd_solver='randomized', random_state = 100)\n",
    "            PCs = pca.fit_transform(X_train[all_features])\n",
    "            principal_components = pd.DataFrame(data = PCs, columns = ['PC_'+str(m) for m in np.arange(n_components)], index = X_train.index)\n",
    "\n",
    "            #find the principle components that make up 80% of the varience\n",
    "            for j in range(len(pca.explained_variance_ratio_)):\n",
    "                current_sum = pca.explained_variance_ratio_[:j].sum()\n",
    "                if current_sum>=fraction_variance:\n",
    "                    break\n",
    "            #print('total components',len(pca.explained_variance_ratio_),'number of components:',j)\n",
    "            pca_features = ['PC_'+str(m) for m in np.arange(0,j)]\n",
    "\n",
    "            #apply to the test data\n",
    "            test_PCs = pca.transform(X_test[all_features])\n",
    "            test_principal_components = pd.DataFrame(data = test_PCs , columns = ['PC_'+str(m) for m in np.arange(n_components)], index = X_test.index)\n",
    "\n",
    "            X_train = principal_components[pca_features]\n",
    "            X_test = test_principal_components[pca_features]\n",
    "\n",
    "        if default_flag:\n",
    "            model = GradientBoostingClassifier()\n",
    "        else:\n",
    "            model = GradientBoostingClassifier(n_estimators=500, min_samples_split=3, min_samples_leaf=2, \n",
    "                                           max_features='sqrt', max_depth=3, criterion='friedman_mse', \n",
    "                                           subsample=1, learning_rate=0.1)\n",
    "        model.fit(X_train, y_train)\n",
    "\n",
    "        pred = model.predict(X_test)\n",
    "        prob = model.predict_proba(X_test)\n",
    "        \n",
    "        current_dict = {}\n",
    "        acc = accuracy_score(y_test, pred)\n",
    "        fpr,tpr,_ = roc_curve(y_test, prob[:,1])\n",
    "        AUC = auc(fpr,tpr)\n",
    "        current_dict['fpr'] = fpr\n",
    "        current_dict['tpr'] = tpr\n",
    "        current_dict['accuracy'] = acc\n",
    "        current_dict['auc'] = AUC\n",
    "        all_performance = all_performance.append(pd.Series(current_dict), ignore_index=True)\n",
    "\n",
    "    return(all_performance)"
   ]
  },
  {
   "cell_type": "markdown",
   "id": "730967dc",
   "metadata": {},
   "source": [
    "## 10-fold cross-validation functions"
   ]
  },
  {
   "cell_type": "code",
   "execution_count": 16,
   "id": "bd463dc9",
   "metadata": {},
   "outputs": [],
   "source": [
    "def RF_kfold_cv(data,pca_flag,folds,default_flag):\n",
    "\n",
    "    kf = KFold(n_splits=folds, random_state=42, shuffle=True)\n",
    "    all_performance = pd.DataFrame()\n",
    "    \n",
    "    for i, (train_index, test_index) in enumerate(kf.split(data)):\n",
    "        train = data.iloc[train_index]\n",
    "        test = data.iloc[test_index]\n",
    "\n",
    "        X_train = train[features]\n",
    "        y_train = train.loc[:,\"phenotype\"]\n",
    "        X_test = test[features]\n",
    "        y_test = test.loc[:,\"phenotype\"]\n",
    "        \n",
    "        fraction_variance = .8\n",
    "        if pca_flag:\n",
    "        #perform PCA on the training set\n",
    "            n_components = min(len(features), len(X_train))\n",
    "            pca = PCA(n_components=n_components, svd_solver='randomized', random_state = 100)\n",
    "            PCs = pca.fit_transform(X_train[features])\n",
    "            principal_components = pd.DataFrame(data = PCs, columns = ['PC_'+str(m) for m in np.arange(n_components)], index = X_train.index)\n",
    "\n",
    "            #find the principle components that make up 80% of the varience\n",
    "            for j in range(len(pca.explained_variance_ratio_)):\n",
    "                current_sum = pca.explained_variance_ratio_[:j].sum()\n",
    "                if current_sum>=fraction_variance:\n",
    "                    break\n",
    "            #print('total components',len(pca.explained_variance_ratio_),'number of components:',j)\n",
    "            pca_features = ['PC_'+str(m) for m in np.arange(0,j)]\n",
    "\n",
    "            #apply to the test data\n",
    "            test_PCs = pca.transform(X_test[features])\n",
    "            test_principal_components = pd.DataFrame(data = test_PCs , columns = ['PC_'+str(m) for m in np.arange(n_components)], index = X_test.index)\n",
    "\n",
    "            X_train = principal_components[pca_features]\n",
    "            X_test = test_principal_components[pca_features]\n",
    "        \n",
    "        if default_flag:\n",
    "            model = RandomForestClassifier()\n",
    "        else:\n",
    "            model = RandomForestClassifier(n_estimators=500, min_samples_split=3, min_samples_leaf=2, \n",
    "                                       max_features='sqrt', max_depth=8, criterion='gini', bootstrap=True)\n",
    "        model.fit(X_train, y_train)\n",
    "\n",
    "        pred = model.predict(X_test)\n",
    "        prob = model.predict_proba(X_test)\n",
    "        current_dict = {}\n",
    "        acc = accuracy_score(y_test, pred)\n",
    "        fpr,tpr,_ = roc_curve(y_test, prob[:,1])\n",
    "        AUC = auc(fpr,tpr)\n",
    "        current_dict['fpr'] = fpr\n",
    "        current_dict['tpr'] = tpr\n",
    "        current_dict['accuracy'] = acc\n",
    "        current_dict['auc'] = AUC\n",
    "        all_performance = all_performance.append(pd.Series(current_dict), ignore_index=True)\n",
    "    return(all_performance)"
   ]
  },
  {
   "cell_type": "code",
   "execution_count": 17,
   "id": "a5786bd6",
   "metadata": {},
   "outputs": [],
   "source": [
    "def LR_kfold_cv(data,pca_flag,folds,default_flag):\n",
    "\n",
    "    kf = KFold(n_splits=folds, random_state=42, shuffle=True)\n",
    "    all_performance = pd.DataFrame()\n",
    "    \n",
    "    for i, (train_index, test_index) in enumerate(kf.split(data)):\n",
    "        train = data.iloc[train_index]\n",
    "        test = data.iloc[test_index]\n",
    "\n",
    "        X_train = train[features]\n",
    "        y_train = train.loc[:,\"phenotype\"]\n",
    "        X_test = test[features]\n",
    "        y_test = test.loc[:,\"phenotype\"]\n",
    "        \n",
    "        fraction_variance = .8\n",
    "        if pca_flag:\n",
    "        #perform PCA on the training set\n",
    "            n_components = min(len(features), len(X_train))\n",
    "            pca = PCA(n_components=n_components, svd_solver='randomized', random_state = 100)\n",
    "            PCs = pca.fit_transform(X_train[features])\n",
    "            principal_components = pd.DataFrame(data = PCs, columns = ['PC_'+str(m) for m in np.arange(n_components)], index = X_train.index)\n",
    "\n",
    "            #find the principle components that make up 80% of the varience\n",
    "            for j in range(len(pca.explained_variance_ratio_)):\n",
    "                current_sum = pca.explained_variance_ratio_[:j].sum()\n",
    "                if current_sum>=fraction_variance:\n",
    "                    break\n",
    "            #print('total components',len(pca.explained_variance_ratio_),'number of components:',j)\n",
    "            pca_features = ['PC_'+str(m) for m in np.arange(0,j)]\n",
    "\n",
    "            #apply to the test data\n",
    "            test_PCs = pca.transform(X_test[features])\n",
    "            test_principal_components = pd.DataFrame(data = test_PCs , columns = ['PC_'+str(m) for m in np.arange(n_components)], index = X_test.index)\n",
    "\n",
    "            X_train = principal_components[pca_features]\n",
    "            X_test = test_principal_components[pca_features]\n",
    "\n",
    "        if default_flag:\n",
    "            model = LogisticRegression()\n",
    "        else:\n",
    "            model = LogisticRegression(C=0.1, class_weight=None, max_iter=500, penalty='l1', solver='liblinear')\n",
    "        model.fit(X_train, y_train)\n",
    "\n",
    "        pred = model.predict(X_test)\n",
    "        prob = model.predict_proba(X_test)\n",
    "        current_dict = {}\n",
    "        acc = accuracy_score(y_test, pred)\n",
    "        fpr,tpr,_ = roc_curve(y_test, prob[:,1])\n",
    "        AUC = auc(fpr,tpr)\n",
    "        current_dict['fpr'] = fpr\n",
    "        current_dict['tpr'] = tpr\n",
    "        current_dict['accuracy'] = acc\n",
    "        current_dict['auc'] = AUC\n",
    "        all_performance = all_performance.append(pd.Series(current_dict), ignore_index=True)\n",
    "    return(all_performance)"
   ]
  },
  {
   "cell_type": "code",
   "execution_count": 18,
   "id": "33543b90",
   "metadata": {},
   "outputs": [],
   "source": [
    "def GBC_kfold_cv(data,pca_flag,folds,default_flag):\n",
    "\n",
    "    kf = KFold(n_splits=folds, random_state=42, shuffle=True)\n",
    "    all_performance = pd.DataFrame()\n",
    "    \n",
    "    for i, (train_index, test_index) in enumerate(kf.split(data)):\n",
    "        train = data.iloc[train_index]\n",
    "        test = data.iloc[test_index]\n",
    "\n",
    "        X_train = train[features]\n",
    "        y_train = train.loc[:,\"phenotype\"]\n",
    "        X_test = test[features]\n",
    "        y_test = test.loc[:,\"phenotype\"]\n",
    "        \n",
    "        fraction_variance = .8\n",
    "        if pca_flag:\n",
    "        #perform PCA on the training set\n",
    "            n_components = min(len(features), len(X_train))\n",
    "            pca = PCA(n_components=n_components, svd_solver='randomized', random_state = 100)\n",
    "            PCs = pca.fit_transform(X_train[features])\n",
    "            principal_components = pd.DataFrame(data = PCs, columns = ['PC_'+str(m) for m in np.arange(n_components)], index = X_train.index)\n",
    "\n",
    "            #find the principle components that make up 80% of the varience\n",
    "            for j in range(len(pca.explained_variance_ratio_)):\n",
    "                current_sum = pca.explained_variance_ratio_[:j].sum()\n",
    "                if current_sum>=fraction_variance:\n",
    "                    break\n",
    "            #print('total components',len(pca.explained_variance_ratio_),'number of components:',j)\n",
    "            pca_features = ['PC_'+str(m) for m in np.arange(0,j)]\n",
    "\n",
    "            #apply to the test data\n",
    "            test_PCs = pca.transform(X_test[features])\n",
    "            test_principal_components = pd.DataFrame(data = test_PCs , columns = ['PC_'+str(m) for m in np.arange(n_components)], index = X_test.index)\n",
    "\n",
    "            X_train = principal_components[pca_features]\n",
    "            X_test = test_principal_components[pca_features]\n",
    "\n",
    "        if default_flag:\n",
    "            model = GradientBoostingClassifier()\n",
    "        else:\n",
    "            model = GradientBoostingClassifier(n_estimators=500, min_samples_split=3, min_samples_leaf=2, \n",
    "                                           max_features='sqrt', max_depth=3, criterion='friedman_mse', \n",
    "                                           subsample=1, learning_rate=0.1)\n",
    "        model.fit(X_train, y_train)\n",
    "\n",
    "        pred = model.predict(X_test)\n",
    "        prob = model.predict_proba(X_test)\n",
    "        current_dict = {}\n",
    "        acc = accuracy_score(y_test, pred)\n",
    "        fpr,tpr,_ = roc_curve(y_test, prob[:,1])\n",
    "        AUC = auc(fpr,tpr)\n",
    "        current_dict['fpr'] = fpr\n",
    "        current_dict['tpr'] = tpr\n",
    "        current_dict['accuracy'] = acc\n",
    "        current_dict['auc'] = AUC\n",
    "        all_performance = all_performance.append(pd.Series(current_dict), ignore_index=True)\n",
    "    return(all_performance)"
   ]
  },
  {
   "cell_type": "markdown",
   "id": "e2123b8a",
   "metadata": {},
   "source": [
    "# Leave one out"
   ]
  },
  {
   "cell_type": "code",
   "execution_count": 19,
   "id": "ae145c9b",
   "metadata": {},
   "outputs": [
    {
     "data": {
      "text/plain": [
       "fpr         [0.0, 0.0, 0.0, 0.018518518518518517, 0.018518...\n",
       "tpr         [0.0, 0.018518518518518517, 0.4629629629629629...\n",
       "accuracy                                             0.787037\n",
       "auc                                                   0.88546\n",
       "dtype: object"
      ]
     },
     "execution_count": 19,
     "metadata": {},
     "output_type": "execute_result"
    }
   ],
   "source": [
    "# Logistic Regression\n",
    "lr_loo_perf,LR_LOO_final_fi = LR_loo(scaled_data,False,False,features)\n",
    "lr_loo_perf"
   ]
  },
  {
   "cell_type": "code",
   "execution_count": 20,
   "id": "fe83c415",
   "metadata": {},
   "outputs": [
    {
     "data": {
      "text/plain": [
       "central_coverage_PAX5      0.631237\n",
       "central_coverage_MAF       0.353900\n",
       "central_coverage_CEBPB     0.291954\n",
       "central_coverage_ZNF384    0.173251\n",
       "amplitude190_SCRT2         0.099064\n",
       "mean_coverage_ZFHX2        0.088467\n",
       "amplitude190_ZNF574        0.047273\n",
       "amplitude190_ZNF444        0.046076\n",
       "amplitude190_KLF6          0.033876\n",
       "amplitude190_MBD2          0.010633\n",
       "dtype: float64"
      ]
     },
     "execution_count": 20,
     "metadata": {},
     "output_type": "execute_result"
    }
   ],
   "source": [
    "# features with highest absolute values over all iterations\n",
    "np.abs(LR_LOO_final_fi.mean(axis=1)).sort_values(ascending=False).head(10)"
   ]
  },
  {
   "cell_type": "code",
   "execution_count": 21,
   "id": "4de93733",
   "metadata": {},
   "outputs": [
    {
     "data": {
      "text/plain": [
       "amplitude190_ZFX         0.000000\n",
       "central_coverage_RBPJ    0.000000\n",
       "amplitude190_FOS        -0.000205\n",
       "mean_coverage_GFI1B     -0.000448\n",
       "mean_coverage_HIF3A     -0.000633\n",
       "amplitude190_SMAD3      -0.006772\n",
       "amplitude190_KLF6       -0.033876\n",
       "amplitude190_ZNF444     -0.046076\n",
       "amplitude190_ZNF574     -0.047273\n",
       "mean_coverage_ZFHX2     -0.088467\n",
       "dtype: float64"
      ]
     },
     "execution_count": 21,
     "metadata": {},
     "output_type": "execute_result"
    }
   ],
   "source": [
    "# features with lowest absolute values over all iterations\n",
    "LR_LOO_final_fi.mean(axis=1).sort_values(ascending=False).tail(10)"
   ]
  },
  {
   "cell_type": "code",
   "execution_count": 22,
   "id": "29c2eeb1",
   "metadata": {},
   "outputs": [
    {
     "data": {
      "image/png": "[encoded data removed]",
      "text/plain": [
       "<Figure size 432x288 with 1 Axes>"
      ]
     },
     "metadata": {
      "needs_background": "light"
     },
     "output_type": "display_data"
    }
   ],
   "source": [
    "# Final plot for thesis\n",
    "\n",
    "#fig = plt.gcf()\n",
    "#fig.set_size_inches(9, 6)\n",
    "\n",
    "plt.rcParams.update({'font.size': 11})\n",
    "d = LR_LOO_final_fi.mean(axis=1).sort_values(ascending=False).head(7)\n",
    "\n",
    "d = d.rename(index={'central_coverage_PAX5': 'central coverage PAX5'})\n",
    "d = d.rename(index={'central_coverage_MAF': 'central coverage MAF'})\n",
    "d = d.rename(index={'central_coverage_CEBPB': 'central coverage CEBPB'})\n",
    "d = d.rename(index={'central_coverage_ZNF384': 'central coverage ZNF384'})\n",
    "d = d.rename(index={'amplitude190_SCRT2': 'amplitude SCRT2'})\n",
    "d = d.rename(index={'amplitude190_NFATC3': 'amplitude NFATC3'})\n",
    "d = d.rename(index={'amplitude190_MBD2': 'amplitude MBD2'})\n",
    "d = d.rename(index={'nucleosome_spacing_fft_HMGA1': 'nucleosome spacing HMGA1'})\n",
    "d = d.rename(index={'nucleosome_spacing_fft_ZNF768': 'nucleosome spacing ZNF768'})\n",
    "d = d.rename(index={'amplitude190_OSR2': 'amplitude OSR2'})\n",
    "d = d.rename(index={'central_coverage_ZNF143': 'central coverage ZNF143'})\n",
    "d = d.rename(index={'amplitude190_RBPJ': 'amplitude RBPJ'})\n",
    "d = d.rename(index={'amplitude190_ARID3A': 'amplitude ARID3A'})\n",
    "d = d.rename(index={'amplitude190_ZNF574': 'amplitude ZNF574'})\n",
    "d = d.rename(index={'amplitude190_ZNF444': 'amplitude ZNF444'})\n",
    "d = d.rename(index={'amplitude190_KLF6': 'amplitude KLF6'})\n",
    "d = d.rename(index={'amplitude190_SMAD3': 'amplitude SMAD3'})\n",
    "d = d.rename(index={'mean_coverage_ZFHX2': 'mean coverage ZFHX2'})\n",
    "d = d.rename(index={'mean_coverage_HIF3A': 'mean coverage HIF3A'})\n",
    "d = d.rename(index={'mean_coverage_GFI1B': 'mean coverage GFI1B'})\n",
    "\n",
    "#plt.title('Logistic Regression with leave-one-out cross-validation')\n",
    "plt.barh(d.index,d,color=\"peru\")\n",
    "\n",
    "d = LR_LOO_final_fi.mean(axis=1).sort_values(ascending=False).tail(7)\n",
    "d = d.rename(index={'central_coverage_PAX5': 'central coverage PAX5'})\n",
    "d = d.rename(index={'central_coverage_MAF': 'central coverage MAF'})\n",
    "d = d.rename(index={'central_coverage_CEBPB': 'central coverage CEBPB'})\n",
    "d = d.rename(index={'central_coverage_ZNF384': 'central coverage ZNF384'})\n",
    "d = d.rename(index={'amplitude190_SCRT2': 'amplitude SCRT2'})\n",
    "d = d.rename(index={'amplitude190_NFATC3': 'amplitude NFATC3'})\n",
    "d = d.rename(index={'amplitude190_MBD2': 'amplitude MBD2'})\n",
    "d = d.rename(index={'nucleosome_spacing_fft_HMGA1': 'nucleosome spacing HMGA1'})\n",
    "d = d.rename(index={'nucleosome_spacing_fft_ZNF768': 'nucleosome spacing ZNF768'})\n",
    "d = d.rename(index={'amplitude190_OSR2': 'amplitude OSR2'})\n",
    "d = d.rename(index={'central_coverage_ZNF143': 'central coverage ZNF143'})\n",
    "d = d.rename(index={'amplitude190_RBPJ': 'amplitude RBPJ'})\n",
    "d = d.rename(index={'amplitude190_ARID3A': 'amplitude ARID3A'})\n",
    "d = d.rename(index={'amplitude190_ZNF574': 'amplitude ZNF574'})\n",
    "d = d.rename(index={'amplitude190_ZNF444': 'amplitude ZNF444'})\n",
    "d = d.rename(index={'amplitude190_KLF6': 'amplitude KLF6'})\n",
    "d = d.rename(index={'amplitude190_SMAD3': 'amplitude SMAD3'})\n",
    "d = d.rename(index={'mean_coverage_ZFHX2': 'mean coverage ZFHX2'})\n",
    "d = d.rename(index={'mean_coverage_HIF3A': 'mean coverage HIF3A'})\n",
    "d = d.rename(index={'mean_coverage_GFI1B': 'mean coverage GFI1B'})\n",
    "\n",
    "plt.barh(d.index,d,color=\"steelblue\")\n",
    "\n",
    "plt.axhline(y=6.5, color='gray', linestyle='--', linewidth=0.5)\n",
    "plt.xlabel('Mean Coefficients')\n",
    "plt.ylabel('Features')\n",
    "plt.xlim(-1,1)\n",
    "\n",
    "outfile = \"thesis_plots/LogisticRegression_LOO.pdf\"\n",
    "plt.savefig(outfile,bbox_inches='tight')"
   ]
  },
  {
   "cell_type": "code",
   "execution_count": 23,
   "id": "c10eeaa3",
   "metadata": {},
   "outputs": [
    {
     "data": {
      "text/plain": [
       "fpr         [0.0, 0.0, 0.0, 0.037037037037037035, 0.037037...\n",
       "tpr         [0.0, 0.018518518518518517, 0.5370370370370371...\n",
       "accuracy                                             0.759259\n",
       "auc                                                  0.861454\n",
       "dtype: object"
      ]
     },
     "execution_count": 23,
     "metadata": {},
     "output_type": "execute_result"
    }
   ],
   "source": [
    "# RF scaled data\n",
    "rf_loo_perf,fi = RF_loo(scaled_data,False,False,features)\n",
    "rf_loo_perf"
   ]
  },
  {
   "cell_type": "code",
   "execution_count": 24,
   "id": "c36666ae",
   "metadata": {},
   "outputs": [
    {
     "data": {
      "text/plain": [
       "fpr         [0.0, 0.0, 0.0, 0.018518518518518517, 0.018518...\n",
       "tpr         [0.0, 0.018518518518518517, 0.5185185185185185...\n",
       "accuracy                                             0.814815\n",
       "auc                                                  0.908436\n",
       "dtype: object"
      ]
     },
     "execution_count": 24,
     "metadata": {},
     "output_type": "execute_result"
    }
   ],
   "source": [
    "# GBC scaled data\n",
    "gbc_loo_perf,fi = GBC_loo(data,False,False,features)\n",
    "gbc_loo_perf"
   ]
  },
  {
   "cell_type": "markdown",
   "id": "e456d2d2",
   "metadata": {},
   "source": [
    "# Bootstrapping"
   ]
  },
  {
   "cell_type": "code",
   "execution_count": 25,
   "id": "7681a2ce",
   "metadata": {},
   "outputs": [
    {
     "name": "stdout",
     "output_type": "stream",
     "text": [
      "Accuracy min 0.5128205128205128 mean 0.7480026835862612 max 0.9166666666666666\n",
      "AUROC min 0.5777310924369748 mean 0.8244481884855807 max 0.9744318181818181\n"
     ]
    }
   ],
   "source": [
    "# Logistic Regression\n",
    "lr_bootstrap_perf, fi = LR_bootstrap(scaled_data,False,1000,False,features)\n",
    "\n",
    "print(\"Accuracy min\", lr_bootstrap_perf['accuracy'].min(), \"mean\", lr_bootstrap_perf['accuracy'].mean(), \"max\", lr_bootstrap_perf['accuracy'].max())\n",
    "print(\"AUROC min\", lr_bootstrap_perf['auc'].min(), \"mean\", lr_bootstrap_perf['auc'].mean(), \"max\", lr_bootstrap_perf['auc'].max())"
   ]
  },
  {
   "cell_type": "code",
   "execution_count": 26,
   "id": "29555f10",
   "metadata": {},
   "outputs": [
    {
     "name": "stdout",
     "output_type": "stream",
     "text": [
      "0.003906002485239816\n"
     ]
    },
    {
     "data": {
      "text/plain": [
       "count    1000.000000\n",
       "mean        0.748003\n",
       "std         0.062498\n",
       "min         0.512821\n",
       "25%         0.707317\n",
       "50%         0.750000\n",
       "75%         0.789474\n",
       "max         0.916667\n",
       "Name: accuracy, dtype: float64"
      ]
     },
     "execution_count": 26,
     "metadata": {},
     "output_type": "execute_result"
    }
   ],
   "source": [
    "print(lr_bootstrap_perf['accuracy'].var())\n",
    "lr_bootstrap_perf['accuracy'].describe()"
   ]
  },
  {
   "cell_type": "code",
   "execution_count": 27,
   "id": "ff693ec4",
   "metadata": {},
   "outputs": [
    {
     "name": "stdout",
     "output_type": "stream",
     "text": [
      "0.0037622336405852288\n"
     ]
    },
    {
     "data": {
      "text/plain": [
       "count    1000.000000\n",
       "mean        0.824448\n",
       "std         0.061337\n",
       "min         0.577731\n",
       "25%         0.783180\n",
       "50%         0.830495\n",
       "75%         0.867159\n",
       "max         0.974432\n",
       "Name: auc, dtype: float64"
      ]
     },
     "execution_count": 27,
     "metadata": {},
     "output_type": "execute_result"
    }
   ],
   "source": [
    "print(lr_bootstrap_perf['auc'].var())\n",
    "lr_bootstrap_perf['auc'].describe()"
   ]
  },
  {
   "cell_type": "code",
   "execution_count": 28,
   "id": "58d665bc",
   "metadata": {},
   "outputs": [
    {
     "data": {
      "text/plain": [
       "(0.8244481884855807, 0.8206419371610668, 0.8282544398100945)"
      ]
     },
     "execution_count": 28,
     "metadata": {},
     "output_type": "execute_result"
    }
   ],
   "source": [
    "mean_confidence_interval(lr_bootstrap_perf['auc'], confidence=0.95)"
   ]
  },
  {
   "cell_type": "code",
   "execution_count": 29,
   "id": "e23ed9c9",
   "metadata": {},
   "outputs": [
    {
     "name": "stdout",
     "output_type": "stream",
     "text": [
      "central coverage PAX5        0.459404\n",
      "central coverage MAF         0.236714\n",
      "central coverage CEBPB       0.229677\n",
      "central coverage ZNF384      0.079416\n",
      "amplitude SCRT2              0.050718\n",
      "nucleosome spacing HMGA1     0.038631\n",
      "central coverage ZNF444      0.032387\n",
      "amplitude ARID3A             0.029970\n",
      "amplitude NFATC3             0.028705\n",
      "central coverage FLI1        0.022816\n",
      "amplitude OSR2               0.022702\n",
      "amplitude MBD2               0.022443\n",
      "central coverage FOXK2       0.021669\n",
      "amplitude WT1                0.016554\n",
      "amplitude FOXK1              0.014315\n",
      "amplitude190_TET3            0.014274\n",
      "amplitude HES1               0.014145\n",
      "nucleosome spacing ZNF768    0.013715\n",
      "central coverage ZNF121      0.012122\n",
      "amplitude AHR                0.012035\n",
      "dtype: float64\n"
     ]
    },
    {
     "data": {
      "image/png": "[encoded data removed]",
      "text/plain": [
       "<Figure size 432x288 with 1 Axes>"
      ]
     },
     "metadata": {
      "needs_background": "light"
     },
     "output_type": "display_data"
    }
   ],
   "source": [
    "#fig = plt.gcf()\n",
    "#fig.set_size_inches(9, 6)\n",
    "\n",
    "d = fi.mean(axis=1).sort_values(ascending=False).head(20)\n",
    "d = d.rename(index={'central_coverage_PAX5': 'central coverage PAX5'})\n",
    "d = d.rename(index={'central_coverage_MAF': 'central coverage MAF'})\n",
    "d = d.rename(index={'central_coverage_CEBPB': 'central coverage CEBPB'})\n",
    "d = d.rename(index={'central_coverage_ZNF384': 'central coverage ZNF384'})\n",
    "d = d.rename(index={'amplitude190_SCRT2': 'amplitude SCRT2'})\n",
    "d = d.rename(index={'central_coverage_ZNF444': 'central coverage ZNF444'})\n",
    "d = d.rename(index={'amplitude190_ARID3A': 'amplitude ARID3A'})\n",
    "d = d.rename(index={'nucleosome_spacing_fft_HMGA1': 'nucleosome spacing HMGA1'})\n",
    "d = d.rename(index={'amplitude190_MBD2': 'amplitude MBD2'})\n",
    "d = d.rename(index={'central_coverage_FOXK2': 'central coverage FOXK2'})\n",
    "d = d.rename(index={'amplitude190_NFATC3': 'amplitude NFATC3'})\n",
    "d = d.rename(index={'amplitude190_OSR2': 'amplitude OSR2'})\n",
    "d = d.rename(index={'central_coverage_FLI1': 'central coverage FLI1'})\n",
    "d = d.rename(index={'amplitude190_FOXK1': 'amplitude FOXK1'})\n",
    "d = d.rename(index={'amplitude190_WT1': 'amplitude WT1'})\n",
    "d = d.rename(index={'amplitude190_RBPJ': 'amplitude RBPJ'})\n",
    "d = d.rename(index={'nucleosome_spacing_fft_ZNF768': 'nucleosome spacing ZNF768'})\n",
    "d = d.rename(index={'amplitude190_HES1': 'amplitude HES1'})\n",
    "d = d.rename(index={'central_coverage_ZNF121': 'central coverage ZNF121'})\n",
    "d = d.rename(index={'amplitude190_AHR': 'amplitude AHR'})\n",
    "print(d)\n",
    "\n",
    "outfile = \"thesis_plots/LogisticRegression_bootstrap.pdf\"\n",
    "\n",
    "plt.title('Logistic Regression with 1,000 bootstrap iterations')\n",
    "plt.barh(d.index,d)\n",
    "\n",
    "plt.xlabel('Feature importance')\n",
    "\n",
    "plt.savefig(outfile,bbox_inches='tight')"
   ]
  },
  {
   "cell_type": "code",
   "execution_count": 40,
   "id": "cdc070ae",
   "metadata": {},
   "outputs": [],
   "source": [
    "# Logistic Regression with PCA\n",
    "#lr_bootstrap_PCA_perf,fi = LR_bootstrap(scaled_data,True,1000,False,features)\n",
    "\n",
    "#print(\"Accuracy min\", lr_bootstrap_PCA_perf['accuracy'].min(), \"mean\", lr_bootstrap_PCA_perf['accuracy'].mean(), \"max\", lr_bootstrap_PCA_perf['accuracy'].max())\n",
    "#print(\"AUROC min\", lr_bootstrap_PCA_perf['auc'].min(), \"mean\", lr_bootstrap_PCA_perf['auc'].mean(), \"max\", lr_bootstrap_PCA_perf['auc'].max())\n",
    "\n",
    "#lr_bootstrap_PCA_perf['auc'].mean()"
   ]
  },
  {
   "cell_type": "code",
   "execution_count": 36,
   "id": "43cc6861",
   "metadata": {},
   "outputs": [],
   "source": [
    "# Random Forest\n",
    "rf_bootstrap_perf,fi = RF_bootstrap(scaled_data,False,1000,False,features)"
   ]
  },
  {
   "cell_type": "code",
   "execution_count": 37,
   "id": "94d6ee65",
   "metadata": {},
   "outputs": [
    {
     "name": "stdout",
     "output_type": "stream",
     "text": [
      "0.004685800312566773\n"
     ]
    },
    {
     "data": {
      "text/plain": [
       "count    1000.000000\n",
       "mean        0.755731\n",
       "std         0.068453\n",
       "min         0.394737\n",
       "25%         0.714286\n",
       "50%         0.757166\n",
       "75%         0.804878\n",
       "max         0.972222\n",
       "Name: accuracy, dtype: float64"
      ]
     },
     "execution_count": 37,
     "metadata": {},
     "output_type": "execute_result"
    }
   ],
   "source": [
    "print(rf_bootstrap_perf['accuracy'].var())\n",
    "rf_bootstrap_perf['accuracy'].describe()"
   ]
  },
  {
   "cell_type": "code",
   "execution_count": 38,
   "id": "4c47449e",
   "metadata": {},
   "outputs": [
    {
     "name": "stdout",
     "output_type": "stream",
     "text": [
      "0.0029735806749315386\n"
     ]
    },
    {
     "data": {
      "text/plain": [
       "count    1000.000000\n",
       "mean        0.864633\n",
       "std         0.054531\n",
       "min         0.634503\n",
       "25%         0.833333\n",
       "50%         0.869246\n",
       "75%         0.905135\n",
       "max         1.000000\n",
       "Name: auc, dtype: float64"
      ]
     },
     "execution_count": 38,
     "metadata": {},
     "output_type": "execute_result"
    }
   ],
   "source": [
    "print(rf_bootstrap_perf['auc'].var())\n",
    "rf_bootstrap_perf['auc'].describe()"
   ]
  },
  {
   "cell_type": "code",
   "execution_count": 41,
   "id": "5bf188c7",
   "metadata": {},
   "outputs": [],
   "source": [
    "# Random Forest with PCA\n",
    "#rf_bootstrap_PCA_perf,fi = RF_bootstrap(scaled_data,True,1000,False)\n",
    "#rf_bootstrap_PCA_perf['auc'].mean()"
   ]
  },
  {
   "cell_type": "code",
   "execution_count": 44,
   "id": "b29ee90c",
   "metadata": {},
   "outputs": [],
   "source": [
    "# Gradient Boosting\n",
    "gbc_bootstrap_perf = GBC_bootstrap(scaled_data,False,1000,False,features)"
   ]
  },
  {
   "cell_type": "code",
   "execution_count": 45,
   "id": "99c88e7c",
   "metadata": {},
   "outputs": [
    {
     "name": "stdout",
     "output_type": "stream",
     "text": [
      "0.004101991213252348\n"
     ]
    },
    {
     "data": {
      "text/plain": [
       "count    1000.000000\n",
       "mean        0.777229\n",
       "std         0.064047\n",
       "min         0.531915\n",
       "25%         0.736455\n",
       "50%         0.780488\n",
       "75%         0.825000\n",
       "max         0.948718\n",
       "Name: accuracy, dtype: float64"
      ]
     },
     "execution_count": 45,
     "metadata": {},
     "output_type": "execute_result"
    }
   ],
   "source": [
    "print(gbc_bootstrap_perf['accuracy'].var())\n",
    "gbc_bootstrap_perf['accuracy'].describe()"
   ]
  },
  {
   "cell_type": "code",
   "execution_count": 46,
   "id": "805da8b3",
   "metadata": {},
   "outputs": [
    {
     "name": "stdout",
     "output_type": "stream",
     "text": [
      "0.0026758108454986657\n"
     ]
    },
    {
     "data": {
      "text/plain": [
       "count    1000.000000\n",
       "mean        0.880972\n",
       "std         0.051728\n",
       "min         0.507843\n",
       "25%         0.848297\n",
       "50%         0.888675\n",
       "75%         0.916667\n",
       "max         0.993333\n",
       "Name: auc, dtype: float64"
      ]
     },
     "execution_count": 46,
     "metadata": {},
     "output_type": "execute_result"
    }
   ],
   "source": [
    "print(gbc_bootstrap_perf['auc'].var())\n",
    "gbc_bootstrap_perf['auc'].describe()"
   ]
  },
  {
   "cell_type": "code",
   "execution_count": 47,
   "id": "4e0d9f8c",
   "metadata": {},
   "outputs": [],
   "source": [
    "# Gradient Boosting with PCA\n",
    "#gbc_bootstrap_PCA_perf = GBC_bootstrap(scaled_data,True,1000,False)\n",
    "#gbc_bootstrap_PCA_perf['auc'].mean()"
   ]
  },
  {
   "cell_type": "markdown",
   "id": "0efc0f57",
   "metadata": {},
   "source": [
    "# 10-fold cross validation"
   ]
  },
  {
   "cell_type": "code",
   "execution_count": 48,
   "id": "4140e0ff",
   "metadata": {},
   "outputs": [
    {
     "name": "stdout",
     "output_type": "stream",
     "text": [
      "Accuracy min 0.45454545454545453 mean 0.7881818181818182 max 1.0\n",
      "AUROC min 0.5333333333333333 mean 0.8640873015873016 max 1.0\n"
     ]
    }
   ],
   "source": [
    "# Logistic Regression\n",
    "lr_10fold_perf = LR_kfold_cv(scaled_data,False,10,False)\n",
    "\n",
    "print(\"Accuracy min\", lr_10fold_perf['accuracy'].min(), \"mean\", lr_10fold_perf['accuracy'].mean(), \"max\", lr_10fold_perf['accuracy'].max())\n",
    "print(\"AUROC min\", lr_10fold_perf['auc'].min(), \"mean\", lr_10fold_perf['auc'].mean(), \"max\", lr_10fold_perf['auc'].max())\n",
    "#.quantile(.25), .quantile(.75)"
   ]
  },
  {
   "cell_type": "code",
   "execution_count": 49,
   "id": "8839137b",
   "metadata": {},
   "outputs": [
    {
     "name": "stdout",
     "output_type": "stream",
     "text": [
      "0.025492194674012855\n"
     ]
    },
    {
     "data": {
      "text/plain": [
       "count    10.000000\n",
       "mean      0.788182\n",
       "std       0.159663\n",
       "min       0.454545\n",
       "25%       0.727273\n",
       "50%       0.809091\n",
       "75%       0.906818\n",
       "max       1.000000\n",
       "Name: accuracy, dtype: float64"
      ]
     },
     "execution_count": 49,
     "metadata": {},
     "output_type": "execute_result"
    }
   ],
   "source": [
    "print(lr_10fold_perf['accuracy'].var())\n",
    "lr_10fold_perf['accuracy'].describe()"
   ]
  },
  {
   "cell_type": "code",
   "execution_count": 50,
   "id": "7deacd5a",
   "metadata": {},
   "outputs": [
    {
     "name": "stdout",
     "output_type": "stream",
     "text": [
      "0.02501845028134711\n"
     ]
    },
    {
     "data": {
      "text/plain": [
       "count    10.000000\n",
       "mean      0.864087\n",
       "std       0.158172\n",
       "min       0.533333\n",
       "25%       0.797619\n",
       "50%       0.913690\n",
       "75%       0.991667\n",
       "max       1.000000\n",
       "Name: auc, dtype: float64"
      ]
     },
     "execution_count": 50,
     "metadata": {},
     "output_type": "execute_result"
    }
   ],
   "source": [
    "print(lr_10fold_perf['auc'].var())\n",
    "lr_10fold_perf['auc'].describe()"
   ]
  },
  {
   "cell_type": "code",
   "execution_count": 53,
   "id": "9e6a6f0c",
   "metadata": {},
   "outputs": [
    {
     "name": "stdout",
     "output_type": "stream",
     "text": [
      "Accuracy min 0.6363636363636364 mean 0.730909090909091 max 1.0\n",
      "AUROC min 0.5333333333333334 mean 0.7834126984126983 max 1.0\n"
     ]
    },
    {
     "data": {
      "text/plain": [
       "0.7834126984126983"
      ]
     },
     "execution_count": 53,
     "metadata": {},
     "output_type": "execute_result"
    }
   ],
   "source": [
    "# Logistic Regressoin with PCA\n",
    "lr_10fold_PCA_perf = LR_kfold_cv(scaled_data,True,10,False)\n",
    "\n",
    "print(\"Accuracy min\", lr_10fold_PCA_perf['accuracy'].min(), \"mean\", lr_10fold_PCA_perf['accuracy'].mean(), \"max\", lr_10fold_PCA_perf['accuracy'].max())\n",
    "print(\"AUROC min\", lr_10fold_PCA_perf['auc'].min(), \"mean\", lr_10fold_PCA_perf['auc'].mean(), \"max\", lr_10fold_PCA_perf['auc'].max())\n",
    "\n",
    "lr_10fold_PCA_perf['auc'].mean()"
   ]
  },
  {
   "cell_type": "code",
   "execution_count": 54,
   "id": "703f43dd",
   "metadata": {},
   "outputs": [],
   "source": [
    "# Random forest\n",
    "rf_10fold_perf = RF_kfold_cv(scaled_data,False,10,False)"
   ]
  },
  {
   "cell_type": "code",
   "execution_count": 55,
   "id": "904058e5",
   "metadata": {},
   "outputs": [
    {
     "name": "stdout",
     "output_type": "stream",
     "text": [
      "0.022921028466483022\n"
     ]
    },
    {
     "data": {
      "text/plain": [
       "count    10.000000\n",
       "mean      0.742727\n",
       "std       0.151397\n",
       "min       0.545455\n",
       "25%       0.636364\n",
       "50%       0.763636\n",
       "75%       0.818182\n",
       "max       1.000000\n",
       "Name: accuracy, dtype: float64"
      ]
     },
     "execution_count": 55,
     "metadata": {},
     "output_type": "execute_result"
    }
   ],
   "source": [
    "print(rf_10fold_perf['accuracy'].var())\n",
    "rf_10fold_perf['accuracy'].describe()"
   ]
  },
  {
   "cell_type": "code",
   "execution_count": 56,
   "id": "39706f18",
   "metadata": {},
   "outputs": [
    {
     "name": "stdout",
     "output_type": "stream",
     "text": [
      "0.02283936794882562\n"
     ]
    },
    {
     "data": {
      "text/plain": [
       "count    10.000000\n",
       "mean      0.842738\n",
       "std       0.151127\n",
       "min       0.600000\n",
       "25%       0.711806\n",
       "50%       0.916667\n",
       "75%       0.950397\n",
       "max       1.000000\n",
       "Name: auc, dtype: float64"
      ]
     },
     "execution_count": 56,
     "metadata": {},
     "output_type": "execute_result"
    }
   ],
   "source": [
    "print(rf_10fold_perf['auc'].var())\n",
    "rf_10fold_perf['auc'].describe()"
   ]
  },
  {
   "cell_type": "code",
   "execution_count": 57,
   "id": "54f1628d",
   "metadata": {},
   "outputs": [],
   "source": [
    "# Random Forest with PCA\n",
    "rf_10fold_PCA_perf = RF_kfold_cv(scaled_data,True,10,False)"
   ]
  },
  {
   "cell_type": "code",
   "execution_count": 58,
   "id": "ef7dacb5",
   "metadata": {},
   "outputs": [
    {
     "data": {
      "text/plain": [
       "0.8042063492063493"
      ]
     },
     "execution_count": 58,
     "metadata": {},
     "output_type": "execute_result"
    }
   ],
   "source": [
    "rf_10fold_PCA_perf['auc'].mean()"
   ]
  },
  {
   "cell_type": "code",
   "execution_count": 59,
   "id": "8aad8bdd",
   "metadata": {},
   "outputs": [],
   "source": [
    "# Gradient Boosting\n",
    "gbc_10fold_perf = GBC_kfold_cv(scaled_data,False,10,False)"
   ]
  },
  {
   "cell_type": "code",
   "execution_count": 60,
   "id": "92f86f96",
   "metadata": {},
   "outputs": [
    {
     "name": "stdout",
     "output_type": "stream",
     "text": [
      "0.02527180899908173\n"
     ]
    },
    {
     "data": {
      "text/plain": [
       "count    10.000000\n",
       "mean      0.751818\n",
       "std       0.158971\n",
       "min       0.454545\n",
       "25%       0.727273\n",
       "50%       0.763636\n",
       "75%       0.818182\n",
       "max       1.000000\n",
       "Name: accuracy, dtype: float64"
      ]
     },
     "execution_count": 60,
     "metadata": {},
     "output_type": "execute_result"
    }
   ],
   "source": [
    "print(gbc_10fold_perf['accuracy'].var())\n",
    "gbc_10fold_perf['accuracy'].describe()"
   ]
  },
  {
   "cell_type": "code",
   "execution_count": 61,
   "id": "92ae5940",
   "metadata": {},
   "outputs": [
    {
     "name": "stdout",
     "output_type": "stream",
     "text": [
      "0.017174771143025108\n"
     ]
    },
    {
     "data": {
      "text/plain": [
       "count    10.000000\n",
       "mean      0.873016\n",
       "std       0.131053\n",
       "min       0.666667\n",
       "25%       0.791667\n",
       "50%       0.916667\n",
       "75%       0.988095\n",
       "max       1.000000\n",
       "Name: auc, dtype: float64"
      ]
     },
     "execution_count": 61,
     "metadata": {},
     "output_type": "execute_result"
    }
   ],
   "source": [
    "print(gbc_10fold_perf['auc'].var())\n",
    "gbc_10fold_perf['auc'].describe()"
   ]
  },
  {
   "cell_type": "code",
   "execution_count": 62,
   "id": "b7e36a6b",
   "metadata": {},
   "outputs": [],
   "source": [
    "# Gradient Boosting with PCA\n",
    "gbc_10fold_PCA_perf = GBC_kfold_cv(scaled_data,True,10,False)"
   ]
  },
  {
   "cell_type": "code",
   "execution_count": 63,
   "id": "54b0e6ed",
   "metadata": {},
   "outputs": [
    {
     "data": {
      "text/plain": [
       "0.7676984126984128"
      ]
     },
     "execution_count": 63,
     "metadata": {},
     "output_type": "execute_result"
    }
   ],
   "source": [
    "gbc_10fold_PCA_perf['auc'].mean()"
   ]
  },
  {
   "cell_type": "code",
   "execution_count": null,
   "id": "6057fd2c",
   "metadata": {},
   "outputs": [],
   "source": []
  },
  {
   "cell_type": "markdown",
   "id": "006a6718",
   "metadata": {},
   "source": [
    "# uncorrected"
   ]
  },
  {
   "cell_type": "code",
   "execution_count": 64,
   "id": "f1fb287d",
   "metadata": {},
   "outputs": [
    {
     "data": {
      "text/plain": [
       "central_coverage_NFKB2          1.361308e-15\n",
       "mean_coverage_NFKB2             4.256163e-13\n",
       "amplitude190_NFKB2              1.727014e-16\n",
       "nucleosome_spacing_fft_NFKB2   -1.089663e-16\n",
       "central_coverage_TP73          -1.764021e-15\n",
       "                                    ...     \n",
       "nucleosome_spacing_fft_WT1     -1.233581e-17\n",
       "central_coverage_STAT3         -4.362765e-15\n",
       "mean_coverage_STAT3             7.062293e-13\n",
       "amplitude190_STAT3              7.461881e-16\n",
       "nucleosome_spacing_fft_STAT3    6.466021e-16\n",
       "Length: 1508, dtype: float64"
      ]
     },
     "execution_count": 64,
     "metadata": {},
     "output_type": "execute_result"
    }
   ],
   "source": [
    "# params\n",
    "cancer_type = \"breast_cancer\"\n",
    "GC = \"uncorrected\"\n",
    "score = \"MIDPOINT\"\n",
    "amplitude = \"FFT\"\n",
    "\n",
    "# cancer features\n",
    "file = \"/data/gpfs-1/groups/ag_kircher/cfDNA-analysis/lea/cfDNA_classification_analyses/features/DELFI_\"+cancer_type+\"_\"+GC+\"_\"+score+\"_\"+amplitude+\"_features.csv\"\n",
    "c_features = pd.read_csv(file, sep=\"\\t\", index_col=0)\n",
    "\n",
    "file = \"/data/gpfs-1/groups/ag_kircher/cfDNA-analysis/lea/cfDNA_classification_analyses/features/DELFI_\"+cancer_type+\"_metadata.tsv\"\n",
    "c_meta = pd.read_csv(file, sep='\\t', index_col='sample_name')\n",
    "\n",
    "c_features = c_features.reset_index(drop=False)\n",
    "c_features[['sample','p','score']] = c_features['index'].str.split('_',2, expand=True)\n",
    "c_features = c_features.set_index('sample')\n",
    "cancer = pd.concat([c_features, c_meta], axis=1)\n",
    "\n",
    "# healthy features\n",
    "file = \"/data/gpfs-1/groups/ag_kircher/cfDNA-analysis/lea/cfDNA_classification_analyses/features/DELFI_healthy_\"+GC+\"_\"+score+\"_\"+amplitude+\"_features.csv\"\n",
    "h_features = pd.read_csv(file, sep=\"\\t\", index_col=0)\n",
    "\n",
    "file = \"/data/gpfs-1/groups/ag_kircher/cfDNA-analysis/lea/cfDNA_classification_analyses/features/DELFI_healthy_metadata.tsv\"\n",
    "h_meta = pd.read_csv(file, sep='\\t', index_col='sample_name')\n",
    "\n",
    "h_features = h_features.reset_index(drop=False)\n",
    "h_features[['sample','p','score']] = h_features['index'].str.split('_',2, expand=True)\n",
    "h_features = h_features.set_index('sample')\n",
    "healthy = pd.concat([h_features, h_meta], axis=1)\n",
    "\n",
    "# concat breast cancer and healthy\n",
    "data_uncorrected = pd.concat([cancer, healthy], axis=0) #pd.concat([data1, data2], axis=0)\n",
    "features_uncorrected = data_uncorrected.columns[(data_uncorrected.columns.str.startswith('central_cov')) | (data_uncorrected.columns.str.startswith('mean_cov')) | (data_uncorrected.columns.str.startswith('amplitude')) | (data_uncorrected.columns.str.startswith('nucleosome_spacing'))]\n",
    "\n",
    "scaled_data_uncorrected = pd.concat([cancer, healthy], axis=0) \n",
    "scaler = StandardScaler()\n",
    "scaler.fit(scaled_data_uncorrected[features_uncorrected])\n",
    "scaled_data_uncorrected[features_uncorrected] = scaler.transform(scaled_data_uncorrected[features_uncorrected])\n",
    "scaled_data_uncorrected[features_uncorrected].mean()"
   ]
  },
  {
   "cell_type": "code",
   "execution_count": 65,
   "id": "eea48226",
   "metadata": {},
   "outputs": [
    {
     "data": {
      "text/plain": [
       "fpr         [0.0, 0.0, 0.0, 0.018518518518518517, 0.018518...\n",
       "tpr         [0.0, 0.018518518518518517, 0.5555555555555556...\n",
       "accuracy                                             0.842593\n",
       "auc                                                  0.875514\n",
       "dtype: object"
      ]
     },
     "execution_count": 65,
     "metadata": {},
     "output_type": "execute_result"
    }
   ],
   "source": [
    "# Logistic Regression with leave-one-out cross-validation\n",
    "LR_uncorrected_loo,LR_uncorrected_fi = LR_loo(scaled_data_uncorrected,False,False,features_uncorrected)\n",
    "\n",
    "LR_uncorrected_loo"
   ]
  },
  {
   "cell_type": "code",
   "execution_count": 66,
   "id": "d28473b9",
   "metadata": {},
   "outputs": [
    {
     "name": "stdout",
     "output_type": "stream",
     "text": [
      "Accuracy: 0.735\n",
      "AUROC: 0.806\n"
     ]
    }
   ],
   "source": [
    "# Logistic Regression with bootstrap\n",
    "LR_uncorrected_bootstrap, LR_uncorrected_fi = LR_bootstrap(scaled_data_uncorrected,False,1000,False,features_uncorrected)\n",
    "\n",
    "print('Accuracy: %.3f' % LR_uncorrected_bootstrap['accuracy'].mean())\n",
    "print('AUROC: %.3f' % LR_uncorrected_bootstrap['auc'].mean())"
   ]
  },
  {
   "cell_type": "code",
   "execution_count": 67,
   "id": "7c7a696f",
   "metadata": {},
   "outputs": [
    {
     "data": {
      "text/plain": [
       "central_coverage_CEBPB           0.311755\n",
       "central_coverage_MAF             0.242810\n",
       "central_coverage_ZNF384          0.178761\n",
       "central_coverage_PAX5            0.125622\n",
       "nucleosome_spacing_fft_HMGA1     0.069650\n",
       "nucleosome_spacing_fft_ZNF768    0.055107\n",
       "central_coverage_FLI1            0.035620\n",
       "mean_coverage_IKZF1              0.035523\n",
       "nucleosome_spacing_fft_ZNF384    0.031886\n",
       "amplitude190_REL                 0.031789\n",
       "dtype: float64"
      ]
     },
     "execution_count": 67,
     "metadata": {},
     "output_type": "execute_result"
    }
   ],
   "source": [
    "LR_uncorrected_fi.mean(axis=1).sort_values(ascending=False).head(10)"
   ]
  },
  {
   "cell_type": "code",
   "execution_count": 68,
   "id": "a665b3a9",
   "metadata": {},
   "outputs": [
    {
     "ename": "KeyboardInterrupt",
     "evalue": "",
     "output_type": "error",
     "traceback": [
      "\u001b[0;31m---------------------------------------------------------------------------\u001b[0m",
      "\u001b[0;31mKeyboardInterrupt\u001b[0m                         Traceback (most recent call last)",
      "\u001b[0;32m<ipython-input-68-ac844f3c7dfb>\u001b[0m in \u001b[0;36m<module>\u001b[0;34m\u001b[0m\n\u001b[1;32m      1\u001b[0m \u001b[0;31m# Random Forest with bootstrap\u001b[0m\u001b[0;34m\u001b[0m\u001b[0;34m\u001b[0m\u001b[0;34m\u001b[0m\u001b[0m\n\u001b[0;32m----> 2\u001b[0;31m \u001b[0mRF_uncorrected_bootstrap\u001b[0m\u001b[0;34m,\u001b[0m \u001b[0mRF_uncorrected_fi\u001b[0m \u001b[0;34m=\u001b[0m \u001b[0mRF_bootstrap\u001b[0m\u001b[0;34m(\u001b[0m\u001b[0mscaled_data_uncorrected\u001b[0m\u001b[0;34m,\u001b[0m\u001b[0;32mFalse\u001b[0m\u001b[0;34m,\u001b[0m\u001b[0;36m1000\u001b[0m\u001b[0;34m,\u001b[0m\u001b[0;32mFalse\u001b[0m\u001b[0;34m,\u001b[0m\u001b[0mfeatures_uncorrected\u001b[0m\u001b[0;34m)\u001b[0m\u001b[0;34m\u001b[0m\u001b[0;34m\u001b[0m\u001b[0m\n\u001b[0m\u001b[1;32m      3\u001b[0m \u001b[0;34m\u001b[0m\u001b[0m\n\u001b[1;32m      4\u001b[0m \u001b[0mprint\u001b[0m\u001b[0;34m(\u001b[0m\u001b[0;34m'Accuracy: %.3f'\u001b[0m \u001b[0;34m%\u001b[0m \u001b[0mRF_uncorrected_bootstrap\u001b[0m\u001b[0;34m[\u001b[0m\u001b[0;34m'accuracy'\u001b[0m\u001b[0;34m]\u001b[0m\u001b[0;34m.\u001b[0m\u001b[0mmean\u001b[0m\u001b[0;34m(\u001b[0m\u001b[0;34m)\u001b[0m\u001b[0;34m)\u001b[0m\u001b[0;34m\u001b[0m\u001b[0;34m\u001b[0m\u001b[0m\n\u001b[1;32m      5\u001b[0m \u001b[0mprint\u001b[0m\u001b[0;34m(\u001b[0m\u001b[0;34m'AUROC: %.3f'\u001b[0m \u001b[0;34m%\u001b[0m \u001b[0mRF_uncorrected_bootstrap\u001b[0m\u001b[0;34m[\u001b[0m\u001b[0;34m'auc'\u001b[0m\u001b[0;34m]\u001b[0m\u001b[0;34m.\u001b[0m\u001b[0mmean\u001b[0m\u001b[0;34m(\u001b[0m\u001b[0;34m)\u001b[0m\u001b[0;34m)\u001b[0m\u001b[0;34m\u001b[0m\u001b[0;34m\u001b[0m\u001b[0m\n",
      "\u001b[0;32m<ipython-input-13-ae0909e67e3c>\u001b[0m in \u001b[0;36mRF_bootstrap\u001b[0;34m(input_data, pca_flag, iterations, default_flag, all_features)\u001b[0m\n\u001b[1;32m     43\u001b[0m             model = RandomForestClassifier(n_estimators=500, min_samples_split=3, min_samples_leaf=2, \n\u001b[1;32m     44\u001b[0m                                        max_features='sqrt', max_depth=8, criterion='gini', bootstrap=True)\n\u001b[0;32m---> 45\u001b[0;31m         \u001b[0mmodel\u001b[0m\u001b[0;34m.\u001b[0m\u001b[0mfit\u001b[0m\u001b[0;34m(\u001b[0m\u001b[0mX_train\u001b[0m\u001b[0;34m,\u001b[0m \u001b[0my_train\u001b[0m\u001b[0;34m)\u001b[0m\u001b[0;34m\u001b[0m\u001b[0;34m\u001b[0m\u001b[0m\n\u001b[0m\u001b[1;32m     46\u001b[0m \u001b[0;34m\u001b[0m\u001b[0m\n\u001b[1;32m     47\u001b[0m         \u001b[0mpred\u001b[0m \u001b[0;34m=\u001b[0m \u001b[0mmodel\u001b[0m\u001b[0;34m.\u001b[0m\u001b[0mpredict\u001b[0m\u001b[0;34m(\u001b[0m\u001b[0mX_test\u001b[0m\u001b[0;34m)\u001b[0m\u001b[0;34m\u001b[0m\u001b[0;34m\u001b[0m\u001b[0m\n",
      "\u001b[0;32m/fast/users/lburkar_m/work/miniconda/envs/jupyter/lib/python3.9/site-packages/sklearn/ensemble/_forest.py\u001b[0m in \u001b[0;36mfit\u001b[0;34m(self, X, y, sample_weight)\u001b[0m\n\u001b[1;32m    448\u001b[0m             \u001b[0;31m# parallel_backend contexts set at a higher level,\u001b[0m\u001b[0;34m\u001b[0m\u001b[0;34m\u001b[0m\u001b[0;34m\u001b[0m\u001b[0m\n\u001b[1;32m    449\u001b[0m             \u001b[0;31m# since correctness does not rely on using threads.\u001b[0m\u001b[0;34m\u001b[0m\u001b[0;34m\u001b[0m\u001b[0;34m\u001b[0m\u001b[0m\n\u001b[0;32m--> 450\u001b[0;31m             trees = Parallel(\n\u001b[0m\u001b[1;32m    451\u001b[0m                 \u001b[0mn_jobs\u001b[0m\u001b[0;34m=\u001b[0m\u001b[0mself\u001b[0m\u001b[0;34m.\u001b[0m\u001b[0mn_jobs\u001b[0m\u001b[0;34m,\u001b[0m\u001b[0;34m\u001b[0m\u001b[0;34m\u001b[0m\u001b[0m\n\u001b[1;32m    452\u001b[0m                 \u001b[0mverbose\u001b[0m\u001b[0;34m=\u001b[0m\u001b[0mself\u001b[0m\u001b[0;34m.\u001b[0m\u001b[0mverbose\u001b[0m\u001b[0;34m,\u001b[0m\u001b[0;34m\u001b[0m\u001b[0;34m\u001b[0m\u001b[0m\n",
      "\u001b[0;32m/fast/users/lburkar_m/work/miniconda/envs/jupyter/lib/python3.9/site-packages/joblib/parallel.py\u001b[0m in \u001b[0;36m__call__\u001b[0;34m(self, iterable)\u001b[0m\n\u001b[1;32m   1044\u001b[0m                 \u001b[0mself\u001b[0m\u001b[0;34m.\u001b[0m\u001b[0m_iterating\u001b[0m \u001b[0;34m=\u001b[0m \u001b[0mself\u001b[0m\u001b[0;34m.\u001b[0m\u001b[0m_original_iterator\u001b[0m \u001b[0;32mis\u001b[0m \u001b[0;32mnot\u001b[0m \u001b[0;32mNone\u001b[0m\u001b[0;34m\u001b[0m\u001b[0;34m\u001b[0m\u001b[0m\n\u001b[1;32m   1045\u001b[0m \u001b[0;34m\u001b[0m\u001b[0m\n\u001b[0;32m-> 1046\u001b[0;31m             \u001b[0;32mwhile\u001b[0m \u001b[0mself\u001b[0m\u001b[0;34m.\u001b[0m\u001b[0mdispatch_one_batch\u001b[0m\u001b[0;34m(\u001b[0m\u001b[0miterator\u001b[0m\u001b[0;34m)\u001b[0m\u001b[0;34m:\u001b[0m\u001b[0;34m\u001b[0m\u001b[0;34m\u001b[0m\u001b[0m\n\u001b[0m\u001b[1;32m   1047\u001b[0m                 \u001b[0;32mpass\u001b[0m\u001b[0;34m\u001b[0m\u001b[0;34m\u001b[0m\u001b[0m\n\u001b[1;32m   1048\u001b[0m \u001b[0;34m\u001b[0m\u001b[0m\n",
      "\u001b[0;32m/fast/users/lburkar_m/work/miniconda/envs/jupyter/lib/python3.9/site-packages/joblib/parallel.py\u001b[0m in \u001b[0;36mdispatch_one_batch\u001b[0;34m(self, iterator)\u001b[0m\n\u001b[1;32m    859\u001b[0m                 \u001b[0;32mreturn\u001b[0m \u001b[0;32mFalse\u001b[0m\u001b[0;34m\u001b[0m\u001b[0;34m\u001b[0m\u001b[0m\n\u001b[1;32m    860\u001b[0m             \u001b[0;32melse\u001b[0m\u001b[0;34m:\u001b[0m\u001b[0;34m\u001b[0m\u001b[0;34m\u001b[0m\u001b[0m\n\u001b[0;32m--> 861\u001b[0;31m                 \u001b[0mself\u001b[0m\u001b[0;34m.\u001b[0m\u001b[0m_dispatch\u001b[0m\u001b[0;34m(\u001b[0m\u001b[0mtasks\u001b[0m\u001b[0;34m)\u001b[0m\u001b[0;34m\u001b[0m\u001b[0;34m\u001b[0m\u001b[0m\n\u001b[0m\u001b[1;32m    862\u001b[0m                 \u001b[0;32mreturn\u001b[0m \u001b[0;32mTrue\u001b[0m\u001b[0;34m\u001b[0m\u001b[0;34m\u001b[0m\u001b[0m\n\u001b[1;32m    863\u001b[0m \u001b[0;34m\u001b[0m\u001b[0m\n",
      "\u001b[0;32m/fast/users/lburkar_m/work/miniconda/envs/jupyter/lib/python3.9/site-packages/joblib/parallel.py\u001b[0m in \u001b[0;36m_dispatch\u001b[0;34m(self, batch)\u001b[0m\n\u001b[1;32m    777\u001b[0m         \u001b[0;32mwith\u001b[0m \u001b[0mself\u001b[0m\u001b[0;34m.\u001b[0m\u001b[0m_lock\u001b[0m\u001b[0;34m:\u001b[0m\u001b[0;34m\u001b[0m\u001b[0;34m\u001b[0m\u001b[0m\n\u001b[1;32m    778\u001b[0m             \u001b[0mjob_idx\u001b[0m \u001b[0;34m=\u001b[0m \u001b[0mlen\u001b[0m\u001b[0;34m(\u001b[0m\u001b[0mself\u001b[0m\u001b[0;34m.\u001b[0m\u001b[0m_jobs\u001b[0m\u001b[0;34m)\u001b[0m\u001b[0;34m\u001b[0m\u001b[0;34m\u001b[0m\u001b[0m\n\u001b[0;32m--> 779\u001b[0;31m             \u001b[0mjob\u001b[0m \u001b[0;34m=\u001b[0m \u001b[0mself\u001b[0m\u001b[0;34m.\u001b[0m\u001b[0m_backend\u001b[0m\u001b[0;34m.\u001b[0m\u001b[0mapply_async\u001b[0m\u001b[0;34m(\u001b[0m\u001b[0mbatch\u001b[0m\u001b[0;34m,\u001b[0m \u001b[0mcallback\u001b[0m\u001b[0;34m=\u001b[0m\u001b[0mcb\u001b[0m\u001b[0;34m)\u001b[0m\u001b[0;34m\u001b[0m\u001b[0;34m\u001b[0m\u001b[0m\n\u001b[0m\u001b[1;32m    780\u001b[0m             \u001b[0;31m# A job can complete so quickly than its callback is\u001b[0m\u001b[0;34m\u001b[0m\u001b[0;34m\u001b[0m\u001b[0;34m\u001b[0m\u001b[0m\n\u001b[1;32m    781\u001b[0m             \u001b[0;31m# called before we get here, causing self._jobs to\u001b[0m\u001b[0;34m\u001b[0m\u001b[0;34m\u001b[0m\u001b[0;34m\u001b[0m\u001b[0m\n",
      "\u001b[0;32m/fast/users/lburkar_m/work/miniconda/envs/jupyter/lib/python3.9/site-packages/joblib/_parallel_backends.py\u001b[0m in \u001b[0;36mapply_async\u001b[0;34m(self, func, callback)\u001b[0m\n\u001b[1;32m    206\u001b[0m     \u001b[0;32mdef\u001b[0m \u001b[0mapply_async\u001b[0m\u001b[0;34m(\u001b[0m\u001b[0mself\u001b[0m\u001b[0;34m,\u001b[0m \u001b[0mfunc\u001b[0m\u001b[0;34m,\u001b[0m \u001b[0mcallback\u001b[0m\u001b[0;34m=\u001b[0m\u001b[0;32mNone\u001b[0m\u001b[0;34m)\u001b[0m\u001b[0;34m:\u001b[0m\u001b[0;34m\u001b[0m\u001b[0;34m\u001b[0m\u001b[0m\n\u001b[1;32m    207\u001b[0m         \u001b[0;34m\"\"\"Schedule a func to be run\"\"\"\u001b[0m\u001b[0;34m\u001b[0m\u001b[0;34m\u001b[0m\u001b[0m\n\u001b[0;32m--> 208\u001b[0;31m         \u001b[0mresult\u001b[0m \u001b[0;34m=\u001b[0m \u001b[0mImmediateResult\u001b[0m\u001b[0;34m(\u001b[0m\u001b[0mfunc\u001b[0m\u001b[0;34m)\u001b[0m\u001b[0;34m\u001b[0m\u001b[0;34m\u001b[0m\u001b[0m\n\u001b[0m\u001b[1;32m    209\u001b[0m         \u001b[0;32mif\u001b[0m \u001b[0mcallback\u001b[0m\u001b[0;34m:\u001b[0m\u001b[0;34m\u001b[0m\u001b[0;34m\u001b[0m\u001b[0m\n\u001b[1;32m    210\u001b[0m             \u001b[0mcallback\u001b[0m\u001b[0;34m(\u001b[0m\u001b[0mresult\u001b[0m\u001b[0;34m)\u001b[0m\u001b[0;34m\u001b[0m\u001b[0;34m\u001b[0m\u001b[0m\n",
      "\u001b[0;32m/fast/users/lburkar_m/work/miniconda/envs/jupyter/lib/python3.9/site-packages/joblib/_parallel_backends.py\u001b[0m in \u001b[0;36m__init__\u001b[0;34m(self, batch)\u001b[0m\n\u001b[1;32m    570\u001b[0m         \u001b[0;31m# Don't delay the application, to avoid keeping the input\u001b[0m\u001b[0;34m\u001b[0m\u001b[0;34m\u001b[0m\u001b[0;34m\u001b[0m\u001b[0m\n\u001b[1;32m    571\u001b[0m         \u001b[0;31m# arguments in memory\u001b[0m\u001b[0;34m\u001b[0m\u001b[0;34m\u001b[0m\u001b[0;34m\u001b[0m\u001b[0m\n\u001b[0;32m--> 572\u001b[0;31m         \u001b[0mself\u001b[0m\u001b[0;34m.\u001b[0m\u001b[0mresults\u001b[0m \u001b[0;34m=\u001b[0m \u001b[0mbatch\u001b[0m\u001b[0;34m(\u001b[0m\u001b[0;34m)\u001b[0m\u001b[0;34m\u001b[0m\u001b[0;34m\u001b[0m\u001b[0m\n\u001b[0m\u001b[1;32m    573\u001b[0m \u001b[0;34m\u001b[0m\u001b[0m\n\u001b[1;32m    574\u001b[0m     \u001b[0;32mdef\u001b[0m \u001b[0mget\u001b[0m\u001b[0;34m(\u001b[0m\u001b[0mself\u001b[0m\u001b[0;34m)\u001b[0m\u001b[0;34m:\u001b[0m\u001b[0;34m\u001b[0m\u001b[0;34m\u001b[0m\u001b[0m\n",
      "\u001b[0;32m/fast/users/lburkar_m/work/miniconda/envs/jupyter/lib/python3.9/site-packages/joblib/parallel.py\u001b[0m in \u001b[0;36m__call__\u001b[0;34m(self)\u001b[0m\n\u001b[1;32m    260\u001b[0m         \u001b[0;31m# change the default number of processes to -1\u001b[0m\u001b[0;34m\u001b[0m\u001b[0;34m\u001b[0m\u001b[0;34m\u001b[0m\u001b[0m\n\u001b[1;32m    261\u001b[0m         \u001b[0;32mwith\u001b[0m \u001b[0mparallel_backend\u001b[0m\u001b[0;34m(\u001b[0m\u001b[0mself\u001b[0m\u001b[0;34m.\u001b[0m\u001b[0m_backend\u001b[0m\u001b[0;34m,\u001b[0m \u001b[0mn_jobs\u001b[0m\u001b[0;34m=\u001b[0m\u001b[0mself\u001b[0m\u001b[0;34m.\u001b[0m\u001b[0m_n_jobs\u001b[0m\u001b[0;34m)\u001b[0m\u001b[0;34m:\u001b[0m\u001b[0;34m\u001b[0m\u001b[0;34m\u001b[0m\u001b[0m\n\u001b[0;32m--> 262\u001b[0;31m             return [func(*args, **kwargs)\n\u001b[0m\u001b[1;32m    263\u001b[0m                     for func, args, kwargs in self.items]\n\u001b[1;32m    264\u001b[0m \u001b[0;34m\u001b[0m\u001b[0m\n",
      "\u001b[0;32m/fast/users/lburkar_m/work/miniconda/envs/jupyter/lib/python3.9/site-packages/joblib/parallel.py\u001b[0m in \u001b[0;36m<listcomp>\u001b[0;34m(.0)\u001b[0m\n\u001b[1;32m    260\u001b[0m         \u001b[0;31m# change the default number of processes to -1\u001b[0m\u001b[0;34m\u001b[0m\u001b[0;34m\u001b[0m\u001b[0;34m\u001b[0m\u001b[0m\n\u001b[1;32m    261\u001b[0m         \u001b[0;32mwith\u001b[0m \u001b[0mparallel_backend\u001b[0m\u001b[0;34m(\u001b[0m\u001b[0mself\u001b[0m\u001b[0;34m.\u001b[0m\u001b[0m_backend\u001b[0m\u001b[0;34m,\u001b[0m \u001b[0mn_jobs\u001b[0m\u001b[0;34m=\u001b[0m\u001b[0mself\u001b[0m\u001b[0;34m.\u001b[0m\u001b[0m_n_jobs\u001b[0m\u001b[0;34m)\u001b[0m\u001b[0;34m:\u001b[0m\u001b[0;34m\u001b[0m\u001b[0;34m\u001b[0m\u001b[0m\n\u001b[0;32m--> 262\u001b[0;31m             return [func(*args, **kwargs)\n\u001b[0m\u001b[1;32m    263\u001b[0m                     for func, args, kwargs in self.items]\n\u001b[1;32m    264\u001b[0m \u001b[0;34m\u001b[0m\u001b[0m\n",
      "\u001b[0;32m/fast/users/lburkar_m/work/miniconda/envs/jupyter/lib/python3.9/site-packages/sklearn/utils/fixes.py\u001b[0m in \u001b[0;36m__call__\u001b[0;34m(self, *args, **kwargs)\u001b[0m\n\u001b[1;32m    214\u001b[0m     \u001b[0;32mdef\u001b[0m \u001b[0m__call__\u001b[0m\u001b[0;34m(\u001b[0m\u001b[0mself\u001b[0m\u001b[0;34m,\u001b[0m \u001b[0;34m*\u001b[0m\u001b[0margs\u001b[0m\u001b[0;34m,\u001b[0m \u001b[0;34m**\u001b[0m\u001b[0mkwargs\u001b[0m\u001b[0;34m)\u001b[0m\u001b[0;34m:\u001b[0m\u001b[0;34m\u001b[0m\u001b[0;34m\u001b[0m\u001b[0m\n\u001b[1;32m    215\u001b[0m         \u001b[0;32mwith\u001b[0m \u001b[0mconfig_context\u001b[0m\u001b[0;34m(\u001b[0m\u001b[0;34m**\u001b[0m\u001b[0mself\u001b[0m\u001b[0;34m.\u001b[0m\u001b[0mconfig\u001b[0m\u001b[0;34m)\u001b[0m\u001b[0;34m:\u001b[0m\u001b[0;34m\u001b[0m\u001b[0;34m\u001b[0m\u001b[0m\n\u001b[0;32m--> 216\u001b[0;31m             \u001b[0;32mreturn\u001b[0m \u001b[0mself\u001b[0m\u001b[0;34m.\u001b[0m\u001b[0mfunction\u001b[0m\u001b[0;34m(\u001b[0m\u001b[0;34m*\u001b[0m\u001b[0margs\u001b[0m\u001b[0;34m,\u001b[0m \u001b[0;34m**\u001b[0m\u001b[0mkwargs\u001b[0m\u001b[0;34m)\u001b[0m\u001b[0;34m\u001b[0m\u001b[0;34m\u001b[0m\u001b[0m\n\u001b[0m\u001b[1;32m    217\u001b[0m \u001b[0;34m\u001b[0m\u001b[0m\n\u001b[1;32m    218\u001b[0m \u001b[0;34m\u001b[0m\u001b[0m\n",
      "\u001b[0;32m/fast/users/lburkar_m/work/miniconda/envs/jupyter/lib/python3.9/site-packages/sklearn/ensemble/_forest.py\u001b[0m in \u001b[0;36m_parallel_build_trees\u001b[0;34m(tree, forest, X, y, sample_weight, tree_idx, n_trees, verbose, class_weight, n_samples_bootstrap)\u001b[0m\n\u001b[1;32m    183\u001b[0m             \u001b[0mcurr_sample_weight\u001b[0m \u001b[0;34m*=\u001b[0m \u001b[0mcompute_sample_weight\u001b[0m\u001b[0;34m(\u001b[0m\u001b[0;34m\"balanced\"\u001b[0m\u001b[0;34m,\u001b[0m \u001b[0my\u001b[0m\u001b[0;34m,\u001b[0m \u001b[0mindices\u001b[0m\u001b[0;34m=\u001b[0m\u001b[0mindices\u001b[0m\u001b[0;34m)\u001b[0m\u001b[0;34m\u001b[0m\u001b[0;34m\u001b[0m\u001b[0m\n\u001b[1;32m    184\u001b[0m \u001b[0;34m\u001b[0m\u001b[0m\n\u001b[0;32m--> 185\u001b[0;31m         \u001b[0mtree\u001b[0m\u001b[0;34m.\u001b[0m\u001b[0mfit\u001b[0m\u001b[0;34m(\u001b[0m\u001b[0mX\u001b[0m\u001b[0;34m,\u001b[0m \u001b[0my\u001b[0m\u001b[0;34m,\u001b[0m \u001b[0msample_weight\u001b[0m\u001b[0;34m=\u001b[0m\u001b[0mcurr_sample_weight\u001b[0m\u001b[0;34m,\u001b[0m \u001b[0mcheck_input\u001b[0m\u001b[0;34m=\u001b[0m\u001b[0;32mFalse\u001b[0m\u001b[0;34m)\u001b[0m\u001b[0;34m\u001b[0m\u001b[0;34m\u001b[0m\u001b[0m\n\u001b[0m\u001b[1;32m    186\u001b[0m     \u001b[0;32melse\u001b[0m\u001b[0;34m:\u001b[0m\u001b[0;34m\u001b[0m\u001b[0;34m\u001b[0m\u001b[0m\n\u001b[1;32m    187\u001b[0m         \u001b[0mtree\u001b[0m\u001b[0;34m.\u001b[0m\u001b[0mfit\u001b[0m\u001b[0;34m(\u001b[0m\u001b[0mX\u001b[0m\u001b[0;34m,\u001b[0m \u001b[0my\u001b[0m\u001b[0;34m,\u001b[0m \u001b[0msample_weight\u001b[0m\u001b[0;34m=\u001b[0m\u001b[0msample_weight\u001b[0m\u001b[0;34m,\u001b[0m \u001b[0mcheck_input\u001b[0m\u001b[0;34m=\u001b[0m\u001b[0;32mFalse\u001b[0m\u001b[0;34m)\u001b[0m\u001b[0;34m\u001b[0m\u001b[0;34m\u001b[0m\u001b[0m\n",
      "\u001b[0;32m/fast/users/lburkar_m/work/miniconda/envs/jupyter/lib/python3.9/site-packages/sklearn/tree/_classes.py\u001b[0m in \u001b[0;36mfit\u001b[0;34m(self, X, y, sample_weight, check_input, X_idx_sorted)\u001b[0m\n\u001b[1;32m    935\u001b[0m         \"\"\"\n\u001b[1;32m    936\u001b[0m \u001b[0;34m\u001b[0m\u001b[0m\n\u001b[0;32m--> 937\u001b[0;31m         super().fit(\n\u001b[0m\u001b[1;32m    938\u001b[0m             \u001b[0mX\u001b[0m\u001b[0;34m,\u001b[0m\u001b[0;34m\u001b[0m\u001b[0;34m\u001b[0m\u001b[0m\n\u001b[1;32m    939\u001b[0m             \u001b[0my\u001b[0m\u001b[0;34m,\u001b[0m\u001b[0;34m\u001b[0m\u001b[0;34m\u001b[0m\u001b[0m\n",
      "\u001b[0;32m/fast/users/lburkar_m/work/miniconda/envs/jupyter/lib/python3.9/site-packages/sklearn/tree/_classes.py\u001b[0m in \u001b[0;36mfit\u001b[0;34m(self, X, y, sample_weight, check_input, X_idx_sorted)\u001b[0m\n\u001b[1;32m    418\u001b[0m             )\n\u001b[1;32m    419\u001b[0m \u001b[0;34m\u001b[0m\u001b[0m\n\u001b[0;32m--> 420\u001b[0;31m         \u001b[0mbuilder\u001b[0m\u001b[0;34m.\u001b[0m\u001b[0mbuild\u001b[0m\u001b[0;34m(\u001b[0m\u001b[0mself\u001b[0m\u001b[0;34m.\u001b[0m\u001b[0mtree_\u001b[0m\u001b[0;34m,\u001b[0m \u001b[0mX\u001b[0m\u001b[0;34m,\u001b[0m \u001b[0my\u001b[0m\u001b[0;34m,\u001b[0m \u001b[0msample_weight\u001b[0m\u001b[0;34m)\u001b[0m\u001b[0;34m\u001b[0m\u001b[0;34m\u001b[0m\u001b[0m\n\u001b[0m\u001b[1;32m    421\u001b[0m \u001b[0;34m\u001b[0m\u001b[0m\n\u001b[1;32m    422\u001b[0m         \u001b[0;32mif\u001b[0m \u001b[0mself\u001b[0m\u001b[0;34m.\u001b[0m\u001b[0mn_outputs_\u001b[0m \u001b[0;34m==\u001b[0m \u001b[0;36m1\u001b[0m \u001b[0;32mand\u001b[0m \u001b[0mis_classifier\u001b[0m\u001b[0;34m(\u001b[0m\u001b[0mself\u001b[0m\u001b[0;34m)\u001b[0m\u001b[0;34m:\u001b[0m\u001b[0;34m\u001b[0m\u001b[0;34m\u001b[0m\u001b[0m\n",
      "\u001b[0;31mKeyboardInterrupt\u001b[0m: "
     ]
    }
   ],
   "source": [
    "# Random Forest with bootstrap\n",
    "RF_uncorrected_bootstrap, RF_uncorrected_fi = RF_bootstrap(scaled_data_uncorrected,False,1000,False,features_uncorrected)\n",
    "\n",
    "print('Accuracy: %.3f' % RF_uncorrected_bootstrap['accuracy'].mean())\n",
    "print('AUROC: %.3f' % RF_uncorrected_bootstrap['auc'].mean())"
   ]
  },
  {
   "cell_type": "code",
   "execution_count": null,
   "id": "d7630e69",
   "metadata": {},
   "outputs": [],
   "source": [
    "RF_uncorrected_fi.mean(axis=1).sort_values(ascending=False).head(10)"
   ]
  },
  {
   "cell_type": "code",
   "execution_count": null,
   "id": "e9410eae",
   "metadata": {},
   "outputs": [],
   "source": [
    "mean_confidence_interval(RF_uncorrected_fi['accuracy'], confidence=0.95)"
   ]
  },
  {
   "cell_type": "markdown",
   "id": "058886a4",
   "metadata": {},
   "source": [
    "# feature combinations"
   ]
  },
  {
   "cell_type": "code",
   "execution_count": null,
   "id": "edc46417",
   "metadata": {},
   "outputs": [],
   "source": [
    "features_griffin = data.columns[(data.columns.str.startswith('central_cov')) | (data.columns.str.startswith('mean_cov')) | (data.columns.str.startswith('amplitude'))]\n",
    "features_mine = data.columns[(data.columns.str.startswith('nucleosome_spacing'))]\n",
    "features_mix = data.columns[(data.columns.str.startswith('central_cov')) | (data.columns.str.startswith('mean_cov')) | (data.columns.str.startswith('nucleosome_spacing'))]\n",
    "feature_amplitude = data.columns[(data.columns.str.startswith('amplitude'))]\n",
    "feature_central = data.columns[(data.columns.str.startswith('central_cov'))]\n",
    "feature_mean = data.columns[(data.columns.str.startswith('mean_cov'))]\n",
    "\n",
    "\n",
    "#scale data Griffin\n",
    "scaled_data_griffin = pd.DataFrame(data) \n",
    "scaler = StandardScaler()\n",
    "scaler.fit(scaled_data_griffin[features_griffin])\n",
    "scaled_data_griffin[features_griffin] = scaler.transform(scaled_data_griffin[features_griffin])\n",
    "#scaled_data_griffin[features_griffin].mean()\n",
    "\n",
    "\n",
    "#scale data nucleosome spacing\n",
    "scaled_data_mine = pd.DataFrame(data) \n",
    "scaler = StandardScaler()\n",
    "scaler.fit(scaled_data_mine[features_mine])\n",
    "scaled_data_mine[features_mine] = scaler.transform(scaled_data_mine[features_mine])\n",
    "#scaled_data_mine[features_mine].mean()\n",
    "\n",
    "\n",
    "#scale data mix\n",
    "scaled_data_mix = pd.DataFrame(data) \n",
    "scaler = StandardScaler()\n",
    "scaler.fit(scaled_data_mix[features_mix])\n",
    "scaled_data_mix[features_mix] = scaler.transform(scaled_data_mix[features_mix])\n",
    "#scaled_data_mix[features_mix].mean()\n",
    "\n",
    "\n",
    "#scale data amplitude\n",
    "scaled_data_amplitude = pd.DataFrame(data) \n",
    "scaler = StandardScaler()\n",
    "scaler.fit(scaled_data_amplitude[feature_amplitude])\n",
    "scaled_data_amplitude[feature_amplitude] = scaler.transform(scaled_data_amplitude[feature_amplitude])\n",
    "#scaled_data_amplitude[feature_amplitude].mean()\n",
    "\n",
    "\n",
    "#scale data central\n",
    "scaled_data_central = pd.DataFrame(data) \n",
    "scaler = StandardScaler()\n",
    "scaler.fit(scaled_data_central[feature_central])\n",
    "scaled_data_central[feature_central] = scaler.transform(scaled_data_central[feature_central])\n",
    "#scaled_data_central[feature_central].mean()\n",
    "\n",
    "\n",
    "#scale data mean\n",
    "scaled_data_mean = pd.DataFrame(data) \n",
    "scaler = StandardScaler()\n",
    "scaler.fit(scaled_data_mean[feature_mean])\n",
    "scaled_data_mean[feature_mean] = scaler.transform(scaled_data_mean[feature_mean])\n",
    "#scaled_data_mean[feature_mean].mean()"
   ]
  },
  {
   "cell_type": "markdown",
   "id": "ab03d844",
   "metadata": {},
   "source": [
    "### Griffin Features:"
   ]
  },
  {
   "cell_type": "code",
   "execution_count": null,
   "id": "26c6a789",
   "metadata": {},
   "outputs": [],
   "source": [
    "LR_griffin_loo,LR_griffin_fi = LR_loo(scaled_data_griffin,False,False,features_griffin)\n",
    "\n",
    "LR_griffin_loo"
   ]
  },
  {
   "cell_type": "code",
   "execution_count": null,
   "id": "f6a33fc4",
   "metadata": {},
   "outputs": [],
   "source": [
    "#LR_griffin_fi.mean(axis=1).sort_values(ascending=False).head(10)"
   ]
  },
  {
   "cell_type": "code",
   "execution_count": null,
   "id": "9567f425",
   "metadata": {},
   "outputs": [],
   "source": [
    "LR_griffin_bootstrap, LR_griffin_fi = LR_bootstrap(scaled_data_griffin,False,1000,False,features_griffin)\n",
    "\n",
    "print(\"Accuracy: %.3f\" % LR_griffin_bootstrap['accuracy'].mean())\n",
    "print(\"AUROC: %.3f\" % LR_griffin_bootstrap['auc'].mean())"
   ]
  },
  {
   "cell_type": "code",
   "execution_count": null,
   "id": "655f2f18",
   "metadata": {},
   "outputs": [],
   "source": [
    "RF_griffin_bootstrap, RF_griffin_fi = RF_bootstrap(scaled_data_griffin,False,1000,False,features_griffin)\n",
    "\n",
    "print(\"Accuracy: %.3f\" % RF_griffin_bootstrap['accuracy'].mean())\n",
    "print(\"AUROC: %.3f\" % RF_griffin_bootstrap['auc'].mean())"
   ]
  },
  {
   "cell_type": "code",
   "execution_count": null,
   "id": "c89db3d6",
   "metadata": {},
   "outputs": [],
   "source": [
    "#RF_griffin_fi.mean(axis=1).sort_values(ascending=False).head(10)"
   ]
  },
  {
   "cell_type": "markdown",
   "id": "ac0a59d2",
   "metadata": {},
   "source": [
    "### Mixed Features:"
   ]
  },
  {
   "cell_type": "code",
   "execution_count": 58,
   "id": "1efd2435",
   "metadata": {},
   "outputs": [],
   "source": [
    "LR_mix_loo, LR_mix_fi = LR_loo(scaled_data_mix,False,False,features_mix)\n",
    "\n",
    "LR_mix_loo"
   ]
  },
  {
   "cell_type": "code",
   "execution_count": 59,
   "id": "b96818ea",
   "metadata": {},
   "outputs": [
    {
     "data": {
      "text/plain": [
       "fpr         [0.0, 0.0, 0.0, 0.018518518518518517, 0.018518...\n",
       "tpr         [0.0, 0.018518518518518517, 0.5740740740740741...\n",
       "accuracy                                             0.796296\n",
       "auc                                                  0.902263\n",
       "dtype: object"
      ]
     },
     "execution_count": 59,
     "metadata": {},
     "output_type": "execute_result"
    }
   ],
   "source": []
  },
  {
   "cell_type": "code",
   "execution_count": 60,
   "id": "40ad86db",
   "metadata": {},
   "outputs": [],
   "source": [
    "#LR_mix_fi.mean(axis=1).sort_values(ascending=False).head(10)"
   ]
  },
  {
   "cell_type": "code",
   "execution_count": 563,
   "id": "dc56e848",
   "metadata": {},
   "outputs": [],
   "source": [
    "LR_mix_bootstrap, LR_mix_fi = LR_bootstrap(scaled_data_mix,False,1000,False,features_mix)\n",
    "\n",
    "print('Accuracy: %.3f' % LR_mix_bootstrap['accuracy'].mean())\n",
    "print('AUROC: %.3f' % LR_mix_bootstrap['auc'].mean())"
   ]
  },
  {
   "cell_type": "code",
   "execution_count": 564,
   "id": "19169cf2",
   "metadata": {},
   "outputs": [
    {
     "name": "stdout",
     "output_type": "stream",
     "text": [
      "Accuracy: 0.754\n",
      "AUROC: 0.825\n"
     ]
    }
   ],
   "source": []
  },
  {
   "cell_type": "code",
   "execution_count": 566,
   "id": "4fecad96",
   "metadata": {},
   "outputs": [],
   "source": [
    "RF_mix_bootstrap, RF_mix_fi = RF_bootstrap(scaled_data_mix,False,1000,False,features_mix)\n",
    "\n",
    "print('Accuracy: %.3f' % RF_mix_bootstrap['accuracy'].mean())\n",
    "print('AUROC: %.3f' % RF_mix_bootstrap['auc'].mean())"
   ]
  },
  {
   "cell_type": "code",
   "execution_count": 567,
   "id": "ba813297",
   "metadata": {},
   "outputs": [
    {
     "name": "stdout",
     "output_type": "stream",
     "text": [
      "Accuracy: 0.757\n",
      "AUROC: 0.860\n"
     ]
    }
   ],
   "source": []
  },
  {
   "cell_type": "code",
   "execution_count": 625,
   "id": "20589327",
   "metadata": {},
   "outputs": [
    {
     "data": {
      "text/plain": [
       "central_coverage_PAX5       0.018776\n",
       "central_coverage_MAF        0.017577\n",
       "central_coverage_CEBPB      0.011361\n",
       "central_coverage_FLI1       0.011057\n",
       "central_coverage_ZNF384     0.009992\n",
       "central_coverage_FOXK2      0.008875\n",
       "central_coverage_YY1        0.007047\n",
       "central_coverage_ZNF444     0.006713\n",
       "central_coverage_ZNF22      0.006686\n",
       "central_coverage_RUNX1      0.006638\n",
       "central_coverage_ZNF143     0.006065\n",
       "central_coverage_PROX1      0.005604\n",
       "central_coverage_CEBPA      0.005359\n",
       "central_coverage_NEUROG2    0.005308\n",
       "central_coverage_CREM       0.005124\n",
       "central_coverage_VEZF1      0.005041\n",
       "central_coverage_OTX2       0.004656\n",
       "central_coverage_ZBTB6      0.004471\n",
       "central_coverage_BACH2      0.004457\n",
       "central_coverage_IRF4       0.004431\n",
       "dtype: float64"
      ]
     },
     "execution_count": 625,
     "metadata": {},
     "output_type": "execute_result"
    }
   ],
   "source": [
    "#RF_mix_fi.mean(axis=1).sort_values(ascending=False).head(10)"
   ]
  },
  {
   "cell_type": "markdown",
   "id": "76d9c7a8",
   "metadata": {},
   "source": [
    "### Nucleosome spacing:"
   ]
  },
  {
   "cell_type": "code",
   "execution_count": 63,
   "id": "eae60e31",
   "metadata": {},
   "outputs": [],
   "source": [
    "LR_mine_loo, LR_mine_fi = LR_loo(scaled_data_mine,False,False,features_mine)\n",
    "\n",
    "LR_mine_loo"
   ]
  },
  {
   "cell_type": "code",
   "execution_count": 64,
   "id": "c0eb5192",
   "metadata": {},
   "outputs": [
    {
     "data": {
      "text/plain": [
       "fpr         [0.0, 0.0, 0.0, 0.018518518518518517, 0.018518...\n",
       "tpr         [0.0, 0.018518518518518517, 0.0555555555555555...\n",
       "accuracy                                             0.555556\n",
       "auc                                                  0.500343\n",
       "dtype: object"
      ]
     },
     "execution_count": 64,
     "metadata": {},
     "output_type": "execute_result"
    }
   ],
   "source": []
  },
  {
   "cell_type": "code",
   "execution_count": 65,
   "id": "cdac8ef3",
   "metadata": {},
   "outputs": [],
   "source": [
    "#LR_mine_fi.mean(axis=1).sort_values(ascending=False).head(10)"
   ]
  },
  {
   "cell_type": "code",
   "execution_count": 569,
   "id": "3bc7a233",
   "metadata": {},
   "outputs": [],
   "source": [
    "LR_mine_bootstrap, LR_mine_fi = LR_bootstrap(scaled_data_mine,False,1000,False,features_mine)\n",
    "\n",
    "print('Accuracy: %.3f' % LR_mine_bootstrap['accuracy'].mean())\n",
    "print('AUROC: %.3f' % LR_mine_bootstrap['auc'].mean())"
   ]
  },
  {
   "cell_type": "code",
   "execution_count": 570,
   "id": "47b1bbe5",
   "metadata": {},
   "outputs": [
    {
     "name": "stdout",
     "output_type": "stream",
     "text": [
      "Accuracy: 0.501\n",
      "AUROC: 0.488\n"
     ]
    }
   ],
   "source": []
  },
  {
   "cell_type": "code",
   "execution_count": 572,
   "id": "55fee0ff",
   "metadata": {},
   "outputs": [],
   "source": [
    "RF_mine_bootstrap, RF_mine_fi = RF_bootstrap(scaled_data_mine,False,1000,False,features_mine)\n",
    "\n",
    "print('Accuracy: %.3f' % RF_mine_bootstrap['accuracy'].mean())\n",
    "print('AUROC: %.3f' % RF_mine_bootstrap['auc'].mean())"
   ]
  },
  {
   "cell_type": "code",
   "execution_count": 573,
   "id": "2fe2c4a3",
   "metadata": {},
   "outputs": [
    {
     "name": "stdout",
     "output_type": "stream",
     "text": [
      "Accuracy: 0.596\n",
      "AUROC: 0.683\n"
     ]
    }
   ],
   "source": []
  },
  {
   "cell_type": "code",
   "execution_count": 627,
   "id": "2626c074",
   "metadata": {},
   "outputs": [
    {
     "data": {
      "text/plain": [
       "nucleosome_spacing_fft_ZKSCAN1    0.015813\n",
       "nucleosome_spacing_fft_HMGA1      0.010012\n",
       "nucleosome_spacing_fft_PPARD      0.009421\n",
       "nucleosome_spacing_fft_NANOG      0.009336\n",
       "nucleosome_spacing_fft_HMBOX1     0.009298\n",
       "nucleosome_spacing_fft_HNF4G      0.009050\n",
       "nucleosome_spacing_fft_STAT3      0.008880\n",
       "nucleosome_spacing_fft_MEIS1      0.008161\n",
       "nucleosome_spacing_fft_ELK4       0.008038\n",
       "nucleosome_spacing_fft_ZNF121     0.007705\n",
       "nucleosome_spacing_fft_FOXA2      0.007384\n",
       "nucleosome_spacing_fft_FOXK2      0.006893\n",
       "nucleosome_spacing_fft_ZNF768     0.006889\n",
       "nucleosome_spacing_fft_SP7        0.006874\n",
       "nucleosome_spacing_fft_SOX4       0.006849\n",
       "nucleosome_spacing_fft_MYOD1      0.006839\n",
       "nucleosome_spacing_fft_TAL1       0.006273\n",
       "nucleosome_spacing_fft_ETV2       0.006175\n",
       "nucleosome_spacing_fft_TBX5       0.006040\n",
       "nucleosome_spacing_fft_TFAP4      0.006021\n",
       "dtype: float64"
      ]
     },
     "execution_count": 627,
     "metadata": {},
     "output_type": "execute_result"
    }
   ],
   "source": [
    "#RF_mine_fi.mean(axis=1).sort_values(ascending=False).head(10)"
   ]
  },
  {
   "cell_type": "markdown",
   "id": "d8b6730b",
   "metadata": {},
   "source": [
    "### Amplitude:"
   ]
  },
  {
   "cell_type": "code",
   "execution_count": 66,
   "id": "8da498b6",
   "metadata": {},
   "outputs": [],
   "source": [
    "LR_amplitude_loo, LR_amplitude_fi = LR_loo(scaled_data_amplitude,False,False,feature_amplitude)\n",
    "\n",
    "LR_amplitude_loo"
   ]
  },
  {
   "cell_type": "code",
   "execution_count": 67,
   "id": "ca751722",
   "metadata": {},
   "outputs": [
    {
     "data": {
      "text/plain": [
       "fpr         [0.0, 0.0, 0.0, 0.018518518518518517, 0.018518...\n",
       "tpr         [0.0, 0.018518518518518517, 0.1296296296296296...\n",
       "accuracy                                             0.638889\n",
       "auc                                                   0.66701\n",
       "dtype: object"
      ]
     },
     "execution_count": 67,
     "metadata": {},
     "output_type": "execute_result"
    }
   ],
   "source": []
  },
  {
   "cell_type": "code",
   "execution_count": 68,
   "id": "cac049a6",
   "metadata": {},
   "outputs": [],
   "source": [
    "#LR_amplitude_fi.mean(axis=1).sort_values(ascending=False).head(10)"
   ]
  },
  {
   "cell_type": "code",
   "execution_count": 579,
   "id": "c875f84e",
   "metadata": {},
   "outputs": [],
   "source": [
    "LR_amplitude_bootstrap, LR_amplitude_fi = LR_bootstrap(scaled_data_amplitude,False,1000,False,feature_amplitude)\n",
    "\n",
    "print('Accuracy: %.3f' % LR_amplitude_bootstrap['accuracy'].mean())\n",
    "print('AUROC: %.3f' % LR_amplitude_bootstrap['auc'].mean())"
   ]
  },
  {
   "cell_type": "code",
   "execution_count": 580,
   "id": "9f100573",
   "metadata": {},
   "outputs": [
    {
     "name": "stdout",
     "output_type": "stream",
     "text": [
      "Accuracy: 0.621\n",
      "AUROC: 0.658\n"
     ]
    }
   ],
   "source": []
  },
  {
   "cell_type": "code",
   "execution_count": 581,
   "id": "1a960fd2",
   "metadata": {},
   "outputs": [],
   "source": [
    "RF_amplitude_bootstrap, RF_amplitude_fi = RF_bootstrap(scaled_data_amplitude,False,1000,False,feature_amplitude)\n",
    "\n",
    "print('Accuracy: %.3f' % RF_amplitude_bootstrap['accuracy'].mean())\n",
    "print('AUROC: %.3f' % RF_amplitude_bootstrap['auc'].mean())"
   ]
  },
  {
   "cell_type": "code",
   "execution_count": 582,
   "id": "34c208b7",
   "metadata": {},
   "outputs": [
    {
     "name": "stdout",
     "output_type": "stream",
     "text": [
      "Accuracy: 0.644\n",
      "AUROC: 0.747\n"
     ]
    }
   ],
   "source": []
  },
  {
   "cell_type": "code",
   "execution_count": 628,
   "id": "0469b596",
   "metadata": {},
   "outputs": [
    {
     "data": {
      "text/plain": [
       "amplitude190_ZNF574     0.015818\n",
       "amplitude190_SCRT2      0.013068\n",
       "amplitude190_KLF6       0.012583\n",
       "amplitude190_ZNF444     0.011151\n",
       "amplitude190_SRF        0.009987\n",
       "amplitude190_CTCFL      0.009514\n",
       "amplitude190_ARID3A     0.007709\n",
       "amplitude190_FOXA3      0.007651\n",
       "amplitude190_ZKSCAN1    0.007269\n",
       "amplitude190_GATA4      0.007068\n",
       "amplitude190_REST       0.006830\n",
       "amplitude190_WT1        0.006741\n",
       "amplitude190_OSR2       0.006558\n",
       "amplitude190_TEAD3      0.006388\n",
       "amplitude190_FOS        0.006159\n",
       "amplitude190_SP2        0.006106\n",
       "amplitude190_CXXC1      0.006011\n",
       "amplitude190_ATF1       0.005975\n",
       "amplitude190_NFATC3     0.005865\n",
       "amplitude190_PAX7       0.005779\n",
       "dtype: float64"
      ]
     },
     "execution_count": 628,
     "metadata": {},
     "output_type": "execute_result"
    }
   ],
   "source": [
    "#RF_amplitude_fi.mean(axis=1).sort_values(ascending=False).head(10)"
   ]
  },
  {
   "cell_type": "markdown",
   "id": "974c5e5d",
   "metadata": {},
   "source": [
    "### Central cov:"
   ]
  },
  {
   "cell_type": "code",
   "execution_count": 69,
   "id": "d203aaaa",
   "metadata": {},
   "outputs": [],
   "source": [
    "LR_central_loo, LR_central_fi = LR_loo(scaled_data_central,False,False,feature_central)\n",
    "\n",
    "LR_central_loo"
   ]
  },
  {
   "cell_type": "code",
   "execution_count": 70,
   "id": "7e1036be",
   "metadata": {},
   "outputs": [
    {
     "data": {
      "text/plain": [
       "fpr         [0.0, 0.0, 0.0, 0.018518518518518517, 0.018518...\n",
       "tpr         [0.0, 0.018518518518518517, 0.6111111111111112...\n",
       "accuracy                                             0.814815\n",
       "auc                                                  0.913237\n",
       "dtype: object"
      ]
     },
     "execution_count": 70,
     "metadata": {},
     "output_type": "execute_result"
    }
   ],
   "source": []
  },
  {
   "cell_type": "code",
   "execution_count": 71,
   "id": "25380708",
   "metadata": {},
   "outputs": [],
   "source": [
    "#LR_central_fi.mean(axis=1).sort_values(ascending=False).head(10)"
   ]
  },
  {
   "cell_type": "code",
   "execution_count": 891,
   "id": "f9cb985d",
   "metadata": {},
   "outputs": [
    {
     "name": "stdout",
     "output_type": "stream",
     "text": [
      "central coverage PAX5      0.674482\n",
      "central coverage MAF       0.377810\n",
      "central coverage CEBPB     0.296349\n",
      "central coverage ZNF384    0.200955\n",
      "central coverage ZNF143    0.006918\n",
      "central coverage FOXK2     0.000017\n",
      "dtype: float64\n"
     ]
    },
    {
     "data": {
      "image/png": "[encoded data removed]",
      "text/plain": [
       "<Figure size 432x288 with 1 Axes>"
      ]
     },
     "metadata": {
      "needs_background": "light"
     },
     "output_type": "display_data"
    }
   ],
   "source": [
    "#fig = plt.gcf()\n",
    "#fig.set_size_inches(9, 6)\n",
    "\n",
    "d = LR_central_fi.mean(axis=1).sort_values(ascending=False).head(6)\n",
    "d = d.rename(index={'central_coverage_PAX5': 'central coverage PAX5'})\n",
    "d = d.rename(index={'central_coverage_MAF': 'central coverage MAF'})\n",
    "d = d.rename(index={'central_coverage_CEBPB': 'central coverage CEBPB'})\n",
    "d = d.rename(index={'central_coverage_ZNF384': 'central coverage ZNF384'})\n",
    "d = d.rename(index={'central_coverage_ZNF143': 'central coverage ZNF143'})\n",
    "d = d.rename(index={'central_coverage_FOXK2': 'central coverage FOXK2'})\n",
    "print(d)\n",
    "\n",
    "#plt.title('Logistic Regression with leave-one-out cross-validation')\n",
    "plt.barh(d.index,d)\n",
    "plt.xlabel('Mean Importance')\n",
    "plt.ylabel('Features')\n",
    "\n",
    "outfile = \"thesis_plots/LogisticRegression_LOO_centralCoverage.pdf\"\n",
    "plt.savefig(outfile,bbox_inches='tight')"
   ]
  },
  {
   "cell_type": "code",
   "execution_count": 584,
   "id": "6e97f212",
   "metadata": {},
   "outputs": [],
   "source": [
    "LR_central_bootstrap, LR_central_fi = LR_bootstrap(scaled_data_central,False,1000,False,feature_central)\n",
    "\n",
    "print('Accuracy: %.3f' % LR_central_bootstrap['accuracy'].mean())\n",
    "print('AUROC: %.3f' % LR_central_bootstrap['auc'].mean())"
   ]
  },
  {
   "cell_type": "code",
   "execution_count": 585,
   "id": "a5afba6c",
   "metadata": {},
   "outputs": [
    {
     "name": "stdout",
     "output_type": "stream",
     "text": [
      "Accuracy: 0.783\n",
      "AUROC: 0.876\n"
     ]
    }
   ],
   "source": []
  },
  {
   "cell_type": "code",
   "execution_count": 586,
   "id": "3d2f5bb6",
   "metadata": {},
   "outputs": [],
   "source": [
    "RF_central_bootstrap, RF_central_fi = RF_bootstrap(scaled_data_central,False,1000,False,feature_central)\n",
    "\n",
    "print('Accuracy: %.3f' % RF_central_bootstrap['accuracy'].mean())\n",
    "print('AUROC: %.3f' % RF_central_bootstrap['auc'].mean())"
   ]
  },
  {
   "cell_type": "code",
   "execution_count": 587,
   "id": "5806ce59",
   "metadata": {},
   "outputs": [
    {
     "name": "stdout",
     "output_type": "stream",
     "text": [
      "Accuracy: 0.772\n",
      "AUROC: 0.873\n"
     ]
    }
   ],
   "source": []
  },
  {
   "cell_type": "code",
   "execution_count": 629,
   "id": "b544f110",
   "metadata": {},
   "outputs": [
    {
     "data": {
      "text/plain": [
       "central_coverage_PAX5       0.030805\n",
       "central_coverage_MAF        0.028145\n",
       "central_coverage_CEBPB      0.018103\n",
       "central_coverage_ZNF384     0.017786\n",
       "central_coverage_FLI1       0.017372\n",
       "central_coverage_FOXK2      0.013842\n",
       "central_coverage_ZNF22      0.011813\n",
       "central_coverage_YY1        0.009764\n",
       "central_coverage_RUNX1      0.009693\n",
       "central_coverage_ZNF444     0.009607\n",
       "central_coverage_ZNF143     0.008798\n",
       "central_coverage_PROX1      0.008666\n",
       "central_coverage_NEUROG2    0.008441\n",
       "central_coverage_CEBPA      0.008410\n",
       "central_coverage_OTX2       0.008258\n",
       "central_coverage_VEZF1      0.007779\n",
       "central_coverage_ZBTB6      0.007029\n",
       "central_coverage_CREM       0.006771\n",
       "central_coverage_IRF4       0.006618\n",
       "central_coverage_ERF        0.006451\n",
       "dtype: float64"
      ]
     },
     "execution_count": 629,
     "metadata": {},
     "output_type": "execute_result"
    }
   ],
   "source": [
    "#RF_central_fi.mean(axis=1).sort_values(ascending=False).head(10)"
   ]
  },
  {
   "cell_type": "markdown",
   "id": "1f5cb151",
   "metadata": {},
   "source": [
    "### Mean cov:"
   ]
  },
  {
   "cell_type": "code",
   "execution_count": 72,
   "id": "1f40cb3f",
   "metadata": {},
   "outputs": [],
   "source": [
    "LR_mean_loo, LR_mean_fi = LR_loo(scaled_data_mean,False,False,feature_mean)\n",
    "\n",
    "LR_mean_loo"
   ]
  },
  {
   "cell_type": "code",
   "execution_count": 73,
   "id": "df466d8f",
   "metadata": {},
   "outputs": [
    {
     "data": {
      "text/plain": [
       "fpr         [0.0, 0.0, 0.0, 0.018518518518518517, 0.018518...\n",
       "tpr         [0.0, 0.018518518518518517, 0.0370370370370370...\n",
       "accuracy                                             0.555556\n",
       "auc                                                  0.515775\n",
       "dtype: object"
      ]
     },
     "execution_count": 73,
     "metadata": {},
     "output_type": "execute_result"
    }
   ],
   "source": []
  },
  {
   "cell_type": "code",
   "execution_count": 74,
   "id": "61909fba",
   "metadata": {},
   "outputs": [],
   "source": [
    "#LR_mean_fi.mean(axis=1).sort_values(ascending=False).head(10)"
   ]
  },
  {
   "cell_type": "code",
   "execution_count": 589,
   "id": "25fedf8e",
   "metadata": {},
   "outputs": [],
   "source": [
    "LR_mean_bootstrap, LR_mean_fi = LR_bootstrap(scaled_data_mean,False,1000,False,feature_mean)\n",
    "\n",
    "print('Accuracy: %.3f' % LR_mean_bootstrap['accuracy'].mean())\n",
    "print('AUROC: %.3f' % LR_mean_bootstrap['auc'].mean())"
   ]
  },
  {
   "cell_type": "code",
   "execution_count": 590,
   "id": "6e34e4b8",
   "metadata": {},
   "outputs": [
    {
     "name": "stdout",
     "output_type": "stream",
     "text": [
      "Accuracy: 0.489\n",
      "AUROC: 0.483\n"
     ]
    }
   ],
   "source": []
  },
  {
   "cell_type": "code",
   "execution_count": 591,
   "id": "8748b60a",
   "metadata": {},
   "outputs": [],
   "source": [
    "RF_mean_bootstrap, RF_mean_fi = RF_bootstrap(scaled_data_mean,False,1000,False,feature_mean)\n",
    "\n",
    "print('Accuracy: %.3f' % RF_mean_bootstrap['accuracy'].mean())\n",
    "print('AUROC: %.3f' % RF_mean_bootstrap['auc'].mean())"
   ]
  },
  {
   "cell_type": "code",
   "execution_count": 592,
   "id": "638f94c5",
   "metadata": {},
   "outputs": [
    {
     "name": "stdout",
     "output_type": "stream",
     "text": [
      "Accuracy: 0.518\n",
      "AUROC: 0.579\n"
     ]
    }
   ],
   "source": []
  },
  {
   "cell_type": "code",
   "execution_count": 631,
   "id": "08f42f40",
   "metadata": {},
   "outputs": [
    {
     "data": {
      "text/plain": [
       "mean_coverage_GFI1B     0.008176\n",
       "mean_coverage_ZFHX2     0.007833\n",
       "mean_coverage_HIF3A     0.007795\n",
       "mean_coverage_NFATC1    0.006991\n",
       "mean_coverage_ZNF770    0.006836\n",
       "mean_coverage_IKZF1     0.006601\n",
       "mean_coverage_PAX7      0.006523\n",
       "mean_coverage_GLIS1     0.006463\n",
       "mean_coverage_BATF      0.006076\n",
       "mean_coverage_FOXO1     0.006000\n",
       "mean_coverage_ELK4      0.005932\n",
       "mean_coverage_PROX1     0.005932\n",
       "mean_coverage_GABPA     0.005741\n",
       "mean_coverage_ZNF264    0.005559\n",
       "mean_coverage_POU5F1    0.005549\n",
       "mean_coverage_SP1       0.005538\n",
       "mean_coverage_HOXA2     0.005406\n",
       "mean_coverage_CEBPG     0.005312\n",
       "mean_coverage_ZNF24     0.005310\n",
       "mean_coverage_ZNF143    0.005271\n",
       "dtype: float64"
      ]
     },
     "execution_count": 631,
     "metadata": {},
     "output_type": "execute_result"
    }
   ],
   "source": [
    "#RF_mean_fi.mean(axis=1).sort_values(ascending=False).head(10)"
   ]
  },
  {
   "cell_type": "markdown",
   "id": "1fac01dd",
   "metadata": {},
   "source": [
    "# different scores"
   ]
  },
  {
   "cell_type": "code",
   "execution_count": 594,
   "id": "8dba4ca0",
   "metadata": {},
   "outputs": [
    {
     "data": {
      "text/plain": [
       "central_coverage_MSC           -4.746782e-15\n",
       "mean_coverage_MSC              -7.087365e-12\n",
       "amplitude190_MSC                2.298059e-15\n",
       "nucleosome_spacing_fft_MSC      0.000000e+00\n",
       "central_coverage_REL           -1.724444e-15\n",
       "                                    ...     \n",
       "nucleosome_spacing_fft_ZEB1     5.612794e-16\n",
       "central_coverage_HOMEZ         -3.568133e-15\n",
       "mean_coverage_HOMEZ             5.246386e-12\n",
       "amplitude190_HOMEZ             -1.983399e-15\n",
       "nucleosome_spacing_fft_HOMEZ    0.000000e+00\n",
       "Length: 1508, dtype: float64"
      ]
     },
     "execution_count": 594,
     "metadata": {},
     "output_type": "execute_result"
    }
   ],
   "source": [
    "### WPS\n",
    "cancer_type = \"breast_cancer\"\n",
    "GC = \"corrected\"\n",
    "score = \"WPS\"\n",
    "amplitude = \"FFT\"\n",
    "\n",
    "# cancer features\n",
    "file = \"/data/gpfs-1/groups/ag_kircher/cfDNA-analysis/lea/cfDNA_classification_analyses/features/DELFI_\"+cancer_type+\"_\"+GC+\"_\"+score+\"_\"+amplitude+\"_features.csv\"\n",
    "c_features = pd.read_csv(file, sep=\"\\t\", index_col=0)\n",
    "\n",
    "file = \"/data/gpfs-1/groups/ag_kircher/cfDNA-analysis/lea/cfDNA_classification_analyses/features/DELFI_breast_cancer_metadata.tsv\"\n",
    "c_meta = pd.read_csv(file, sep='\\t', index_col='sample_name')\n",
    "\n",
    "c_features = c_features.reset_index(drop=False)\n",
    "c_features[['sample','p','score']] = c_features['index'].str.split('_',2, expand=True)\n",
    "c_features = c_features.set_index('sample')\n",
    "cancer = pd.concat([c_features, c_meta], axis=1)\n",
    "\n",
    "# healthy features\n",
    "file = \"/data/gpfs-1/groups/ag_kircher/cfDNA-analysis/lea/cfDNA_classification_analyses/features/DELFI_healthy_\"+GC+\"_\"+score+\"_\"+amplitude+\"_features.csv\"\n",
    "h_features = pd.read_csv(file, sep=\"\\t\", index_col=0)\n",
    "\n",
    "file = \"/data/gpfs-1/groups/ag_kircher/cfDNA-analysis/lea/cfDNA_classification_analyses/features/DELFI_healthy_metadata.tsv\"\n",
    "h_meta = pd.read_csv(file, sep='\\t', index_col='sample_name')\n",
    "\n",
    "h_features = h_features.reset_index(drop=False)\n",
    "h_features[['sample','p','score']] = h_features['index'].str.split('_',2, expand=True)\n",
    "h_features = h_features.set_index('sample')\n",
    "healthy = pd.concat([h_features, h_meta], axis=1)\n",
    "\n",
    "data_wps = pd.concat([cancer, healthy], axis=0) #pd.concat([data1, data2], axis=0)\n",
    "features_wps = data_wps.columns[(data_wps.columns.str.startswith('central_cov')) | (data_wps.columns.str.startswith('mean_cov')) | (data_wps.columns.str.startswith('amplitude')) | (data_wps.columns.str.startswith('nucleosome_spacing'))]\n",
    "\n",
    "scaled_data_wps = pd.concat([cancer, healthy], axis=0) \n",
    "scaler = StandardScaler()\n",
    "scaler.fit(scaled_data_wps[features_wps])\n",
    "scaled_data_wps[features_wps] = scaler.transform(scaled_data_wps[features_wps])\n",
    "scaled_data_wps[features_wps].mean()"
   ]
  },
  {
   "cell_type": "code",
   "execution_count": 595,
   "id": "53ada57c",
   "metadata": {},
   "outputs": [
    {
     "data": {
      "text/plain": [
       "central_coverage_NFYC          -1.066534e-16\n",
       "mean_coverage_NFYC             -7.420258e-13\n",
       "amplitude190_NFYC              -1.500857e-16\n",
       "nucleosome_spacing_fft_NFYC    -4.893205e-16\n",
       "central_coverage_ATF7          -7.435924e-15\n",
       "                                    ...     \n",
       "nucleosome_spacing_fft_SIX5     1.387779e-17\n",
       "central_coverage_NR5A2          2.611080e-15\n",
       "mean_coverage_NR5A2             2.471317e-12\n",
       "amplitude190_NR5A2              1.531697e-16\n",
       "nucleosome_spacing_fft_NR5A2   -6.887495e-16\n",
       "Length: 1508, dtype: float64"
      ]
     },
     "execution_count": 595,
     "metadata": {},
     "output_type": "execute_result"
    }
   ],
   "source": [
    "### COV\n",
    "cancer_type = \"breast_cancer\"\n",
    "GC = \"corrected\"\n",
    "score = \"COV\"\n",
    "amplitude = \"FFT\"\n",
    "\n",
    "# cancer features\n",
    "file = \"/data/gpfs-1/groups/ag_kircher/cfDNA-analysis/lea/cfDNA_classification_analyses/features/DELFI_\"+cancer_type+\"_\"+GC+\"_\"+score+\"_\"+amplitude+\"_features.csv\"\n",
    "c_features = pd.read_csv(file, sep=\"\\t\", index_col=0)\n",
    "\n",
    "file = \"/data/gpfs-1/groups/ag_kircher/cfDNA-analysis/lea/cfDNA_classification_analyses/features/DELFI_breast_cancer_metadata.tsv\"\n",
    "c_meta = pd.read_csv(file, sep='\\t', index_col='sample_name')\n",
    "\n",
    "c_features = c_features.reset_index(drop=False)\n",
    "c_features[['sample','p','score']] = c_features['index'].str.split('_',2, expand=True)\n",
    "c_features = c_features.set_index('sample')\n",
    "cancer = pd.concat([c_features, c_meta], axis=1)\n",
    "\n",
    "# healthy features\n",
    "file = \"/data/gpfs-1/groups/ag_kircher/cfDNA-analysis/lea/cfDNA_classification_analyses/features/DELFI_\"+healthy_type+\"_\"+GC+\"_\"+score+\"_\"+amplitude+\"_features.csv\"\n",
    "h_features = pd.read_csv(file, sep=\"\\t\", index_col=0)\n",
    "\n",
    "file = \"/data/gpfs-1/groups/ag_kircher/cfDNA-analysis/lea/cfDNA_classification_analyses/features/DELFI_healthy_metadata.tsv\"\n",
    "h_meta = pd.read_csv(file, sep='\\t', index_col='sample_name')\n",
    "\n",
    "h_features = h_features.reset_index(drop=False)\n",
    "h_features[['sample','p','score']] = h_features['index'].str.split('_',2, expand=True)\n",
    "h_features = h_features.set_index('sample')\n",
    "healthy = pd.concat([h_features, h_meta], axis=1)\n",
    "\n",
    "data_cov = pd.concat([cancer, healthy], axis=0) #pd.concat([data1, data2], axis=0)\n",
    "features_cov = data_cov.columns[(data_cov.columns.str.startswith('central_cov')) | (data_cov.columns.str.startswith('mean_cov')) | (data_cov.columns.str.startswith('amplitude')) | (data_cov.columns.str.startswith('nucleosome_spacing'))]\n",
    "\n",
    "scaled_data_cov = pd.concat([cancer, healthy], axis=0) \n",
    "scaler = StandardScaler()\n",
    "scaler.fit(scaled_data_cov[features_cov])\n",
    "scaled_data_cov[features_cov] = scaler.transform(scaled_data_cov[features_cov])\n",
    "scaled_data_cov[features_cov].mean()"
   ]
  },
  {
   "cell_type": "markdown",
   "id": "a22b3fd6",
   "metadata": {},
   "source": [
    "### WPS:"
   ]
  },
  {
   "cell_type": "code",
   "execution_count": 831,
   "id": "753a9bc3",
   "metadata": {},
   "outputs": [],
   "source": [
    "LR_wps_loo, LR_wps_fi = LR_loo(scaled_data_wps,False,False,features_wps)\n",
    "\n",
    "LR_wps_loo"
   ]
  },
  {
   "cell_type": "code",
   "execution_count": 832,
   "id": "c38d25ee",
   "metadata": {},
   "outputs": [
    {
     "data": {
      "text/plain": [
       "fpr         [0.0, 0.0, 0.0, 0.018518518518518517, 0.018518...\n",
       "tpr         [0.0, 0.018518518518518517, 0.2962962962962963...\n",
       "accuracy                                             0.694444\n",
       "auc                                                  0.831276\n",
       "dtype: object"
      ]
     },
     "execution_count": 832,
     "metadata": {},
     "output_type": "execute_result"
    }
   ],
   "source": []
  },
  {
   "cell_type": "code",
   "execution_count": 833,
   "id": "a6268f41",
   "metadata": {},
   "outputs": [
    {
     "data": {
      "text/plain": [
       "central_coverage_ESRRA         0.355230\n",
       "central_coverage_ATF2          0.127333\n",
       "central_coverage_ZNF24         0.121022\n",
       "mean_coverage_SP4              0.091760\n",
       "mean_coverage_KLF15            0.077880\n",
       "nucleosome_spacing_fft_HES1    0.032411\n",
       "central_coverage_PLAG1         0.026949\n",
       "central_coverage_ETV2          0.024642\n",
       "central_coverage_NR5A2         0.019514\n",
       "central_coverage_TP63          0.017265\n",
       "nucleosome_spacing_fft_CDX2    0.004791\n",
       "central_coverage_NEUROG2       0.002639\n",
       "central_coverage_GATA4         0.002144\n",
       "central_coverage_PPARD         0.001032\n",
       "mean_coverage_GFI1             0.000793\n",
       "central_coverage_HAND2         0.000560\n",
       "nucleosome_spacing_fft_GFI1    0.000307\n",
       "central_coverage_ZNF768        0.000201\n",
       "mean_coverage_NEUROG2          0.000156\n",
       "central_coverage_MIXL1         0.000000\n",
       "dtype: float64"
      ]
     },
     "execution_count": 833,
     "metadata": {},
     "output_type": "execute_result"
    }
   ],
   "source": [
    "#LR_wps_fi.mean(axis=1).sort_values(ascending=False).head(10)"
   ]
  },
  {
   "cell_type": "code",
   "execution_count": 596,
   "id": "c3be718f",
   "metadata": {},
   "outputs": [],
   "source": [
    "LR_wps_bootstrap, LR_wps_fi = LR_bootstrap(scaled_data_wps,False,1000,False,features_wps)\n",
    "\n",
    "print('Accuracy: %.3f' % LR_wps_bootstrap['accuracy'].mean())\n",
    "print('AUROC: %.3f' % LR_wps_bootstrap['auc'].mean())"
   ]
  },
  {
   "cell_type": "code",
   "execution_count": 597,
   "id": "0b321b7d",
   "metadata": {},
   "outputs": [
    {
     "name": "stdout",
     "output_type": "stream",
     "text": [
      "Accuracy: 0.719\n",
      "AUROC: 0.801\n"
     ]
    }
   ],
   "source": []
  },
  {
   "cell_type": "code",
   "execution_count": 599,
   "id": "02e85c2f",
   "metadata": {},
   "outputs": [],
   "source": [
    "RF_wps_bootstrap, RF_wps_fi = RF_bootstrap(scaled_data_wps,False,1000,False,features_wps)\n",
    "\n",
    "print('Accuracy: %.3f' % RF_wps_bootstrap['accuracy'].mean())\n",
    "print('AUROC: %.3f' % RF_wps_bootstrap['auc'].mean())"
   ]
  },
  {
   "cell_type": "code",
   "execution_count": 600,
   "id": "98d24161",
   "metadata": {},
   "outputs": [
    {
     "name": "stdout",
     "output_type": "stream",
     "text": [
      "Accuracy: 0.750\n",
      "AUROC: 0.852\n"
     ]
    }
   ],
   "source": []
  },
  {
   "cell_type": "code",
   "execution_count": 634,
   "id": "70185169",
   "metadata": {},
   "outputs": [
    {
     "data": {
      "text/plain": [
       "central_coverage_ESRRA      0.010498\n",
       "central_coverage_ZNF24      0.008559\n",
       "central_coverage_ATF2       0.008051\n",
       "central_coverage_ZNF768     0.007903\n",
       "central_coverage_USF1       0.007578\n",
       "central_coverage_ZNF770     0.007418\n",
       "central_coverage_NKX2-5     0.007098\n",
       "central_coverage_ZNF554     0.006966\n",
       "central_coverage_PLAG1      0.006309\n",
       "central_coverage_ESR2       0.005842\n",
       "central_coverage_HNF4A      0.005633\n",
       "central_coverage_ZKSCAN1    0.005588\n",
       "central_coverage_MEIS2      0.005109\n",
       "central_coverage_IKZF5      0.005100\n",
       "amplitude190_MAX            0.004974\n",
       "central_coverage_ZNF263     0.004922\n",
       "central_coverage_ZNF121     0.004818\n",
       "central_coverage_THRB       0.004679\n",
       "central_coverage_USF2       0.004584\n",
       "central_coverage_FOSB       0.004512\n",
       "dtype: float64"
      ]
     },
     "execution_count": 634,
     "metadata": {},
     "output_type": "execute_result"
    }
   ],
   "source": [
    "#RF_wps_fi.mean(axis=1).sort_values(ascending=False).head(10)"
   ]
  },
  {
   "cell_type": "markdown",
   "id": "71fffb3a",
   "metadata": {},
   "source": [
    "### COV:"
   ]
  },
  {
   "cell_type": "code",
   "execution_count": 834,
   "id": "0988d8a1",
   "metadata": {},
   "outputs": [],
   "source": [
    "LR_cov_loo, LR_cov_fi = LR_loo(scaled_data_cov,False,False,features_cov)\n",
    "\n",
    "LR_cov_loo"
   ]
  },
  {
   "cell_type": "code",
   "execution_count": 835,
   "id": "1d5db697",
   "metadata": {},
   "outputs": [
    {
     "data": {
      "text/plain": [
       "fpr         [0.0, 0.0, 0.0, 0.018518518518518517, 0.018518...\n",
       "tpr         [0.0, 0.018518518518518517, 0.6111111111111112...\n",
       "accuracy                                             0.777778\n",
       "auc                                                  0.882716\n",
       "dtype: object"
      ]
     },
     "execution_count": 835,
     "metadata": {},
     "output_type": "execute_result"
    }
   ],
   "source": []
  },
  {
   "cell_type": "code",
   "execution_count": 836,
   "id": "2963a3f0",
   "metadata": {},
   "outputs": [
    {
     "data": {
      "text/plain": [
       "central_coverage_ZNF768     0.700223\n",
       "central_coverage_TP63       0.236669\n",
       "mean_coverage_HEY1          0.158591\n",
       "mean_coverage_REL           0.152764\n",
       "central_coverage_NEUROG2    0.101397\n",
       "central_coverage_ZBTB6      0.090951\n",
       "mean_coverage_ZNF324        0.080672\n",
       "amplitude190_PKNOX1         0.067926\n",
       "central_coverage_GATA2      0.058660\n",
       "mean_coverage_ZSCAN22       0.045105\n",
       "mean_coverage_ZNF217        0.042868\n",
       "central_coverage_MYOD1      0.009398\n",
       "mean_coverage_MNT           0.006980\n",
       "mean_coverage_XBP1          0.005186\n",
       "mean_coverage_GMEB2         0.002633\n",
       "mean_coverage_ZIM3          0.002288\n",
       "mean_coverage_OVOL2         0.000994\n",
       "central_coverage_HNF4A      0.000940\n",
       "central_coverage_TBX5       0.000858\n",
       "amplitude190_ZNF444         0.000143\n",
       "dtype: float64"
      ]
     },
     "execution_count": 836,
     "metadata": {},
     "output_type": "execute_result"
    }
   ],
   "source": [
    "#LR_cov_fi.mean(axis=1).sort_values(ascending=False).head(10)"
   ]
  },
  {
   "cell_type": "code",
   "execution_count": 704,
   "id": "d6551dd3",
   "metadata": {},
   "outputs": [],
   "source": [
    "LR_cov_bootstrap, LR_cov_fi = LR_bootstrap(scaled_data_cov,False,1000,False,features_cov)\n",
    "\n",
    "print('Accuracy: %.3f' % LR_cov_bootstrap['accuracy'].mean())\n",
    "print('AUROC: %.3f' % LR_cov_bootstrap['auc'].mean())"
   ]
  },
  {
   "cell_type": "code",
   "execution_count": 705,
   "id": "0b28b71e",
   "metadata": {},
   "outputs": [
    {
     "name": "stdout",
     "output_type": "stream",
     "text": [
      "Accuracy: 0.756\n",
      "AUROC: 0.845\n"
     ]
    }
   ],
   "source": []
  },
  {
   "cell_type": "code",
   "execution_count": 707,
   "id": "18648b92",
   "metadata": {},
   "outputs": [],
   "source": [
    "RF_cov_bootstrap, RF_cov_fi = RF_bootstrap(scaled_data_cov,False,1000,False,features_cov)\n",
    "\n",
    "print('Accuracy: %.3f' % RF_cov_bootstrap['accuracy'].mean())\n",
    "print('AUROC: %.3f' % RF_cov_bootstrap['auc'].mean())"
   ]
  },
  {
   "cell_type": "code",
   "execution_count": 708,
   "id": "af0b5b2b",
   "metadata": {},
   "outputs": [
    {
     "name": "stdout",
     "output_type": "stream",
     "text": [
      "Accuracy: 0.769\n",
      "AUROC: 0.852\n"
     ]
    }
   ],
   "source": []
  },
  {
   "cell_type": "code",
   "execution_count": 709,
   "id": "d313dc99",
   "metadata": {},
   "outputs": [
    {
     "data": {
      "text/plain": [
       "central_coverage_ZNF768     0.013622\n",
       "central_coverage_HNF4A      0.012125\n",
       "central_coverage_TP63       0.008313\n",
       "central_coverage_MYOD1      0.007268\n",
       "central_coverage_NEUROG2    0.006898\n",
       "central_coverage_IRF4       0.006732\n",
       "central_coverage_THRB       0.006731\n",
       "central_coverage_MECOM      0.006641\n",
       "central_coverage_ZBTB6      0.006482\n",
       "central_coverage_GATA2      0.006008\n",
       "central_coverage_ZNF554     0.005914\n",
       "central_coverage_MLX        0.005601\n",
       "central_coverage_ESRRA      0.005537\n",
       "central_coverage_ESR2       0.005222\n",
       "central_coverage_TCF4       0.005155\n",
       "central_coverage_KLF6       0.005149\n",
       "central_coverage_MEIS1      0.005134\n",
       "central_coverage_TBX5       0.005029\n",
       "central_coverage_NFIL3      0.004994\n",
       "central_coverage_ZNF3       0.004558\n",
       "dtype: float64"
      ]
     },
     "execution_count": 709,
     "metadata": {},
     "output_type": "execute_result"
    }
   ],
   "source": [
    "#RF_cov_fi.mean(axis=1).sort_values(ascending=False).head(10)"
   ]
  },
  {
   "cell_type": "code",
   "execution_count": null,
   "id": "bcd21410",
   "metadata": {},
   "outputs": [],
   "source": []
  },
  {
   "cell_type": "markdown",
   "id": "eae81dc5",
   "metadata": {},
   "source": [
    "# Plots"
   ]
  },
  {
   "cell_type": "code",
   "execution_count": 841,
   "id": "6dd2a656",
   "metadata": {},
   "outputs": [
    {
     "data": {
      "text/plain": [
       "<Figure size 648x432 with 0 Axes>"
      ]
     },
     "metadata": {},
     "output_type": "display_data"
    },
    {
     "data": {
      "image/png": "[encoded data removed]",
      "text/plain": [
       "<Figure size 432x288 with 1 Axes>"
      ]
     },
     "metadata": {
      "needs_background": "light"
     },
     "output_type": "display_data"
    }
   ],
   "source": [
    "fig = plt.gcf()\n",
    "fig.set_size_inches(9, 6)\n",
    "\n",
    "methods = (\"Logistic Regression\", \"Random Forest\", \"Gradient Boosting\")\n",
    "models = {\n",
    "    'bootstrap': (lr_bootstrap_perf['auc'].mean(), rf_bootstrap_perf['auc'].mean(), gbc_bootstrap_perf['auc'].mean()),\n",
    "    '10-fold CV': (lr_10fold_perf['auc'].mean(), rf_10fold_perf['auc'].mean(), gbc_10fold_perf['auc'].mean()),\n",
    "    'leave-one-out CV': (lr_loo_AUC, rf_loo_AUC, gbc_loo_AUC),\n",
    "}\n",
    "\n",
    "x = np.arange(len(methods))  # the label locations\n",
    "width = 0.25  # the width of the bars\n",
    "multiplier = 0\n",
    "\n",
    "fig, ax = plt.subplots()\n",
    "\n",
    "for attribute, measurement in models.items():\n",
    "    offset = width * multiplier\n",
    "    rects = ax.bar(x + offset, measurement, width, label=attribute)\n",
    "    #ax.errorbar(x + offset, measurement, yerr=0.2, color=\"k\", fmt=\"o\")\n",
    "    #ax.bar_label(rects, padding=3)\n",
    "    multiplier += 1\n",
    "\n",
    "# Add some text for labels, title and custom x-axis tick labels, etc.\n",
    "ax.set_ylabel('AUROC')\n",
    "ax.set_title('Compare ...')\n",
    "#ax.set_xticks(x + width, methods)\n",
    "plt.xticks(x+width, ['Logistic Regression', 'Random Forest', 'Gradient Boosting'])\n",
    "ax.legend(loc='upper right')\n",
    "ax.set_ylim(0, 1.3)\n",
    "#ax.set_ylim(0, 250)\n",
    "\n",
    "plt.show()"
   ]
  },
  {
   "cell_type": "code",
   "execution_count": 842,
   "id": "869900f3",
   "metadata": {},
   "outputs": [
    {
     "data": {
      "image/png": "[encoded data removed]",
      "text/plain": [
       "<Figure size 432x288 with 1 Axes>"
      ]
     },
     "metadata": {
      "needs_background": "light"
     },
     "output_type": "display_data"
    }
   ],
   "source": [
    "#fig = plt.gcf()\n",
    "#fig.set_size_inches(9, 6)\n",
    "\n",
    "methods = (\"Midpoint Coverage\", \"WPS\", \"Full Coverage\")\n",
    "models = {\n",
    "    'Accuracy': (lr_bootstrap_perf['accuracy'].mean(), LR_wps_bootstrap['accuracy'].mean(), LR_cov_bootstrap['accuracy'].mean()),\n",
    "    'AUROC': (lr_bootstrap_perf['auc'].mean(), LR_wps_bootstrap['auc'].mean(), LR_cov_bootstrap['auc'].mean()),\n",
    "}\n",
    "errors = {\n",
    "    'Accuracy': (lr_bootstrap_perf['accuracy'].std(), LR_wps_bootstrap['accuracy'].std(), LR_cov_bootstrap['accuracy'].std()),\n",
    "    'AUROC': (lr_bootstrap_perf['auc'].std(), LR_wps_bootstrap['auc'].std(), LR_cov_bootstrap['auc'].std()),\n",
    "}\n",
    "\n",
    "x = np.arange(len(methods))  # the label locations\n",
    "width = 0.25  # the width of the bars\n",
    "multiplier = 0.5\n",
    "\n",
    "fig, ax = plt.subplots()\n",
    "\n",
    "#print(models.items())\n",
    "#print(errors.items())\n",
    "\n",
    "for attribute, measurement in models.items():\n",
    "    #print(\"measurement\", measurement)\n",
    "    #print(\"error\", errors[attribute])\n",
    "    offset = width * multiplier\n",
    "    rects = ax.bar(x + offset, measurement, width, label=attribute)\n",
    "    ax.errorbar(x + offset, measurement, yerr=errors[attribute], color=\"k\", fmt=\"o\")\n",
    "    #ax.bar_label(rects, padding=3)\n",
    "    multiplier += 1\n",
    "\n",
    "# Add some text for labels, title and custom x-axis tick labels, etc.\n",
    "ax.set_ylabel('Performance')\n",
    "ax.set_title('Logistic Regression with 1,000 bootstrap iterations')\n",
    "#ax.set_xticks(x + width, methods)\n",
    "plt.xticks(x+width, [\"Midpoint Coverage\", \"WPS\", \"Full Coverage\"])\n",
    "ax.legend(loc='upper right')\n",
    "ax.set_ylim(0, 1.15)\n",
    "#ax.set_ylim(0, 250)\n",
    "\n",
    "outfile = \"thesis_plots/LogisticRegression_bootstrap_compareScores.pdf\"\n",
    "plt.savefig(outfile,bbox_inches='tight')"
   ]
  },
  {
   "cell_type": "code",
   "execution_count": null,
   "id": "e2560100",
   "metadata": {},
   "outputs": [],
   "source": []
  },
  {
   "cell_type": "code",
   "execution_count": 84,
   "id": "260ae98a",
   "metadata": {},
   "outputs": [],
   "source": [
    "extension=\"png\""
   ]
  },
  {
   "cell_type": "code",
   "execution_count": 85,
   "id": "917a6eaa",
   "metadata": {},
   "outputs": [
    {
     "ename": "NameError",
     "evalue": "name 'rf_loo_perf' is not defined",
     "output_type": "error",
     "traceback": [
      "\u001b[0;31m---------------------------------------------------------------------------\u001b[0m",
      "\u001b[0;31mNameError\u001b[0m                                 Traceback (most recent call last)",
      "\u001b[0;32m<ipython-input-85-2e7fb1ed4cf6>\u001b[0m in \u001b[0;36m<module>\u001b[0;34m\u001b[0m\n\u001b[1;32m     13\u001b[0m \u001b[0mplt\u001b[0m\u001b[0;34m.\u001b[0m\u001b[0mxlabel\u001b[0m\u001b[0;34m(\u001b[0m\u001b[0;34m'False Positive Rate'\u001b[0m\u001b[0;34m)\u001b[0m\u001b[0;34m\u001b[0m\u001b[0;34m\u001b[0m\u001b[0m\n\u001b[1;32m     14\u001b[0m \u001b[0;34m\u001b[0m\u001b[0m\n\u001b[0;32m---> 15\u001b[0;31m \u001b[0mplt\u001b[0m\u001b[0;34m.\u001b[0m\u001b[0mplot\u001b[0m\u001b[0;34m(\u001b[0m\u001b[0mrf_loo_perf\u001b[0m\u001b[0;34m[\u001b[0m\u001b[0;34m'fpr'\u001b[0m\u001b[0;34m]\u001b[0m\u001b[0;34m,\u001b[0m \u001b[0mrf_loo_perf\u001b[0m\u001b[0;34m[\u001b[0m\u001b[0;34m'tpr'\u001b[0m\u001b[0;34m]\u001b[0m\u001b[0;34m,\u001b[0m \u001b[0;34m'c'\u001b[0m\u001b[0;34m,\u001b[0m \u001b[0mlabel\u001b[0m \u001b[0;34m=\u001b[0m \u001b[0;34m'Random Forest (%0.2f)'\u001b[0m \u001b[0;34m%\u001b[0m \u001b[0mrf_loo_perf\u001b[0m\u001b[0;34m[\u001b[0m\u001b[0;34m'auc'\u001b[0m\u001b[0;34m]\u001b[0m\u001b[0;34m)\u001b[0m\u001b[0;34m\u001b[0m\u001b[0;34m\u001b[0m\u001b[0m\n\u001b[0m\u001b[1;32m     16\u001b[0m \u001b[0;34m\u001b[0m\u001b[0m\n\u001b[1;32m     17\u001b[0m \u001b[0mplt\u001b[0m\u001b[0;34m.\u001b[0m\u001b[0mplot\u001b[0m\u001b[0;34m(\u001b[0m\u001b[0mgbc_loo_perf\u001b[0m\u001b[0;34m[\u001b[0m\u001b[0;34m'fpr'\u001b[0m\u001b[0;34m]\u001b[0m\u001b[0;34m,\u001b[0m \u001b[0mgbc_loo_perf\u001b[0m\u001b[0;34m[\u001b[0m\u001b[0;34m'tpr'\u001b[0m\u001b[0;34m]\u001b[0m\u001b[0;34m,\u001b[0m \u001b[0;34m'g'\u001b[0m\u001b[0;34m,\u001b[0m \u001b[0mlabel\u001b[0m \u001b[0;34m=\u001b[0m \u001b[0;34m'Gradient Boosting Classifier (%0.2f)'\u001b[0m \u001b[0;34m%\u001b[0m \u001b[0mgbc_loo_perf\u001b[0m\u001b[0;34m[\u001b[0m\u001b[0;34m'auc'\u001b[0m\u001b[0;34m]\u001b[0m\u001b[0;34m)\u001b[0m\u001b[0;34m\u001b[0m\u001b[0;34m\u001b[0m\u001b[0m\n",
      "\u001b[0;31mNameError\u001b[0m: name 'rf_loo_perf' is not defined"
     ]
    },
    {
     "data": {
      "image/png": "[encoded data removed]",
      "text/plain": [
       "<Figure size 648x432 with 1 Axes>"
      ]
     },
     "metadata": {
      "needs_background": "light"
     },
     "output_type": "display_data"
    }
   ],
   "source": [
    "### COMPARE MODELS\n",
    "\n",
    "fig = plt.gcf()\n",
    "fig.set_size_inches(9, 6)\n",
    "\n",
    "\n",
    "#plt.title('Receiver Operating Characteristic')\n",
    "plt.plot(lr_loo_perf['fpr'], lr_loo_perf['tpr'], 'k', label = 'Logistic Regression (%0.2f)' % lr_loo_perf['auc'])\n",
    "plt.plot([0, 1], [0, 1], \"gray\", linestyle='--')\n",
    "#plt.xlim([0, 1])\n",
    "#plt.ylim([0, 1])\n",
    "plt.ylabel('True Positive Rate')\n",
    "plt.xlabel('False Positive Rate')  \n",
    "\n",
    "plt.plot(rf_loo_perf['fpr'], rf_loo_perf['tpr'], 'c', label = 'Random Forest (%0.2f)' % rf_loo_perf['auc'])\n",
    "\n",
    "plt.plot(gbc_loo_perf['fpr'], gbc_loo_perf['tpr'], 'g', label = 'Gradient Boosting Classifier (%0.2f)' % gbc_loo_perf['auc'])\n",
    "\n",
    "plt.legend(loc = 'lower right')\n",
    "#plt.show()\n",
    "\n",
    "outfile = \"thesis_plots/LOO_compare_binary_classification.\"+extension\n",
    "plt.savefig(outfile)"
   ]
  },
  {
   "cell_type": "code",
   "execution_count": 872,
   "id": "2436efa2",
   "metadata": {},
   "outputs": [
    {
     "data": {
      "image/png": "[encoded data removed]",
      "text/plain": [
       "<Figure size 432x288 with 1 Axes>"
      ]
     },
     "metadata": {
      "needs_background": "light"
     },
     "output_type": "display_data"
    }
   ],
   "source": [
    "### CORRECTION\n",
    "\n",
    "# RF\n",
    "#fig = plt.gcf()\n",
    "#fig.set_size_inches(9, 6)\n",
    "\n",
    "#plt.title('Receiver Operating Characteristic')\n",
    "plt.plot(lr_loo_perf['fpr'], lr_loo_perf['tpr'], 'k', label = 'GC corrected (%0.2f)' % lr_loo_perf['auc'])\n",
    "plt.plot([0, 1], [0, 1], \"gray\", linestyle='--')\n",
    "#plt.xlim([0, 1])\n",
    "#plt.ylim([0, 1])\n",
    "plt.ylabel('True Positive Rate')\n",
    "plt.xlabel('False Positive Rate')\n",
    "    \n",
    "plt.plot(LR_uncorrected_loo['fpr'], LR_uncorrected_loo['tpr'], 'c', label = 'uncorrected (%0.2f)' % LR_uncorrected_loo['auc'])\n",
    "\n",
    "plt.legend(loc = 'lower right')\n",
    "#plt.show()\n",
    "\n",
    "outfile = \"thesis_plots/LR_LOO_correction.\"+extension\n",
    "plt.savefig(outfile)"
   ]
  },
  {
   "cell_type": "code",
   "execution_count": 873,
   "id": "9cb60384",
   "metadata": {},
   "outputs": [
    {
     "data": {
      "image/png": "[encoded data removed]",
      "text/plain": [
       "<Figure size 432x288 with 1 Axes>"
      ]
     },
     "metadata": {
      "needs_background": "light"
     },
     "output_type": "display_data"
    }
   ],
   "source": [
    "### DIFFERENT SCORES\n",
    "\n",
    "#fig = plt.gcf()\n",
    "#fig.set_size_inches(9, 6)\n",
    "\n",
    "#plt.title('ROC Curve of Logistic Regression with leave-one-out CV')\n",
    "plt.plot(lr_loo_perf['fpr'], lr_loo_perf['tpr'], 'k', label = 'Midpoint Coverage (%0.2f)' % lr_loo_perf['auc'])\n",
    "plt.plot([0, 1], [0, 1], \"gray\", linestyle='--')\n",
    "#plt.xlim([0, 1])\n",
    "#plt.ylim([0, 1])\n",
    "plt.ylabel('True Positive Rate')\n",
    "plt.xlabel('False Positive Rate')\n",
    "\n",
    "plt.plot(LR_wps_loo['fpr'], LR_wps_loo['tpr'], 'c', label = 'WPS (%0.2f)' % LR_wps_loo['auc'])\n",
    "\n",
    "plt.plot(LR_cov_loo['fpr'], LR_cov_loo['tpr'], 'g', label = 'Full Coverage (%0.2f)' % LR_cov_loo['auc'])\n",
    "\n",
    "plt.legend(loc = 'lower right')\n",
    "#plt.show()\n",
    "\n",
    "outfile = \"thesis_plots/LR_LOO_compare_scores.\"+extension\n",
    "plt.savefig(outfile)"
   ]
  },
  {
   "cell_type": "code",
   "execution_count": 887,
   "id": "3390d841",
   "metadata": {},
   "outputs": [
    {
     "data": {
      "image/png": "[encoded data removed]",
      "text/plain": [
       "<Figure size 432x288 with 1 Axes>"
      ]
     },
     "metadata": {
      "needs_background": "light"
     },
     "output_type": "display_data"
    }
   ],
   "source": [
    "### 3 FEATURES\n",
    "\n",
    "# RF\n",
    "#fig = plt.gcf()\n",
    "#fig.set_size_inches(9, 6)\n",
    "\n",
    "plt.title('ROC curves of different feature type combinations')\n",
    "plt.plot(lr_loo_perf['fpr'], lr_loo_perf['tpr'], 'k', label = 'all features (%0.2f)' % lr_loo_perf['auc'])\n",
    "plt.plot([0, 1], [0, 1], \"gray\", linestyle='--')\n",
    "#plt.xlim([0, 1])\n",
    "#plt.ylim([0, 1])\n",
    "plt.ylabel('True Positive Rate')\n",
    "plt.xlabel('False Positive Rate')\n",
    "\n",
    "plt.plot(LR_griffin_loo['fpr'], LR_griffin_loo['tpr'], 'c', label = 'coverage & amplitude (%0.2f)' % LR_griffin_loo['auc'])\n",
    "\n",
    "plt.plot(LR_mix_loo['fpr'], LR_mix_loo['tpr'], 'g', label = 'coverage & nucleosome spacing (%0.2f)' % LR_mix_loo['auc'])\n",
    "\n",
    "plt.legend(loc = 'lower right')\n",
    "#plt.show()\n",
    "\n",
    "outfile = \"thesis_plots/LR_LOO_compare_3features.\"+extension\n",
    "plt.savefig(outfile)"
   ]
  },
  {
   "cell_type": "code",
   "execution_count": 888,
   "id": "cae1219a",
   "metadata": {},
   "outputs": [
    {
     "data": {
      "image/png": "[encoded data removed]",
      "text/plain": [
       "<Figure size 432x288 with 1 Axes>"
      ]
     },
     "metadata": {
      "needs_background": "light"
     },
     "output_type": "display_data"
    }
   ],
   "source": [
    "### SINGLE FEATURES\n",
    "\n",
    "# RF\n",
    "#fig = plt.gcf()\n",
    "#fig.set_size_inches(9, 6)\n",
    "\n",
    "\n",
    "plt.title('ROC curves of single feature types')\n",
    "plt.plot(LR_mean_loo['fpr'], LR_mean_loo['tpr'], 'k', label = 'mean coverage (%0.2f)' % LR_mean_loo['auc'])\n",
    "plt.plot([0, 1], [0, 1], \"gray\", linestyle='--')\n",
    "#plt.xlim([0, 1])\n",
    "#plt.ylim([0, 1])\n",
    "plt.ylabel('True Positive Rate')\n",
    "plt.xlabel('False Positive Rate')\n",
    "\n",
    "plt.plot(LR_central_loo['fpr'], LR_central_loo['tpr'], 'b', label = 'central coverage (%0.2f)' % LR_central_loo['auc'])\n",
    "\n",
    "plt.plot(LR_amplitude_loo['fpr'], LR_amplitude_loo['tpr'], 'c', label = 'amplitude (%0.2f)' % LR_amplitude_loo['auc'])\n",
    "\n",
    "plt.plot(LR_mine_loo['fpr'], LR_mine_loo['tpr'], 'g', label = 'nucleosome spacing (%0.2f)' % LR_mine_loo['auc'])\n",
    "\n",
    "plt.legend(loc = 'lower right')\n",
    "#plt.show()\n",
    "\n",
    "outfile = \"thesis_plots/LR_LOO_compare_single_features.\"+extension\n",
    "plt.savefig(outfile)"
   ]
  },
  {
   "cell_type": "code",
   "execution_count": null,
   "id": "601d81b6",
   "metadata": {},
   "outputs": [],
   "source": []
  },
  {
   "cell_type": "code",
   "execution_count": null,
   "id": "e4c6a913",
   "metadata": {},
   "outputs": [],
   "source": []
  }
 ],
 "metadata": {
  "kernelspec": {
   "display_name": "Python 3",
   "language": "python",
   "name": "python3"
  },
  "language_info": {
   "codemirror_mode": {
    "name": "ipython",
    "version": 3
   },
   "file_extension": ".py",
   "mimetype": "text/x-python",
   "name": "python",
   "nbconvert_exporter": "python",
   "pygments_lexer": "ipython3",
   "version": "3.9.2"
  }
 },
 "nbformat": 4,
 "nbformat_minor": 5
}
