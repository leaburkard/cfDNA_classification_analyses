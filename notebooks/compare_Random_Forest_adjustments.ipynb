{
 "cells": [
  {
   "cell_type": "markdown",
   "id": "4bc7e028",
   "metadata": {},
   "source": [
    "# About the notebook\n",
    "This script computes random forest models based on the features generated as part of the thesis. Different adjustments of the models are tested (e.g. scaled data, Principal Component Analysis for dimensionality reduction, adjusting the hyperparameter, hyperparameter optimization)."
   ]
  },
  {
   "cell_type": "code",
   "execution_count": 1,
   "id": "741f3e97",
   "metadata": {},
   "outputs": [],
   "source": [
    "import pandas as pd\n",
    "import numpy as np\n",
    "import matplotlib.pyplot as plt\n",
    "import seaborn as sns\n",
    "from scipy import stats\n",
    "from scipy.signal import savgol_filter\n",
    "\n",
    "from sklearn.model_selection import train_test_split\n",
    "from sklearn.model_selection import RandomizedSearchCV\n",
    "from sklearn.model_selection import GridSearchCV\n",
    "from sklearn.metrics import roc_curve,auc,accuracy_score\n",
    "from sklearn.linear_model import LogisticRegression\n",
    "from sklearn.ensemble import RandomForestRegressor,RandomForestClassifier\n",
    "from sklearn.ensemble import GradientBoostingClassifier\n",
    "from sklearn.preprocessing import StandardScaler\n",
    "from sklearn.model_selection import StratifiedKFold\n",
    "from sklearn.decomposition import PCA\n",
    "from sklearn.metrics import RocCurveDisplay"
   ]
  },
  {
   "cell_type": "markdown",
   "id": "9802ab04",
   "metadata": {},
   "source": [
    "# Read in the data"
   ]
  },
  {
   "cell_type": "code",
   "execution_count": 2,
   "id": "c12168c3",
   "metadata": {},
   "outputs": [],
   "source": [
    "# params\n",
    "cancer_type = \"breast_cancer\"\n",
    "GC = \"corrected\"\n",
    "score = \"MIDPOINT\"\n",
    "amplitude = \"FFT\""
   ]
  },
  {
   "cell_type": "code",
   "execution_count": 3,
   "id": "694c5066",
   "metadata": {},
   "outputs": [],
   "source": [
    "# breast cancer features\n",
    "file = \"/data/gpfs-1/groups/ag_kircher/cfDNA-analysis/lea/cfDNA_classification_analyses/features/DELFI_\"+cancer_type+\"_\"+GC+\"_\"+score+\"_\"+amplitude+\"_features.csv\"\n",
    "c_features = pd.read_csv(file, sep=\"\\t\", index_col=0)\n",
    "\n",
    "file = \"/data/gpfs-1/groups/ag_kircher/cfDNA-analysis/lea/cfDNA_classification_analyses/features/DELFI_\"+cancer_type+\"_metadata.tsv\"\n",
    "c_meta = pd.read_csv(file, sep='\\t', index_col='sample_name')\n",
    "\n",
    "c_features = c_features.reset_index(drop=False)\n",
    "c_features[['sample','p','score']] = c_features['index'].str.split('_',2, expand=True)\n",
    "c_features = c_features.set_index('sample')\n",
    "cancer = pd.concat([c_features, c_meta], axis=1)"
   ]
  },
  {
   "cell_type": "code",
   "execution_count": 4,
   "id": "fa357761",
   "metadata": {},
   "outputs": [],
   "source": [
    "# healthy features\n",
    "file = \"/data/gpfs-1/groups/ag_kircher/cfDNA-analysis/lea/cfDNA_classification_analyses/features/DELFI_healthy_\"+GC+\"_\"+score+\"_\"+amplitude+\"_features.csv\"\n",
    "h_features = pd.read_csv(file, sep=\"\\t\", index_col=0)\n",
    "\n",
    "file = \"/data/gpfs-1/groups/ag_kircher/cfDNA-analysis/lea/cfDNA_classification_analyses/features/DELFI_healthy_metadata.tsv\"\n",
    "h_meta = pd.read_csv(file, sep='\\t', index_col='sample_name')\n",
    "\n",
    "h_features = h_features.reset_index(drop=False)\n",
    "h_features[['sample','p','score']] = h_features['index'].str.split('_',2, expand=True)\n",
    "h_features = h_features.set_index('sample')\n",
    "healthy = pd.concat([h_features, h_meta], axis=1)"
   ]
  },
  {
   "cell_type": "code",
   "execution_count": 5,
   "id": "e81b7ebc",
   "metadata": {},
   "outputs": [
    {
     "data": {
      "text/html": [
       "<div>\n",
       "<style scoped>\n",
       "    .dataframe tbody tr th:only-of-type {\n",
       "        vertical-align: middle;\n",
       "    }\n",
       "\n",
       "    .dataframe tbody tr th {\n",
       "        vertical-align: top;\n",
       "    }\n",
       "\n",
       "    .dataframe thead th {\n",
       "        text-align: right;\n",
       "    }\n",
       "</style>\n",
       "<table border=\"1\" class=\"dataframe\">\n",
       "  <thead>\n",
       "    <tr style=\"text-align: right;\">\n",
       "      <th></th>\n",
       "      <th>index</th>\n",
       "      <th>phenotype</th>\n",
       "      <th>central_coverage_NFKB2</th>\n",
       "      <th>mean_coverage_NFKB2</th>\n",
       "      <th>amplitude190_NFKB2</th>\n",
       "      <th>nucleosome_spacing_fft_NFKB2</th>\n",
       "      <th>central_coverage_TP73</th>\n",
       "      <th>mean_coverage_TP73</th>\n",
       "      <th>amplitude190_TP73</th>\n",
       "      <th>nucleosome_spacing_fft_TP73</th>\n",
       "      <th>...</th>\n",
       "      <th>Gender</th>\n",
       "      <th>Stage</th>\n",
       "      <th>Age</th>\n",
       "      <th>Status</th>\n",
       "      <th>% GC</th>\n",
       "      <th>Length</th>\n",
       "      <th>Median</th>\n",
       "      <th>≥ 1X</th>\n",
       "      <th>≥ 5X</th>\n",
       "      <th>fraction</th>\n",
       "    </tr>\n",
       "  </thead>\n",
       "  <tbody>\n",
       "    <tr>\n",
       "      <th>EGAF00002727253</th>\n",
       "      <td>EGAF00002727253_c_MIDPOINT</td>\n",
       "      <td>1.0</td>\n",
       "      <td>0.921859</td>\n",
       "      <td>0.999899</td>\n",
       "      <td>5.964870</td>\n",
       "      <td>148.0</td>\n",
       "      <td>0.993629</td>\n",
       "      <td>0.999585</td>\n",
       "      <td>15.140059</td>\n",
       "      <td>192.0</td>\n",
       "      <td>...</td>\n",
       "      <td>F</td>\n",
       "      <td>I</td>\n",
       "      <td>54.0</td>\n",
       "      <td>breast_cancer</td>\n",
       "      <td>41%</td>\n",
       "      <td>140 bp</td>\n",
       "      <td>2.0X</td>\n",
       "      <td>88.0%</td>\n",
       "      <td>1.0%</td>\n",
       "      <td>0.06429</td>\n",
       "    </tr>\n",
       "    <tr>\n",
       "      <th>EGAF00002727240</th>\n",
       "      <td>EGAF00002727240_c_MIDPOINT</td>\n",
       "      <td>1.0</td>\n",
       "      <td>0.966934</td>\n",
       "      <td>1.000200</td>\n",
       "      <td>19.353707</td>\n",
       "      <td>192.0</td>\n",
       "      <td>1.033113</td>\n",
       "      <td>1.000039</td>\n",
       "      <td>9.433198</td>\n",
       "      <td>240.0</td>\n",
       "      <td>...</td>\n",
       "      <td>F</td>\n",
       "      <td>II</td>\n",
       "      <td>61.0</td>\n",
       "      <td>breast_cancer</td>\n",
       "      <td>42%</td>\n",
       "      <td>143 bp</td>\n",
       "      <td>2.0X</td>\n",
       "      <td>88.0%</td>\n",
       "      <td>3.0%</td>\n",
       "      <td>0.36440</td>\n",
       "    </tr>\n",
       "    <tr>\n",
       "      <th>EGAF00002727280</th>\n",
       "      <td>EGAF00002727280_c_MIDPOINT</td>\n",
       "      <td>1.0</td>\n",
       "      <td>1.161236</td>\n",
       "      <td>0.999987</td>\n",
       "      <td>11.505221</td>\n",
       "      <td>213.0</td>\n",
       "      <td>1.115174</td>\n",
       "      <td>0.999805</td>\n",
       "      <td>17.278634</td>\n",
       "      <td>192.0</td>\n",
       "      <td>...</td>\n",
       "      <td>F</td>\n",
       "      <td>II</td>\n",
       "      <td>37.0</td>\n",
       "      <td>breast_cancer</td>\n",
       "      <td>42%</td>\n",
       "      <td>134 bp</td>\n",
       "      <td>2.0X</td>\n",
       "      <td>86.0%</td>\n",
       "      <td>1.0%</td>\n",
       "      <td>0.09767</td>\n",
       "    </tr>\n",
       "    <tr>\n",
       "      <th>EGAF00002727290</th>\n",
       "      <td>EGAF00002727290_c_MIDPOINT</td>\n",
       "      <td>1.0</td>\n",
       "      <td>1.027811</td>\n",
       "      <td>0.999776</td>\n",
       "      <td>20.178665</td>\n",
       "      <td>192.0</td>\n",
       "      <td>1.038958</td>\n",
       "      <td>1.000246</td>\n",
       "      <td>3.898227</td>\n",
       "      <td>160.0</td>\n",
       "      <td>...</td>\n",
       "      <td>F</td>\n",
       "      <td>II</td>\n",
       "      <td>48.0</td>\n",
       "      <td>breast_cancer</td>\n",
       "      <td>41%</td>\n",
       "      <td>139 bp</td>\n",
       "      <td>2.0X</td>\n",
       "      <td>89.0%</td>\n",
       "      <td>2.0%</td>\n",
       "      <td>0.06922</td>\n",
       "    </tr>\n",
       "    <tr>\n",
       "      <th>EGAF00002727254</th>\n",
       "      <td>EGAF00002727254_c_MIDPOINT</td>\n",
       "      <td>1.0</td>\n",
       "      <td>1.118326</td>\n",
       "      <td>1.000246</td>\n",
       "      <td>10.611337</td>\n",
       "      <td>213.0</td>\n",
       "      <td>1.166457</td>\n",
       "      <td>0.999947</td>\n",
       "      <td>1.834101</td>\n",
       "      <td>213.0</td>\n",
       "      <td>...</td>\n",
       "      <td>F</td>\n",
       "      <td>II</td>\n",
       "      <td>47.0</td>\n",
       "      <td>breast_cancer</td>\n",
       "      <td>41%</td>\n",
       "      <td>134 bp</td>\n",
       "      <td>1.0X</td>\n",
       "      <td>86.0%</td>\n",
       "      <td>1.0%</td>\n",
       "      <td>0.11470</td>\n",
       "    </tr>\n",
       "  </tbody>\n",
       "</table>\n",
       "<p>5 rows × 1523 columns</p>\n",
       "</div>"
      ],
      "text/plain": [
       "                                      index  phenotype  \\\n",
       "EGAF00002727253  EGAF00002727253_c_MIDPOINT        1.0   \n",
       "EGAF00002727240  EGAF00002727240_c_MIDPOINT        1.0   \n",
       "EGAF00002727280  EGAF00002727280_c_MIDPOINT        1.0   \n",
       "EGAF00002727290  EGAF00002727290_c_MIDPOINT        1.0   \n",
       "EGAF00002727254  EGAF00002727254_c_MIDPOINT        1.0   \n",
       "\n",
       "                 central_coverage_NFKB2  mean_coverage_NFKB2  \\\n",
       "EGAF00002727253                0.921859             0.999899   \n",
       "EGAF00002727240                0.966934             1.000200   \n",
       "EGAF00002727280                1.161236             0.999987   \n",
       "EGAF00002727290                1.027811             0.999776   \n",
       "EGAF00002727254                1.118326             1.000246   \n",
       "\n",
       "                 amplitude190_NFKB2  nucleosome_spacing_fft_NFKB2  \\\n",
       "EGAF00002727253            5.964870                         148.0   \n",
       "EGAF00002727240           19.353707                         192.0   \n",
       "EGAF00002727280           11.505221                         213.0   \n",
       "EGAF00002727290           20.178665                         192.0   \n",
       "EGAF00002727254           10.611337                         213.0   \n",
       "\n",
       "                 central_coverage_TP73  mean_coverage_TP73  amplitude190_TP73  \\\n",
       "EGAF00002727253               0.993629            0.999585          15.140059   \n",
       "EGAF00002727240               1.033113            1.000039           9.433198   \n",
       "EGAF00002727280               1.115174            0.999805          17.278634   \n",
       "EGAF00002727290               1.038958            1.000246           3.898227   \n",
       "EGAF00002727254               1.166457            0.999947           1.834101   \n",
       "\n",
       "                 nucleosome_spacing_fft_TP73  ...  Gender  Stage   Age  \\\n",
       "EGAF00002727253                        192.0  ...       F      I  54.0   \n",
       "EGAF00002727240                        240.0  ...       F     II  61.0   \n",
       "EGAF00002727280                        192.0  ...       F     II  37.0   \n",
       "EGAF00002727290                        160.0  ...       F     II  48.0   \n",
       "EGAF00002727254                        213.0  ...       F     II  47.0   \n",
       "\n",
       "                        Status  % GC  Length  Median   ≥ 1X  ≥ 5X  fraction  \n",
       "EGAF00002727253  breast_cancer   41%  140 bp    2.0X  88.0%  1.0%   0.06429  \n",
       "EGAF00002727240  breast_cancer   42%  143 bp    2.0X  88.0%  3.0%   0.36440  \n",
       "EGAF00002727280  breast_cancer   42%  134 bp    2.0X  86.0%  1.0%   0.09767  \n",
       "EGAF00002727290  breast_cancer   41%  139 bp    2.0X  89.0%  2.0%   0.06922  \n",
       "EGAF00002727254  breast_cancer   41%  134 bp    1.0X  86.0%  1.0%   0.11470  \n",
       "\n",
       "[5 rows x 1523 columns]"
      ]
     },
     "execution_count": 5,
     "metadata": {},
     "output_type": "execute_result"
    }
   ],
   "source": [
    "# concat breast cancer and healthy\n",
    "data = pd.concat([cancer, healthy], axis=0) #pd.concat([data1, data2], axis=0)\n",
    "\n",
    "features = data.columns[(data.columns.str.startswith('central_cov')) | (data.columns.str.startswith('mean_cov')) | (data.columns.str.startswith('amplitude')) | (data.columns.str.startswith('nucleosome_spacing_fft'))]\n",
    "features_phenotype = data.columns[(data.columns.str.startswith('phenotype')) | (data.columns.str.startswith('central_cov')) | (data.columns.str.startswith('mean_cov')) | (data.columns.str.startswith('amplitude')) | (data.columns.str.startswith('nucleosome_spacing_fft'))]\n",
    "\n",
    "data.head()"
   ]
  },
  {
   "cell_type": "code",
   "execution_count": 6,
   "id": "5e0cacee",
   "metadata": {},
   "outputs": [],
   "source": [
    "# split into a training (75%) and testing set (25%)\n",
    "train,test = train_test_split(data, test_size = 0.25, random_state = 42)\n",
    "\n",
    "X_train = train[features]\n",
    "y_train = train.loc[:,\"phenotype\"]\n",
    "X_test = test[features]\n",
    "y_test = test.loc[:,\"phenotype\"]"
   ]
  },
  {
   "cell_type": "code",
   "execution_count": 7,
   "id": "10bd4f13",
   "metadata": {},
   "outputs": [
    {
     "data": {
      "text/html": [
       "<div>\n",
       "<style scoped>\n",
       "    .dataframe tbody tr th:only-of-type {\n",
       "        vertical-align: middle;\n",
       "    }\n",
       "\n",
       "    .dataframe tbody tr th {\n",
       "        vertical-align: top;\n",
       "    }\n",
       "\n",
       "    .dataframe thead th {\n",
       "        text-align: right;\n",
       "    }\n",
       "</style>\n",
       "<table border=\"1\" class=\"dataframe\">\n",
       "  <thead>\n",
       "    <tr style=\"text-align: right;\">\n",
       "      <th></th>\n",
       "      <th>index</th>\n",
       "      <th>phenotype</th>\n",
       "      <th>central_coverage_NFKB2</th>\n",
       "      <th>mean_coverage_NFKB2</th>\n",
       "      <th>amplitude190_NFKB2</th>\n",
       "      <th>nucleosome_spacing_fft_NFKB2</th>\n",
       "      <th>central_coverage_TP73</th>\n",
       "      <th>mean_coverage_TP73</th>\n",
       "      <th>amplitude190_TP73</th>\n",
       "      <th>nucleosome_spacing_fft_TP73</th>\n",
       "      <th>...</th>\n",
       "      <th>Gender</th>\n",
       "      <th>Stage</th>\n",
       "      <th>Age</th>\n",
       "      <th>Status</th>\n",
       "      <th>% GC</th>\n",
       "      <th>Length</th>\n",
       "      <th>Median</th>\n",
       "      <th>≥ 1X</th>\n",
       "      <th>≥ 5X</th>\n",
       "      <th>fraction</th>\n",
       "    </tr>\n",
       "  </thead>\n",
       "  <tbody>\n",
       "    <tr>\n",
       "      <th>EGAF00002727253</th>\n",
       "      <td>EGAF00002727253_c_MIDPOINT</td>\n",
       "      <td>1.0</td>\n",
       "      <td>-1.587964</td>\n",
       "      <td>-0.402804</td>\n",
       "      <td>-1.431977</td>\n",
       "      <td>-2.181180</td>\n",
       "      <td>-1.235524</td>\n",
       "      <td>-2.211313</td>\n",
       "      <td>0.879156</td>\n",
       "      <td>-0.406840</td>\n",
       "      <td>...</td>\n",
       "      <td>F</td>\n",
       "      <td>I</td>\n",
       "      <td>54.0</td>\n",
       "      <td>breast_cancer</td>\n",
       "      <td>41%</td>\n",
       "      <td>140 bp</td>\n",
       "      <td>2.0X</td>\n",
       "      <td>88.0%</td>\n",
       "      <td>1.0%</td>\n",
       "      <td>0.06429</td>\n",
       "    </tr>\n",
       "    <tr>\n",
       "      <th>EGAF00002727240</th>\n",
       "      <td>EGAF00002727240_c_MIDPOINT</td>\n",
       "      <td>1.0</td>\n",
       "      <td>-0.575681</td>\n",
       "      <td>1.081786</td>\n",
       "      <td>0.380465</td>\n",
       "      <td>-0.469377</td>\n",
       "      <td>-0.233665</td>\n",
       "      <td>0.148223</td>\n",
       "      <td>-0.184884</td>\n",
       "      <td>1.386579</td>\n",
       "      <td>...</td>\n",
       "      <td>F</td>\n",
       "      <td>II</td>\n",
       "      <td>61.0</td>\n",
       "      <td>breast_cancer</td>\n",
       "      <td>42%</td>\n",
       "      <td>143 bp</td>\n",
       "      <td>2.0X</td>\n",
       "      <td>88.0%</td>\n",
       "      <td>3.0%</td>\n",
       "      <td>0.36440</td>\n",
       "    </tr>\n",
       "    <tr>\n",
       "      <th>EGAF00002727280</th>\n",
       "      <td>EGAF00002727280_c_MIDPOINT</td>\n",
       "      <td>1.0</td>\n",
       "      <td>3.787805</td>\n",
       "      <td>0.031149</td>\n",
       "      <td>-0.681981</td>\n",
       "      <td>0.347620</td>\n",
       "      <td>1.848499</td>\n",
       "      <td>-1.066968</td>\n",
       "      <td>1.277891</td>\n",
       "      <td>-0.406840</td>\n",
       "      <td>...</td>\n",
       "      <td>F</td>\n",
       "      <td>II</td>\n",
       "      <td>37.0</td>\n",
       "      <td>breast_cancer</td>\n",
       "      <td>42%</td>\n",
       "      <td>134 bp</td>\n",
       "      <td>2.0X</td>\n",
       "      <td>86.0%</td>\n",
       "      <td>1.0%</td>\n",
       "      <td>0.09767</td>\n",
       "    </tr>\n",
       "    <tr>\n",
       "      <th>EGAF00002727290</th>\n",
       "      <td>EGAF00002727290_c_MIDPOINT</td>\n",
       "      <td>1.0</td>\n",
       "      <td>0.791448</td>\n",
       "      <td>-1.014266</td>\n",
       "      <td>0.492140</td>\n",
       "      <td>-0.469377</td>\n",
       "      <td>-0.085350</td>\n",
       "      <td>1.227604</td>\n",
       "      <td>-1.216876</td>\n",
       "      <td>-1.602453</td>\n",
       "      <td>...</td>\n",
       "      <td>F</td>\n",
       "      <td>II</td>\n",
       "      <td>48.0</td>\n",
       "      <td>breast_cancer</td>\n",
       "      <td>41%</td>\n",
       "      <td>139 bp</td>\n",
       "      <td>2.0X</td>\n",
       "      <td>89.0%</td>\n",
       "      <td>2.0%</td>\n",
       "      <td>0.06922</td>\n",
       "    </tr>\n",
       "    <tr>\n",
       "      <th>EGAF00002727254</th>\n",
       "      <td>EGAF00002727254_c_MIDPOINT</td>\n",
       "      <td>1.0</td>\n",
       "      <td>2.824170</td>\n",
       "      <td>1.308605</td>\n",
       "      <td>-0.802986</td>\n",
       "      <td>0.347620</td>\n",
       "      <td>3.149750</td>\n",
       "      <td>-0.327229</td>\n",
       "      <td>-1.601730</td>\n",
       "      <td>0.377780</td>\n",
       "      <td>...</td>\n",
       "      <td>F</td>\n",
       "      <td>II</td>\n",
       "      <td>47.0</td>\n",
       "      <td>breast_cancer</td>\n",
       "      <td>41%</td>\n",
       "      <td>134 bp</td>\n",
       "      <td>1.0X</td>\n",
       "      <td>86.0%</td>\n",
       "      <td>1.0%</td>\n",
       "      <td>0.11470</td>\n",
       "    </tr>\n",
       "  </tbody>\n",
       "</table>\n",
       "<p>5 rows × 1523 columns</p>\n",
       "</div>"
      ],
      "text/plain": [
       "                                      index  phenotype  \\\n",
       "EGAF00002727253  EGAF00002727253_c_MIDPOINT        1.0   \n",
       "EGAF00002727240  EGAF00002727240_c_MIDPOINT        1.0   \n",
       "EGAF00002727280  EGAF00002727280_c_MIDPOINT        1.0   \n",
       "EGAF00002727290  EGAF00002727290_c_MIDPOINT        1.0   \n",
       "EGAF00002727254  EGAF00002727254_c_MIDPOINT        1.0   \n",
       "\n",
       "                 central_coverage_NFKB2  mean_coverage_NFKB2  \\\n",
       "EGAF00002727253               -1.587964            -0.402804   \n",
       "EGAF00002727240               -0.575681             1.081786   \n",
       "EGAF00002727280                3.787805             0.031149   \n",
       "EGAF00002727290                0.791448            -1.014266   \n",
       "EGAF00002727254                2.824170             1.308605   \n",
       "\n",
       "                 amplitude190_NFKB2  nucleosome_spacing_fft_NFKB2  \\\n",
       "EGAF00002727253           -1.431977                     -2.181180   \n",
       "EGAF00002727240            0.380465                     -0.469377   \n",
       "EGAF00002727280           -0.681981                      0.347620   \n",
       "EGAF00002727290            0.492140                     -0.469377   \n",
       "EGAF00002727254           -0.802986                      0.347620   \n",
       "\n",
       "                 central_coverage_TP73  mean_coverage_TP73  amplitude190_TP73  \\\n",
       "EGAF00002727253              -1.235524           -2.211313           0.879156   \n",
       "EGAF00002727240              -0.233665            0.148223          -0.184884   \n",
       "EGAF00002727280               1.848499           -1.066968           1.277891   \n",
       "EGAF00002727290              -0.085350            1.227604          -1.216876   \n",
       "EGAF00002727254               3.149750           -0.327229          -1.601730   \n",
       "\n",
       "                 nucleosome_spacing_fft_TP73  ...  Gender  Stage   Age  \\\n",
       "EGAF00002727253                    -0.406840  ...       F      I  54.0   \n",
       "EGAF00002727240                     1.386579  ...       F     II  61.0   \n",
       "EGAF00002727280                    -0.406840  ...       F     II  37.0   \n",
       "EGAF00002727290                    -1.602453  ...       F     II  48.0   \n",
       "EGAF00002727254                     0.377780  ...       F     II  47.0   \n",
       "\n",
       "                        Status  % GC  Length  Median   ≥ 1X  ≥ 5X  fraction  \n",
       "EGAF00002727253  breast_cancer   41%  140 bp    2.0X  88.0%  1.0%   0.06429  \n",
       "EGAF00002727240  breast_cancer   42%  143 bp    2.0X  88.0%  3.0%   0.36440  \n",
       "EGAF00002727280  breast_cancer   42%  134 bp    2.0X  86.0%  1.0%   0.09767  \n",
       "EGAF00002727290  breast_cancer   41%  139 bp    2.0X  89.0%  2.0%   0.06922  \n",
       "EGAF00002727254  breast_cancer   41%  134 bp    1.0X  86.0%  1.0%   0.11470  \n",
       "\n",
       "[5 rows x 1523 columns]"
      ]
     },
     "execution_count": 7,
     "metadata": {},
     "output_type": "execute_result"
    }
   ],
   "source": [
    "# scale data\n",
    "scaled_data = pd.concat([cancer, healthy], axis=0) \n",
    "scaler = StandardScaler()\n",
    "scaler.fit(scaled_data[features])\n",
    "scaled_data[features] = scaler.transform(scaled_data[features])\n",
    "scaled_data[features].mean()\n",
    "\n",
    "scaled_data.head()"
   ]
  },
  {
   "cell_type": "code",
   "execution_count": 8,
   "id": "79796e50",
   "metadata": {},
   "outputs": [],
   "source": [
    "# split scaled data into a training (75%) and testing set (25%)\n",
    "train_scaled,test_scaled = train_test_split(scaled_data, test_size = 0.25, random_state = 42)\n",
    "\n",
    "X_train_scaled = train_scaled[features]\n",
    "y_train_scaled = train_scaled.loc[:,\"phenotype\"]\n",
    "X_test_scaled = test_scaled[features]\n",
    "y_test_scaled = test_scaled.loc[:,\"phenotype\"]"
   ]
  },
  {
   "cell_type": "markdown",
   "id": "d616c8b7",
   "metadata": {},
   "source": [
    "# Functions"
   ]
  },
  {
   "cell_type": "code",
   "execution_count": 9,
   "id": "f323c9af",
   "metadata": {},
   "outputs": [],
   "source": [
    "def get_AUC_griffin(prob,data):\n",
    "    #get AUC and accuracy for each bootstrap\n",
    "    probabilities = pd.DataFrame(index=data.index)\n",
    "    probabilities[0] = pd.Series(prob[:,1], index = X_test.index)\n",
    "    probabilities = probabilities.merge(data[['phenotype']], left_index=True, right_index=True)\n",
    "\n",
    "    AUCs = pd.DataFrame()\n",
    "\n",
    "    probabilities = probabilities.merge(data[['fraction','Status','Stage','Median']], left_index=True, right_index=True)\n",
    "    \n",
    "    for i in range(1):\n",
    "        current_dict = {}\n",
    "        current = probabilities[~(probabilities[i].isnull())][['phenotype','fraction','Status','Stage','Median',i]].copy()\n",
    "\n",
    "        #overall accuracy and AUC\n",
    "        group = 'overall'\n",
    "        fpr,tpr,_ = roc_curve(current['phenotype'],current[i])\n",
    "        AUC = auc(fpr,tpr)\n",
    "        current_dict[group] = AUC\n",
    "        mean_fpr = fpr\n",
    "        mean_tpr = tpr\n",
    "        del(AUC,group,fpr,tpr)\n",
    "\n",
    "        #separate out the healthy samples to be used in every AUC\n",
    "        healthy_df = current[current['phenotype']==0]\n",
    "        cancer_df = current[current['phenotype']==1]\n",
    "        del(current)\n",
    "        \n",
    "        for group,df in cancer_df.groupby('Status'):\n",
    "            if group == 'Duodenal_Cancer':\n",
    "                continue\n",
    "\n",
    "            df2 = df.append(healthy_df, ignore_index=True)\n",
    "            fpr,tpr,_ = roc_curve(df2['phenotype'],df2[i])\n",
    "            AUC = auc(fpr,tpr)\n",
    "            current_dict[group] = AUC\n",
    "            del(AUC,group,fpr,tpr)\n",
    "        \n",
    "        for group,df in cancer_df.groupby('Median'):\n",
    "            df2 = df.append(healthy_df, ignore_index=True)\n",
    "            fpr,tpr,_ = roc_curve(df2['phenotype'],df2[i])\n",
    "            AUC = auc(fpr,tpr)\n",
    "            current_dict[group] = AUC\n",
    "            del(AUC,group,fpr,tpr)\n",
    "        \n",
    "        AUCs = AUCs.append(pd.Series(current_dict), ignore_index=True)\n",
    "        \n",
    "    CIs = pd.DataFrame([AUCs.median(), AUCs.quantile(.025), AUCs.quantile(.975)]).T\n",
    "    CIs = CIs.rename(columns = {'Unnamed 0':'median'})    \n",
    "    return(AUCs,CIs,mean_fpr,mean_tpr)"
   ]
  },
  {
   "cell_type": "code",
   "execution_count": 10,
   "id": "383edb00",
   "metadata": {},
   "outputs": [],
   "source": [
    "def roc_data(prob,data):\n",
    "    #get AUC and accuracy for each bootstrap\n",
    "    probabilities = pd.DataFrame(index=data.index)\n",
    "    probabilities[0] = pd.Series(prob[:,1], index = X_test.index)\n",
    "    probabilities = probabilities.merge(data[['phenotype']], left_index=True, right_index=True)\n",
    "    probabilities = probabilities.merge(data[['fraction','Status','Stage','Median']], left_index=True, right_index=True)\n",
    "    \n",
    "    AUCs = pd.DataFrame()\n",
    "    current_dict = {}\n",
    "    current = probabilities[~(probabilities[0].isnull())][['phenotype','fraction','Status','Stage','Median',0]].copy()\n",
    "\n",
    "    #overall accuracy and AUC\n",
    "    group = 'overall'\n",
    "    fpr,tpr,_ = roc_curve(current['phenotype'],current[0])\n",
    "    AUC = auc(fpr,tpr)\n",
    "    current_dict[group] = AUC\n",
    "\n",
    "    AUCs = AUCs.append(pd.Series(current_dict), ignore_index=True)\n",
    "        \n",
    "    CIs = pd.DataFrame([AUCs.median(), AUCs.quantile(.025), AUCs.quantile(.975)]).T\n",
    "    CIs = CIs.rename(columns = {'Unnamed 0':'median'})    \n",
    "    return(fpr,tpr,AUC)"
   ]
  },
  {
   "cell_type": "code",
   "execution_count": 11,
   "id": "e6e9e480",
   "metadata": {},
   "outputs": [],
   "source": [
    "def calculate_RF(data, PCA_flag, adjustment_flag, iterations):\n",
    "    fraction_variance = .8\n",
    "    probabilities = pd.DataFrame(index=data.index)\n",
    "    c_vals = []\n",
    "    coefs = pd.DataFrame(index=features)\n",
    "    train_indexes = []\n",
    "\n",
    "    # Loop for each iteration\n",
    "    for i in range(iterations):\n",
    "\n",
    "        train_internal,test_internal = train_test_split(data, test_size = 0.25, random_state = i+100) #, random_state = 42\n",
    "        X_train_internal = train_internal[features]\n",
    "        y_train_internal = train_internal.loc[:,\"phenotype\"]\n",
    "        X_test_internal = test_internal[features]\n",
    "        y_test_internal = test_internal.loc[:,\"phenotype\"]\n",
    "        \n",
    "        if PCA_flag == True:\n",
    "            #perform PCA on the training set\n",
    "            n_components = min(len(features), len(X_train_internal))\n",
    "            pca = PCA(n_components=n_components, svd_solver='randomized', random_state = 100)\n",
    "            PCs = pca.fit_transform(X_train_internal[features])\n",
    "            principal_components = pd.DataFrame(data = PCs, columns = ['PC_'+str(m) for m in np.arange(n_components)], index = X_train_internal.index)\n",
    "\n",
    "            #find the principle components that make up 80% of the varience\n",
    "            for j in range(len(pca.explained_variance_ratio_)):\n",
    "                current_sum = pca.explained_variance_ratio_[:j].sum()\n",
    "                if current_sum>=fraction_variance:\n",
    "                    break\n",
    "            pca_features = ['PC_'+str(m) for m in np.arange(0,j)]\n",
    "\n",
    "            #apply to the test data\n",
    "            test_PCs = pca.transform(X_test_internal[features])\n",
    "            test_principal_components = pd.DataFrame(data = test_PCs , columns = ['PC_'+str(m) for m in np.arange(n_components)], index = X_test_internal.index)\n",
    "\n",
    "            X_train_internal = principal_components[pca_features]\n",
    "            X_test_internal = test_principal_components[pca_features]\n",
    "    \n",
    "        if adjustment_flag == True:\n",
    "            model = RandomForestClassifier(max_samples=81, min_samples_leaf=3,n_estimators=300)\n",
    "        else:\n",
    "            model = RandomForestClassifier()\n",
    "\n",
    "        #train a new model \n",
    "        model.fit(X_train_internal, y_train_internal)\n",
    "\n",
    "        #predict the test data\n",
    "        pred = model.predict(X_test_internal)\n",
    "        prob = model.predict_proba(X_test_internal)\n",
    "\n",
    "        #save results\n",
    "        probabilities[i] = pd.Series(prob[:,1], index = X_test_internal.index)\n",
    "        acc = accuracy_score(y_test_internal, pred)\n",
    "        train_indexes.append(list(X_train_internal.index))\n",
    "\n",
    "        if i%20==0:\n",
    "            #prevent dfs from becoming too fragmented\n",
    "            probabilities = probabilities.copy()\n",
    "            coefs = coefs.copy()\n",
    "\n",
    "    probabilities = probabilities.merge(data[['phenotype']], left_index=True, right_index=True)\n",
    "    AUCs = pd.DataFrame()\n",
    "    probabilities = probabilities.merge(data[['fraction','Status','Stage']], left_index=True, right_index=True)\n",
    "\n",
    "    for i in range(iterations):\n",
    "        current_dict = {}\n",
    "        current = probabilities[~(probabilities[i].isnull())][['phenotype','fraction','Status','Stage',i]].copy()\n",
    "\n",
    "        #overall accuracy and AUC\n",
    "        group = 'overall'\n",
    "        fpr,tpr,_ = roc_curve(current['phenotype'],current[i])\n",
    "        AUC = auc(fpr,tpr)\n",
    "        current_dict[group] = AUC\n",
    "        del(AUC,group,fpr,tpr)\n",
    "\n",
    "        #separate out the healthy samples to be used in every AUC\n",
    "        healthy_df = current[current['phenotype']==0]\n",
    "        cancer_df = current[current['phenotype']==1]\n",
    "        del(current)\n",
    "\n",
    "        for group,df in cancer_df.groupby('Status'):\n",
    "            if group == 'Duodenal_Cancer':\n",
    "                continue\n",
    "\n",
    "            df2 = df.append(healthy_df, ignore_index=True)\n",
    "            fpr,tpr,_ = roc_curve(df2['phenotype'],df2[i])\n",
    "            AUC = auc(fpr,tpr)\n",
    "            current_dict[group] = AUC\n",
    "            del(AUC,group,fpr,tpr)\n",
    "\n",
    "        AUCs = AUCs.append(pd.Series(current_dict), ignore_index=True)\n",
    "\n",
    "    CIs = pd.DataFrame([AUCs.median(), AUCs.quantile(.025), AUCs.quantile(.975)]).T\n",
    "    CIs = CIs.rename(columns = {'Unnamed 0':'median'}) \n",
    "    return(acc,CIs)"
   ]
  },
  {
   "cell_type": "code",
   "execution_count": 44,
   "id": "21ad5684",
   "metadata": {},
   "outputs": [],
   "source": [
    "def hyperparameter_optimization_RF(data, PCA_flag, HPO_type, iterations):\n",
    "    fraction_variance = .8\n",
    "    probabilities = pd.DataFrame(index=data.index)\n",
    "    coefs = pd.DataFrame(index=features)\n",
    "    train_indexes = []\n",
    "\n",
    "    # Loop for each iteration\n",
    "    for i in range(iterations):\n",
    "\n",
    "        train_internal,test_internal = train_test_split(data, test_size = 0.25, random_state = i+100) #, random_state = 42\n",
    "        X_train_internal = train_internal[features]\n",
    "        y_train_internal = train_internal.loc[:,\"phenotype\"]\n",
    "        X_test_internal = test_internal[features]\n",
    "        y_test_internal = test_internal.loc[:,\"phenotype\"]\n",
    "        \n",
    "        if PCA_flag == True:\n",
    "            #perform PCA on the training set\n",
    "            n_components = min(len(features), len(X_train_internal))\n",
    "            pca = PCA(n_components=n_components, svd_solver='randomized', random_state = 100)\n",
    "            PCs = pca.fit_transform(X_train_internal[features])\n",
    "            principal_components = pd.DataFrame(data = PCs, columns = ['PC_'+str(m) for m in np.arange(n_components)], index = X_train_internal.index)\n",
    "\n",
    "            #find the principle components that make up 80% of the varience\n",
    "            for j in range(len(pca.explained_variance_ratio_)):\n",
    "                current_sum = pca.explained_variance_ratio_[:j].sum()\n",
    "                if current_sum>=fraction_variance:\n",
    "                    break\n",
    "            pca_features = ['PC_'+str(m) for m in np.arange(0,j)]\n",
    "\n",
    "            #apply to the test data\n",
    "            test_PCs = pca.transform(X_test_internal[features])\n",
    "            test_principal_components = pd.DataFrame(data = test_PCs , columns = ['PC_'+str(m) for m in np.arange(n_components)], index = X_test_internal.index)\n",
    "\n",
    "            X_train_internal = principal_components[pca_features]\n",
    "            X_test_internal = test_principal_components[pca_features]\n",
    "        \n",
    "        if HPO_type == \"random\" and i == 0:\n",
    "            n_estimators = range(100,501,50) #list [start:stop:step], np arange\n",
    "            #max_features = np.arange(50,251,50)\n",
    "            min_samples_leaf = range(2,6)\n",
    "            max_samples = np.arange(61,73,2)\n",
    "            #max_depth = range(3,16)\n",
    "\n",
    "            random_grid = {'n_estimators': n_estimators,\n",
    "                           #'max_features': max_features,\n",
    "                           'min_samples_leaf': min_samples_leaf, \n",
    "                           'max_samples': max_samples,\n",
    "                           'bootstrap': [True]} \n",
    "                           #'max_depth': max_depth}\n",
    "\n",
    "            cv = StratifiedKFold(n_splits=10, shuffle=True, random_state = i+100) \n",
    "            rf = RandomForestClassifier()\n",
    "            random_search = RandomizedSearchCV(estimator = rf, param_distributions = random_grid, n_iter = 500, cv = cv, verbose=2, random_state=41, n_jobs = -1)\n",
    "            random_search.fit(X_train_internal, y_train_internal)\n",
    "\n",
    "            best_n_estimators = random_search.best_params_['n_estimators']\n",
    "            #best_max_features = random_search.best_params_['max_features']\n",
    "            best_min_samples_leaf = random_search.best_params_['min_samples_leaf']\n",
    "            best_max_samples = random_search.best_params_['max_samples']\n",
    "        \n",
    "        if HPO_type == \"grid\" and i == 0:\n",
    "            n_estimators = range(100,501,50) #list [start:stop:step], np arange\n",
    "            #max_features = np.arange(50,251,50)\n",
    "            min_samples_leaf = range(2,6)\n",
    "            max_samples = np.arange(61,73,2)\n",
    "            #max_depth = range(3,16)\n",
    "\n",
    "            full_grid = {'n_estimators': n_estimators,\n",
    "                       #'max_features': max_features,\n",
    "                       'min_samples_leaf': min_samples_leaf, \n",
    "                       'max_samples': max_samples,\n",
    "                       'bootstrap': [True]} \n",
    "                       #'max_depth': max_depth}\n",
    "\n",
    "            cv = StratifiedKFold(n_splits=10, shuffle=True, random_state = i+100) \n",
    "            rf = RandomForestClassifier()\n",
    "            grid_search = GridSearchCV(estimator = rf, param_grid = full_grid,  cv = cv, verbose=2, n_jobs = -1)\n",
    "            grid_search.fit(X_train_internal, y_train_internal)\n",
    "\n",
    "            best_n_estimators = grid_search.best_params_['n_estimators']\n",
    "            #best_max_features = grid_search.best_params_['max_features']\n",
    "            best_min_samples_leaf = grid_search.best_params_['min_samples_leaf']\n",
    "            best_max_samples = grid_search.best_params_['max_samples']\n",
    "        \n",
    "        model = RandomForestClassifier(max_samples=best_max_samples, min_samples_leaf=best_min_samples_leaf, n_estimators=best_n_estimators)\n",
    "        \n",
    "        #train a new model \n",
    "        model.fit(X_train_internal, y_train_internal)\n",
    "\n",
    "        #predict the test data\n",
    "        pred = model.predict(X_test_internal)\n",
    "        prob = model.predict_proba(X_test_internal)\n",
    "\n",
    "        #save results\n",
    "        probabilities[i] = pd.Series(prob[:,1], index = X_test_internal.index)\n",
    "        acc = accuracy_score(y_test_internal, pred)\n",
    "        train_indexes.append(list(X_train_internal.index))\n",
    "\n",
    "        if i%20==0:\n",
    "            #prevent dfs from becoming too fragmented\n",
    "            probabilities = probabilities.copy()\n",
    "            coefs = coefs.copy()\n",
    "\n",
    "    probabilities = probabilities.merge(data[['phenotype']], left_index=True, right_index=True)\n",
    "    AUCs = pd.DataFrame()\n",
    "    probabilities = probabilities.merge(data[['fraction','Status','Stage']], left_index=True, right_index=True)\n",
    "\n",
    "    for i in range(iterations):\n",
    "        current_dict = {}\n",
    "        current = probabilities[~(probabilities[i].isnull())][['phenotype','fraction','Status','Stage',i]].copy()\n",
    "\n",
    "        #overall accuracy and AUC\n",
    "        group = 'overall'\n",
    "        fpr,tpr,_ = roc_curve(current['phenotype'],current[i])\n",
    "        AUC = auc(fpr,tpr)\n",
    "        current_dict[group] = AUC\n",
    "        del(AUC,group,fpr,tpr)\n",
    "\n",
    "        #separate out the healthy samples to be used in every AUC\n",
    "        healthy_df = current[current['phenotype']==0]\n",
    "        cancer_df = current[current['phenotype']==1]\n",
    "        del(current)\n",
    "\n",
    "        for group,df in cancer_df.groupby('Status'):\n",
    "            if group == 'Duodenal_Cancer':\n",
    "                continue\n",
    "\n",
    "            df2 = df.append(healthy_df, ignore_index=True)\n",
    "            fpr,tpr,_ = roc_curve(df2['phenotype'],df2[i])\n",
    "            AUC = auc(fpr,tpr)\n",
    "            current_dict[group] = AUC\n",
    "            del(AUC,group,fpr,tpr)\n",
    "\n",
    "        AUCs = AUCs.append(pd.Series(current_dict), ignore_index=True)\n",
    "\n",
    "    CIs = pd.DataFrame([AUCs.median(), AUCs.quantile(.025), AUCs.quantile(.975)]).T\n",
    "    CIs = CIs.rename(columns = {'Unnamed 0':'median'}) \n",
    "    return(acc,CIs)"
   ]
  },
  {
   "cell_type": "markdown",
   "id": "29807cdb",
   "metadata": {},
   "source": [
    "# Random Forest Classifier\n",
    "First try"
   ]
  },
  {
   "cell_type": "code",
   "execution_count": 13,
   "id": "7defd556",
   "metadata": {},
   "outputs": [
    {
     "data": {
      "text/plain": [
       "0.7407407407407407"
      ]
     },
     "execution_count": 13,
     "metadata": {},
     "output_type": "execute_result"
    }
   ],
   "source": [
    "# train model\n",
    "rf_all_default = RandomForestClassifier(random_state = 42)\n",
    "rf_all_default.fit(X_train, y_train)\n",
    "\n",
    "# test model\n",
    "predict_train = rf_all_default.predict(X_train)\n",
    "predict_test = rf_all_default.predict(X_test)\n",
    "probability_test = rf_all_default.predict_proba(X_test)\n",
    "\n",
    "accuracy_score(y_test, predict_test)"
   ]
  },
  {
   "cell_type": "code",
   "execution_count": 14,
   "id": "57b1b1bc",
   "metadata": {},
   "outputs": [
    {
     "data": {
      "text/html": [
       "<div>\n",
       "<style scoped>\n",
       "    .dataframe tbody tr th:only-of-type {\n",
       "        vertical-align: middle;\n",
       "    }\n",
       "\n",
       "    .dataframe tbody tr th {\n",
       "        vertical-align: top;\n",
       "    }\n",
       "\n",
       "    .dataframe thead th {\n",
       "        text-align: right;\n",
       "    }\n",
       "</style>\n",
       "<table border=\"1\" class=\"dataframe\">\n",
       "  <thead>\n",
       "    <tr style=\"text-align: right;\">\n",
       "      <th></th>\n",
       "      <th>median</th>\n",
       "      <th>0.025</th>\n",
       "      <th>0.975</th>\n",
       "    </tr>\n",
       "  </thead>\n",
       "  <tbody>\n",
       "    <tr>\n",
       "      <th>1.0X</th>\n",
       "      <td>1.000000</td>\n",
       "      <td>1.000000</td>\n",
       "      <td>1.000000</td>\n",
       "    </tr>\n",
       "    <tr>\n",
       "      <th>2.0X</th>\n",
       "      <td>0.792308</td>\n",
       "      <td>0.792308</td>\n",
       "      <td>0.792308</td>\n",
       "    </tr>\n",
       "    <tr>\n",
       "      <th>3.0X</th>\n",
       "      <td>0.865385</td>\n",
       "      <td>0.865385</td>\n",
       "      <td>0.865385</td>\n",
       "    </tr>\n",
       "    <tr>\n",
       "      <th>breast_cancer</th>\n",
       "      <td>0.832418</td>\n",
       "      <td>0.832418</td>\n",
       "      <td>0.832418</td>\n",
       "    </tr>\n",
       "    <tr>\n",
       "      <th>overall</th>\n",
       "      <td>0.832418</td>\n",
       "      <td>0.832418</td>\n",
       "      <td>0.832418</td>\n",
       "    </tr>\n",
       "  </tbody>\n",
       "</table>\n",
       "</div>"
      ],
      "text/plain": [
       "                 median     0.025     0.975\n",
       "1.0X           1.000000  1.000000  1.000000\n",
       "2.0X           0.792308  0.792308  0.792308\n",
       "3.0X           0.865385  0.865385  0.865385\n",
       "breast_cancer  0.832418  0.832418  0.832418\n",
       "overall        0.832418  0.832418  0.832418"
      ]
     },
     "execution_count": 14,
     "metadata": {},
     "output_type": "execute_result"
    }
   ],
   "source": [
    "AUCs,CIs,mean_fpr,mean_tpr = get_AUC_griffin(probability_test,data)\n",
    "CIs"
   ]
  },
  {
   "cell_type": "code",
   "execution_count": 15,
   "id": "21274bf0",
   "metadata": {
    "scrolled": true
   },
   "outputs": [
    {
     "data": {
      "text/plain": [
       "<sklearn.metrics._plot.roc_curve.RocCurveDisplay at 0x155065fd18e0>"
      ]
     },
     "execution_count": 15,
     "metadata": {},
     "output_type": "execute_result"
    },
    {
     "data": {
      "image/png": "[encoded data removed]",
      "text/plain": [
       "<Figure size 432x288 with 1 Axes>"
      ]
     },
     "metadata": {
      "needs_background": "light"
     },
     "output_type": "display_data"
    }
   ],
   "source": [
    "# display ROC curve\n",
    "fpr,tpr,roc_auc = roc_data(probability_test,data)\n",
    "roc_auc = auc(fpr, tpr)\n",
    "display = RocCurveDisplay(fpr=fpr, tpr=tpr, roc_auc=roc_auc, estimator_name='breast cancer')\n",
    "display.plot()"
   ]
  },
  {
   "cell_type": "markdown",
   "id": "5a9e47d6",
   "metadata": {},
   "source": [
    "# Random Forest Classifier\n",
    "First train a random forest with all features on default parameters"
   ]
  },
  {
   "cell_type": "code",
   "execution_count": 16,
   "id": "71ec9866",
   "metadata": {},
   "outputs": [
    {
     "name": "stdout",
     "output_type": "stream",
     "text": [
      "0.7037037037037037\n",
      "               median  0.025  0.975\n",
      "breast_cancer     0.7    0.7    0.7\n",
      "overall           0.7    0.7    0.7\n"
     ]
    }
   ],
   "source": [
    "# default model \n",
    "acc,CIs = calculate_RF(data, False, False, 1)\n",
    "print(acc)\n",
    "print(CIs)"
   ]
  },
  {
   "cell_type": "code",
   "execution_count": 17,
   "id": "db10eacc",
   "metadata": {},
   "outputs": [
    {
     "name": "stdout",
     "output_type": "stream",
     "text": [
      "0.5925925925925926\n",
      "                 median    0.025     0.975\n",
      "breast_cancer  0.857143  0.69316  0.972277\n",
      "overall        0.857143  0.69316  0.972277\n"
     ]
    }
   ],
   "source": [
    "# default model over 1,000 iterations\n",
    "acc,CIs = calculate_RF(data, False, False, 1000)\n",
    "print(acc)\n",
    "print(CIs)"
   ]
  },
  {
   "cell_type": "code",
   "execution_count": 18,
   "id": "aa15241f",
   "metadata": {},
   "outputs": [
    {
     "name": "stdout",
     "output_type": "stream",
     "text": [
      "0.6296296296296297\n",
      "                 median     0.025     0.975\n",
      "breast_cancer  0.702778  0.702778  0.702778\n",
      "overall        0.702778  0.702778  0.702778\n"
     ]
    }
   ],
   "source": [
    "# default model using Principal Component Analysis to reduce dimensionality\n",
    "acc,CIs = calculate_RF(data, True, False, 1)\n",
    "print(acc)\n",
    "print(CIs)"
   ]
  },
  {
   "cell_type": "code",
   "execution_count": 19,
   "id": "a971c30b",
   "metadata": {},
   "outputs": [
    {
     "name": "stdout",
     "output_type": "stream",
     "text": [
      "0.6666666666666666\n",
      "                 median     0.025     0.975\n",
      "breast_cancer  0.616572  0.401086  0.795499\n",
      "overall        0.616572  0.401086  0.795499\n"
     ]
    }
   ],
   "source": [
    "# default model using Principal Component Analysis to reduce dimensionality over 1,000 iterations\n",
    "acc,CIs = calculate_RF(data, True, False, 1000)\n",
    "print(acc)\n",
    "print(CIs)"
   ]
  },
  {
   "cell_type": "markdown",
   "id": "079f3c72",
   "metadata": {},
   "source": [
    "Rerun the models using scaled data."
   ]
  },
  {
   "cell_type": "code",
   "execution_count": 20,
   "id": "c576d1a2",
   "metadata": {},
   "outputs": [
    {
     "name": "stdout",
     "output_type": "stream",
     "text": [
      "0.6296296296296297\n",
      "                 median     0.025     0.975\n",
      "breast_cancer  0.688889  0.688889  0.688889\n",
      "overall        0.688889  0.688889  0.688889\n"
     ]
    }
   ],
   "source": [
    "# default model with scaled data\n",
    "acc,CIs = calculate_RF(scaled_data, False, False, 1)\n",
    "print(acc)\n",
    "print(CIs)"
   ]
  },
  {
   "cell_type": "code",
   "execution_count": 21,
   "id": "612d79af",
   "metadata": {},
   "outputs": [
    {
     "name": "stdout",
     "output_type": "stream",
     "text": [
      "0.6296296296296297\n",
      "                 median     0.025     0.975\n",
      "breast_cancer  0.858333  0.699972  0.974446\n",
      "overall        0.858333  0.699972  0.974446\n"
     ]
    }
   ],
   "source": [
    "# default model over 1,000 iterations with scaled data\n",
    "acc,CIs = calculate_RF(scaled_data, False, False, 1000)\n",
    "print(acc)\n",
    "print(CIs)"
   ]
  },
  {
   "cell_type": "code",
   "execution_count": 22,
   "id": "0058ff53",
   "metadata": {},
   "outputs": [
    {
     "name": "stdout",
     "output_type": "stream",
     "text": [
      "0.5185185185185185\n",
      "                 median     0.025     0.975\n",
      "breast_cancer  0.583333  0.583333  0.583333\n",
      "overall        0.583333  0.583333  0.583333\n"
     ]
    }
   ],
   "source": [
    "# default model using Principal Component Analysis to reduce dimensionality with scaled data\n",
    "acc,CIs = calculate_RF(scaled_data, True, False, 1)\n",
    "print(acc)\n",
    "print(CIs)"
   ]
  },
  {
   "cell_type": "code",
   "execution_count": 23,
   "id": "13ac43ea",
   "metadata": {},
   "outputs": [
    {
     "name": "stdout",
     "output_type": "stream",
     "text": [
      "0.5555555555555556\n",
      "                 median     0.025     0.975\n",
      "breast_cancer  0.801136  0.644066  0.933333\n",
      "overall        0.801136  0.644066  0.933333\n"
     ]
    }
   ],
   "source": [
    "# default model using Principal Component Analysis to reduce dimensionality over 1,000 iterations with scaled data\n",
    "acc,CIs = calculate_RF(scaled_data, True, False, 1000)\n",
    "print(acc)\n",
    "print(CIs)"
   ]
  },
  {
   "cell_type": "markdown",
   "id": "d205b249",
   "metadata": {},
   "source": [
    "Now use a random forest model with adjusted hyperparameters."
   ]
  },
  {
   "cell_type": "code",
   "execution_count": 24,
   "id": "56e9ab54",
   "metadata": {},
   "outputs": [
    {
     "name": "stdout",
     "output_type": "stream",
     "text": [
      "0.6666666666666666\n",
      "                 median     0.025     0.975\n",
      "breast_cancer  0.738889  0.738889  0.738889\n",
      "overall        0.738889  0.738889  0.738889\n"
     ]
    }
   ],
   "source": [
    "# adjusted model \n",
    "acc,CIs = calculate_RF(data, False, True, 1)\n",
    "print(acc)\n",
    "print(CIs)"
   ]
  },
  {
   "cell_type": "code",
   "execution_count": 25,
   "id": "66eb5c0a",
   "metadata": {},
   "outputs": [
    {
     "name": "stdout",
     "output_type": "stream",
     "text": [
      "0.7037037037037037\n",
      "                 median     0.025     0.975\n",
      "breast_cancer  0.873626  0.722161  0.977778\n",
      "overall        0.873626  0.722161  0.977778\n"
     ]
    }
   ],
   "source": [
    "# adjusted model over 1,000 iterations\n",
    "acc,CIs = calculate_RF(data, False, True, 1000)\n",
    "print(acc)\n",
    "print(CIs)"
   ]
  },
  {
   "cell_type": "code",
   "execution_count": 26,
   "id": "e97ec42e",
   "metadata": {},
   "outputs": [
    {
     "name": "stdout",
     "output_type": "stream",
     "text": [
      "0.6296296296296297\n",
      "                 median     0.025     0.975\n",
      "breast_cancer  0.622222  0.622222  0.622222\n",
      "overall        0.622222  0.622222  0.622222\n"
     ]
    }
   ],
   "source": [
    "# adjusted model using Principal Component Analysis to reduce dimensionality\n",
    "acc,CIs = calculate_RF(data, True, True, 1)\n",
    "print(acc)\n",
    "print(CIs)"
   ]
  },
  {
   "cell_type": "code",
   "execution_count": 27,
   "id": "cd232454",
   "metadata": {},
   "outputs": [
    {
     "name": "stdout",
     "output_type": "stream",
     "text": [
      "0.5925925925925926\n",
      "                 median     0.025     0.975\n",
      "breast_cancer  0.618483  0.407129  0.811111\n",
      "overall        0.618483  0.407129  0.811111\n"
     ]
    }
   ],
   "source": [
    "# adjusted model using Principal Component Analysis to reduce dimensionality over 1,000 iterations\n",
    "acc,CIs = calculate_RF(data, True, True, 1000)\n",
    "print(acc)\n",
    "print(CIs)"
   ]
  },
  {
   "cell_type": "markdown",
   "id": "6a4b7bcc",
   "metadata": {},
   "source": [
    "And use the adjusted model with scaled data."
   ]
  },
  {
   "cell_type": "code",
   "execution_count": 28,
   "id": "b0e82f4e",
   "metadata": {},
   "outputs": [
    {
     "name": "stdout",
     "output_type": "stream",
     "text": [
      "0.7777777777777778\n",
      "                 median     0.025     0.975\n",
      "breast_cancer  0.794444  0.794444  0.794444\n",
      "overall        0.794444  0.794444  0.794444\n"
     ]
    }
   ],
   "source": [
    "# adjusted model with scaled data\n",
    "acc,CIs = calculate_RF(scaled_data, False, True, 1)\n",
    "print(acc)\n",
    "print(CIs)"
   ]
  },
  {
   "cell_type": "code",
   "execution_count": 29,
   "id": "0dfa192c",
   "metadata": {},
   "outputs": [
    {
     "name": "stdout",
     "output_type": "stream",
     "text": [
      "0.7037037037037037\n",
      "               median     0.025     0.975\n",
      "breast_cancer   0.875  0.714206  0.977778\n",
      "overall         0.875  0.714206  0.977778\n"
     ]
    }
   ],
   "source": [
    "# adjusted model over 1,000 iterations with scaled data\n",
    "acc,CIs = calculate_RF(scaled_data, False, True, 1000)\n",
    "print(acc)\n",
    "print(CIs)"
   ]
  },
  {
   "cell_type": "code",
   "execution_count": 30,
   "id": "ffd39bb7",
   "metadata": {},
   "outputs": [
    {
     "name": "stdout",
     "output_type": "stream",
     "text": [
      "0.6296296296296297\n",
      "               median  0.025  0.975\n",
      "breast_cancer    0.65   0.65   0.65\n",
      "overall          0.65   0.65   0.65\n"
     ]
    }
   ],
   "source": [
    "# adjusted model using Principal Component Analysis to reduce dimensionality with scaled data\n",
    "acc,CIs = calculate_RF(scaled_data, True, True, 1)\n",
    "print(acc)\n",
    "print(CIs)"
   ]
  },
  {
   "cell_type": "code",
   "execution_count": 31,
   "id": "afe7e1e0",
   "metadata": {},
   "outputs": [
    {
     "name": "stdout",
     "output_type": "stream",
     "text": [
      "0.6296296296296297\n",
      "                 median     0.025     0.975\n",
      "breast_cancer  0.807692  0.649959  0.938889\n",
      "overall        0.807692  0.649959  0.938889\n"
     ]
    }
   ],
   "source": [
    "# adjusted model using Principal Component Analysis to reduce dimensionality over 1,000 iterations with scaled data\n",
    "acc,CIs = calculate_RF(scaled_data, True, True, 1000)\n",
    "print(acc)\n",
    "print(CIs)"
   ]
  },
  {
   "cell_type": "markdown",
   "id": "e48da6b1",
   "metadata": {},
   "source": [
    "When comparing all these model, it shows that using scaled data does not improve the model. This was expected of a tree-based model. However, the scaled data was still used as it did not reduce model performance and is still needed for PCA, which is a linear approach to reduce dimensionality. It also makes all three models more comparable. \n",
    "PCA did not improve but rather reduce model performance. This means that still a model with way many features than samples is used and other ways need to be found to reduce dimensionality. PCA reduces dimensionality unaware of the sample's class abels and is therefore considered an unsupervised approach. This makes PCA a sub-optimal approach for the classification problem of this thesis."
   ]
  },
  {
   "cell_type": "code",
   "execution_count": null,
   "id": "0d3fe945",
   "metadata": {},
   "outputs": [],
   "source": []
  },
  {
   "cell_type": "markdown",
   "id": "82f0d76e",
   "metadata": {},
   "source": [
    "# Hyperparameter optimization\n",
    "Try different hyperparameter optimization techniques to find the optimal values for hyperparameters."
   ]
  },
  {
   "cell_type": "code",
   "execution_count": 33,
   "id": "d7f07754",
   "metadata": {},
   "outputs": [
    {
     "name": "stdout",
     "output_type": "stream",
     "text": [
      "Fitting 10 folds for each of 500 candidates, totalling 5000 fits\n"
     ]
    },
    {
     "data": {
      "text/plain": [
       "0.7407407407407407"
      ]
     },
     "execution_count": 33,
     "metadata": {},
     "output_type": "execute_result"
    }
   ],
   "source": [
    "### RF with all features using randomized search CV\n",
    "\n",
    "n_estimators = range(100,501,50) #list [start:stop:step], np arange\n",
    "max_features = np.arange(50,251,50)\n",
    "min_samples_leaf = range(2,6)\n",
    "max_samples = np.arange(61,73,2)\n",
    "max_depth = range(3,16)\n",
    "\n",
    "random_grid = {'n_estimators': n_estimators,\n",
    "               'max_features': max_features,\n",
    "               'min_samples_leaf': min_samples_leaf, \n",
    "               'max_samples': max_samples,\n",
    "               'max_depth': max_depth}\n",
    "\n",
    "\n",
    "cv = StratifiedKFold(n_splits=10, shuffle=True, random_state = 41) \n",
    "rf = RandomForestClassifier()\n",
    "rf_all_random = RandomizedSearchCV(estimator = rf, param_distributions = random_grid, n_iter = 500, cv = cv, verbose=2, random_state=41, n_jobs = -1)\n",
    "rf_all_random.fit(X_train, y_train)\n",
    "              \n",
    "predict_train = rf_all_random.predict(X_train)\n",
    "predict_test = rf_all_random.predict(X_test)\n",
    "probability_test = rf_all_random.predict_proba(X_test)\n",
    "\n",
    "accuracy_score(y_test, predict_test)"
   ]
  },
  {
   "cell_type": "code",
   "execution_count": 34,
   "id": "073d07cd",
   "metadata": {},
   "outputs": [
    {
     "name": "stdout",
     "output_type": "stream",
     "text": [
      "best score 0.8388888888888889\n",
      "best estimator RandomForestClassifier(max_depth=4, max_features=100, max_samples=61,\n",
      "                       min_samples_leaf=3, n_estimators=200)\n",
      "best params {'n_estimators': 200, 'min_samples_leaf': 3, 'max_samples': 61, 'max_features': 100, 'max_depth': 4}\n"
     ]
    }
   ],
   "source": [
    "# best_score_\n",
    "print('best score', rf_all_random.best_score_)\n",
    "\n",
    "# best_estimator_\n",
    "print('best estimator', rf_all_random.best_estimator_)\n",
    "\n",
    "# best_params_\n",
    "print('best params', rf_all_random.best_params_)"
   ]
  },
  {
   "cell_type": "code",
   "execution_count": 35,
   "id": "8e77ddc7",
   "metadata": {},
   "outputs": [
    {
     "data": {
      "text/plain": [
       "0.7037037037037037"
      ]
     },
     "execution_count": 35,
     "metadata": {},
     "output_type": "execute_result"
    }
   ],
   "source": [
    "### RF with all features on the parameters of random grid hyperparameter optimization\n",
    "\n",
    "# best params\n",
    "best_n_estimators = rf_all_random.best_params_['n_estimators']\n",
    "best_max_features = rf_all_random.best_params_['max_features']\n",
    "best_min_samples_leaf = rf_all_random.best_params_['min_samples_leaf']\n",
    "best_max_samples = rf_all_random.best_params_['max_samples']\n",
    "\n",
    "# train model\n",
    "rf_all_random_adj = RandomForestClassifier(max_features=best_max_features, max_samples=best_max_samples, min_samples_leaf=best_min_samples_leaf, n_estimators=best_n_estimators, random_state=41)\n",
    "rf_all_random_adj.fit(X_train, y_train)\n",
    "\n",
    "# test model\n",
    "\n",
    "predict_train = rf_all_random_adj.predict(X_train)\n",
    "predict_test = rf_all_random_adj.predict(X_test)\n",
    "probability_test = rf_all_random_adj.predict_proba(X_test)\n",
    "\n",
    "accuracy_score(y_test, predict_test)"
   ]
  },
  {
   "cell_type": "code",
   "execution_count": 36,
   "id": "61b06daa",
   "metadata": {},
   "outputs": [
    {
     "name": "stdout",
     "output_type": "stream",
     "text": [
      "Fitting 5 folds for each of 360 candidates, totalling 1800 fits\n"
     ]
    },
    {
     "data": {
      "text/plain": [
       "0.7037037037037037"
      ]
     },
     "execution_count": 36,
     "metadata": {},
     "output_type": "execute_result"
    }
   ],
   "source": [
    "### RF with all features using grid search CV\n",
    "\n",
    "n_estimators = range(100,501,50) #list [start:stop:step], np arange\n",
    "max_features = np.arange(50,251,50)\n",
    "min_samples_leaf = range(2,6)\n",
    "max_samples = np.arange(61,65,2)\n",
    "#max_depth = range(3,16)\n",
    "\n",
    "random_grid = {'n_estimators': n_estimators,\n",
    "               'max_features': max_features,\n",
    "               'min_samples_leaf': min_samples_leaf, \n",
    "               'max_samples': max_samples,\n",
    "               'bootstrap': [True]} \n",
    "               #'max_depth': max_depth}\n",
    "\n",
    "rf = RandomForestClassifier()\n",
    "rf_all_grid = GridSearchCV(estimator = rf, param_grid = random_grid,  cv = 5, verbose=2, n_jobs = -1)\n",
    "rf_all_grid.fit(X_train, y_train)\n",
    "              \n",
    "predict_train = rf_all_grid.predict(X_train)\n",
    "predict_test = rf_all_grid.predict(X_test)\n",
    "probability_test = rf_all_grid.predict_proba(X_test)\n",
    "\n",
    "accuracy_score(y_test, predict_test)"
   ]
  },
  {
   "cell_type": "code",
   "execution_count": 37,
   "id": "d22fe5ad",
   "metadata": {},
   "outputs": [
    {
     "name": "stdout",
     "output_type": "stream",
     "text": [
      "best score 0.8507352941176471\n",
      "best estimator RandomForestClassifier(max_features=50, max_samples=61, min_samples_leaf=2)\n",
      "best params {'bootstrap': True, 'max_features': 50, 'max_samples': 61, 'min_samples_leaf': 2, 'n_estimators': 100}\n"
     ]
    }
   ],
   "source": [
    "# best_score_\n",
    "print('best score', rf_all_grid.best_score_)\n",
    "\n",
    "# best_estimator_\n",
    "print('best estimator', rf_all_grid.best_estimator_)\n",
    "\n",
    "# best_params_\n",
    "print('best params', rf_all_grid.best_params_)"
   ]
  },
  {
   "cell_type": "code",
   "execution_count": 38,
   "id": "2bba30e4",
   "metadata": {},
   "outputs": [
    {
     "data": {
      "text/plain": [
       "0.7037037037037037"
      ]
     },
     "execution_count": 38,
     "metadata": {},
     "output_type": "execute_result"
    }
   ],
   "source": [
    "### RF with all features on the parameters of random grid hyperparameter optimization\n",
    "\n",
    "# best params\n",
    "best_n_estimators = rf_all_grid.best_params_['n_estimators']\n",
    "best_max_features = rf_all_grid.best_params_['max_features']\n",
    "best_min_samples_leaf = rf_all_grid.best_params_['min_samples_leaf']\n",
    "best_max_samples = rf_all_grid.best_params_['max_samples']\n",
    "\n",
    "# train model\n",
    "rf_all_grid_adj = RandomForestClassifier(max_features=best_max_features, max_samples=best_max_samples, min_samples_leaf=best_min_samples_leaf, n_estimators=best_n_estimators, random_state=41)\n",
    "rf_all_grid_adj.fit(X_train, y_train)\n",
    "\n",
    "# test model\n",
    "\n",
    "predict_train = rf_all_grid_adj.predict(X_train)\n",
    "predict_test = rf_all_grid_adj.predict(X_test)\n",
    "probability_test = rf_all_grid_adj.predict_proba(X_test)\n",
    "\n",
    "accuracy_score(y_test, predict_test)"
   ]
  },
  {
   "cell_type": "markdown",
   "id": "2d0f4cd7",
   "metadata": {},
   "source": [
    "Calculate model performance using random and grid search with different number of iterations using PCA to reduce the dimensionality or not."
   ]
  },
  {
   "cell_type": "code",
   "execution_count": 41,
   "id": "0be1ff33",
   "metadata": {},
   "outputs": [
    {
     "name": "stdout",
     "output_type": "stream",
     "text": [
      "Fitting 10 folds for each of 500 candidates, totalling 5000 fits\n",
      "0.7777777777777778\n",
      "                 median     0.025     0.975\n",
      "breast_cancer  0.755556  0.755556  0.755556\n",
      "overall        0.755556  0.755556  0.755556\n"
     ]
    }
   ],
   "source": [
    "# Random search without PCA\n",
    "acc,CIs = hyperparameter_optimization_RF(data, False, \"random\", 1)\n",
    "print(acc)\n",
    "print(CIs)"
   ]
  },
  {
   "cell_type": "code",
   "execution_count": 42,
   "id": "8cd4a529",
   "metadata": {},
   "outputs": [
    {
     "name": "stdout",
     "output_type": "stream",
     "text": [
      "Fitting 10 folds for each of 500 candidates, totalling 5000 fits\n",
      "0.7407407407407407\n",
      "                 median     0.025     0.975\n",
      "breast_cancer  0.862637  0.698864  0.966676\n",
      "overall        0.862637  0.698864  0.966676\n"
     ]
    }
   ],
   "source": [
    "# Random search without PCA over 1000 iterations\n",
    "acc,CIs = hyperparameter_optimization_RF(data, False, \"random\", 1000)\n",
    "print(acc)\n",
    "print(CIs)"
   ]
  },
  {
   "cell_type": "code",
   "execution_count": 45,
   "id": "5bb4104a",
   "metadata": {},
   "outputs": [
    {
     "name": "stderr",
     "output_type": "stream",
     "text": [
      "/fast/users/lburkar_m/work/miniconda/envs/jupyter/lib/python3.9/site-packages/sklearn/model_selection/_search.py:292: UserWarning: The total space of parameters 216 is smaller than n_iter=500. Running 216 iterations. For exhaustive searches, use GridSearchCV.\n",
      "  warnings.warn(\n"
     ]
    },
    {
     "name": "stdout",
     "output_type": "stream",
     "text": [
      "Fitting 10 folds for each of 216 candidates, totalling 2160 fits\n",
      "0.5925925925925926\n",
      "                 median     0.025     0.975\n",
      "breast_cancer  0.605719  0.394444  0.802205\n",
      "overall        0.605719  0.394444  0.802205\n"
     ]
    }
   ],
   "source": [
    "# Random search with PCA over 1000 iterations\n",
    "acc,CIs = hyperparameter_optimization_RF(data, True, \"random\", 1000)\n",
    "print(acc)\n",
    "print(CIs)"
   ]
  },
  {
   "cell_type": "code",
   "execution_count": 46,
   "id": "d03b939e",
   "metadata": {},
   "outputs": [
    {
     "name": "stdout",
     "output_type": "stream",
     "text": [
      "Fitting 10 folds for each of 216 candidates, totalling 2160 fits\n",
      "0.7037037037037037\n",
      "                 median     0.025     0.975\n",
      "breast_cancer  0.722222  0.722222  0.722222\n",
      "overall        0.722222  0.722222  0.722222\n"
     ]
    }
   ],
   "source": [
    "# Grid search without PCA\n",
    "acc,CIs = hyperparameter_optimization_RF(data, False, \"grid\", 1)\n",
    "print(acc)\n",
    "print(CIs)"
   ]
  },
  {
   "cell_type": "code",
   "execution_count": 47,
   "id": "2d8bcc85",
   "metadata": {},
   "outputs": [
    {
     "name": "stdout",
     "output_type": "stream",
     "text": [
      "Fitting 10 folds for each of 216 candidates, totalling 2160 fits\n",
      "0.7037037037037037\n",
      "                 median     0.025     0.975\n",
      "breast_cancer  0.869318  0.703694  0.977784\n",
      "overall        0.869318  0.703694  0.977784\n"
     ]
    }
   ],
   "source": [
    "# Grid search without PCA over 1000 iterations\n",
    "acc,CIs = hyperparameter_optimization_RF(data, False, \"grid\", 1000)\n",
    "print(acc)\n",
    "print(CIs)"
   ]
  },
  {
   "cell_type": "code",
   "execution_count": 48,
   "id": "5a24298f",
   "metadata": {},
   "outputs": [
    {
     "name": "stdout",
     "output_type": "stream",
     "text": [
      "Fitting 10 folds for each of 216 candidates, totalling 2160 fits\n",
      "0.5185185185185185\n",
      "                 median     0.025     0.975\n",
      "breast_cancer  0.607955  0.401099  0.807692\n",
      "overall        0.607955  0.401099  0.807692\n"
     ]
    }
   ],
   "source": [
    "# Grid search with PCA over 1000 iterations\n",
    "acc,CIs = hyperparameter_optimization_RF(data, True, \"grid\", 1000)\n",
    "print(acc)\n",
    "print(CIs)"
   ]
  },
  {
   "cell_type": "markdown",
   "id": "907ff8d5",
   "metadata": {},
   "source": [
    "Hyperparameter optimization is highly variable between different runs and gives worse results compared to the default model, which should not happen. If the default parameter give a better perfromance these should be used in HPO. (HPO optimizes for accuracy and therefore this should at least be the same.) This indicates that the optimization does not work. In a dataset tht suffers from the curse of dimensionality determining the optimal value for each parameter is challenging. In this scenario it might be better to set the parameter manually according to the requirement of the data."
   ]
  },
  {
   "cell_type": "code",
   "execution_count": null,
   "id": "0de23a0a",
   "metadata": {},
   "outputs": [],
   "source": []
  }
 ],
 "metadata": {
  "kernelspec": {
   "display_name": "Python 3",
   "language": "python",
   "name": "python3"
  },
  "language_info": {
   "codemirror_mode": {
    "name": "ipython",
    "version": 3
   },
   "file_extension": ".py",
   "mimetype": "text/x-python",
   "name": "python",
   "nbconvert_exporter": "python",
   "pygments_lexer": "ipython3",
   "version": "3.9.2"
  }
 },
 "nbformat": 4,
 "nbformat_minor": 5
}
